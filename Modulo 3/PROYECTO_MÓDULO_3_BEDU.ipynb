{
  "nbformat": 4,
  "nbformat_minor": 0,
  "metadata": {
    "colab": {
      "name": "PROYECTO MÓDULO 3 BEDU.ipynb",
      "provenance": [],
      "collapsed_sections": [],
      "include_colab_link": true
    },
    "kernelspec": {
      "display_name": "Python 3",
      "name": "python3"
    },
    "language_info": {
      "name": "python"
    }
  },
  "cells": [
    {
      "cell_type": "markdown",
      "metadata": {
        "id": "view-in-github",
        "colab_type": "text"
      },
      "source": [
        "<a href=\"https://colab.research.google.com/github/AvilaJulio/bedu-ds-equipo6/blob/main/PROYECTO_M%C3%93DULO_3_BEDU.ipynb\" target=\"_parent\"><img src=\"https://colab.research.google.com/assets/colab-badge.svg\" alt=\"Open In Colab\"/></a>"
      ]
    },
    {
      "cell_type": "markdown",
      "metadata": {
        "id": "QKpI1vhD6MMx"
      },
      "source": [
        "# **PROYECTO MÓDULO 3 DATA SCIENCE BEDU**\n",
        "# *Procesamiento de datos con Python*"
      ]
    },
    {
      "cell_type": "markdown",
      "metadata": {
        "id": "VSE6T-fTUMR9"
      },
      "source": [
        "## Equipo 6\n",
        "### Angélica Luna García\n",
        "### Jesús Iván Martín Reyes\n",
        "### Julio Cesar Avila Padilla\n",
        "### Manuel Herrera Flores\n",
        "### Marco Antonio Hernandez Peñafort\n",
        "### Kimberly Atara Lopez Vazquez\n"
      ]
    },
    {
      "cell_type": "markdown",
      "metadata": {
        "id": "eZ4WMSylUMqB"
      },
      "source": [
        "## **1.\tIdentificación del problema**  \n",
        "\n",
        "---\n",
        "\n"
      ]
    },
    {
      "cell_type": "markdown",
      "metadata": {
        "id": "7NugaKh9UU0g"
      },
      "source": [
        "##MARCO TEÓRICO\n",
        "La violencia en nuestro país es un problema grave. Las 6 ciudades más violentas del mundo están en México (EL PAÍS, 2021). Durante el 2018 se cometieron 33 millones de delitos en todo el país, asociados a 24.7 millones de víctimas, lo que significa que uno de cada tres hogares (33.9%) fue objeto de algún ilícito dicho año (INEGI). \n",
        "\n",
        "En la CDMX, donde hay más de 9 millones de habitantes (INEGI, 2020), domina la violencia, la inseguridad y, sobre todo, la impunidad. En la Ciudad de México, el 97.7 por ciento de los delitos queda impune. (México Evalúa, 2019).\n",
        "\n",
        "Estos datos son sumamente alarmantes, pues muestran un claro problema que aqueja a la sociedad y, a pesar de esto, las autoridades no parecen estar atacándolo de la manera correcta. \n",
        "\n",
        "“En nuestro país existe una tendencia generalizada a no resolver y/o solucionar los delitos que se conocen, a pesar de que sólo una pequeña parte de los delitos ocurridos llegan al conocimiento de las autoridades.”\n",
        "\n",
        "Mucho se ha especulado sobre este tema, muchos medios han publicado sus propios datos, y es por ello que nosotros hemos decidido trabajar con la base de datos OFICIAL que publica y actualiza el mismo gobierno capitalino, para poder identificar aquellas colonias y alcaldías en donde se cometen más delitos, observar tendencias, y poder sugerir acciones para atacar aquellas zonas más conflictivas.\n",
        "##JUSTIFICACIÓN\n",
        "Se eligió trabajar en este dataset por múltiples razones:\n",
        "-\tTrata un tema de relevancia social, puesto que a todas y todos nos concierne nuestra seguridad y bienestar.\n",
        "-\tTransparencia en los datos: todos los ciudadanos de la Ciudad de México, aquellos de la zona metropolitana que frecuentan dicha ciudad, y otros visitantes ya sean habituales o esporádicos, tienen el derecho a poder consultar dicha información, de una manera sencilla y entendible, por lo que decidimos darnos a la tarea de limpiar y filtrar los datos para en un futuro cercano poder visualizarlos a través de gráficos y mapas que faciliten su interpretación y valoración.\n",
        "-\tAl poder interpretar dicha información, nos podemos hacer cuestionamientos relevantes y forjarnos una opinión acerca de la condición actual de seguridad en la CDMX, que nos permitan exigir a nuestros gobernantes (con base en información fidedigna) que atiendan con mayor eficacia aquellos delitos que se encuentran al alza y focalicen esfuerzos en aquellas delegaciones y colonias donde se muestren tendencias más marcadas de delitos graves.\n",
        "-\tEs un proyecto escalable, puesto que, el análisis que se haga de la CDMX, se puede replicar en otras ciudades del país. El proyecto, además, tiene mucho potencial para posteriormente generar gráficos, mapas y demás figuras visuales que nos permitan interpretar aún más a fondo los datos.\n"
      ]
    },
    {
      "cell_type": "markdown",
      "metadata": {
        "id": "5lQPaSg_UgVL"
      },
      "source": [
        "## **2.\tPlanteamiento de preguntas**\n",
        "\n",
        "---\n",
        "\n"
      ]
    },
    {
      "cell_type": "markdown",
      "metadata": {
        "id": "yYM4fQgEVL_O"
      },
      "source": [
        "A través del análisis de la base de datos elegida, pretendemos dar respuesta a los siguientes cuestionamientos:\n",
        "-\t¿Qué tipos de delitos se cometen con mayor frecuencia?\n",
        "-\t¿En qué colonias y alcaldías se cometen el mayor número de delitos graves?\n",
        "-\t¿Qué tipos de delito han mostrado un crecimiento y decrecimiento en los últimos años? ¿En qué medida?\n",
        "-\t¿Qué tipos de delitos son los que más se cometen por alcaldía?\n",
        "-\t¿Qué delitos han son más comúnes cada año?\n",
        "-\t¿En qué horarios durante el día se cometen mayor número de algún tipo de delito?\n",
        "\n",
        "\n",
        "\n",
        "\n",
        "\n"
      ]
    },
    {
      "cell_type": "markdown",
      "metadata": {
        "id": "Kv4nurDuYqmc"
      },
      "source": [
        "## **3. Colección de datos** \n",
        "\n",
        "---\n",
        "\n"
      ]
    },
    {
      "cell_type": "markdown",
      "metadata": {
        "id": "KpISpKCAZezV"
      },
      "source": [
        "La colección de datos se obtuvo del Portal de datos abietos del Gobierno de la Ciudad de México. La colección se llama [*Carpetas de Investigación de la FGJ*](https://archivo.datos.cdmx.gob.mx/fiscalia-general-de-justicia/carpetas-de-investigacion-fgj-de-la-ciudad-de-mexico/carpetas_completa_junio_2021.csv), el cual puedes descargar en formato csv dando clic sobre el nombre. Si deseas descargarlo directamente de la página del Portal de datos abiertos, haz click [*aquí*](https://datos.cdmx.gob.mx/dataset/carpetas-de-investigacion-fgj-de-la-ciudad-de-mexico/resource/48fcb848-220c-4af0-839b-4fd8ac812c0f). \n",
        "\n",
        "Esta base de datos contiene la información actualizada de las carpetas de investigación de la Fiscalía General de Justicia (FGJ) de la Ciudad de México a partir de enero de 2016. Las variables que contiene esta base son Carpetas de investigación de delitos a nivel de calle de la FGJ por Fiscalía, Agencia, Unidad de Investigación, fecha de apertura de la carpeta de investigación, delito, categoría de delito, calle, colonia, alcaldía, coordenadas, mes y año. Esta información se actualiza mensualmente."
      ]
    },
    {
      "cell_type": "markdown",
      "metadata": {
        "id": "21H2MRMpT_cQ"
      },
      "source": [
        "## **4. Análisis exploratorio de datos**\n",
        "\n",
        "---\n",
        "\n"
      ]
    },
    {
      "cell_type": "markdown",
      "metadata": {
        "id": "NktUvdZv6m2X"
      },
      "source": [
        "### 4.1 Convertir el archivo CVS a un DataFrame de pandas"
      ]
    },
    {
      "cell_type": "code",
      "metadata": {
        "colab": {
          "base_uri": "https://localhost:8080/"
        },
        "id": "mZodba6-7UYk",
        "outputId": "55b739a3-c261-4337-c61c-0bd2252e1d06"
      },
      "source": [
        "# Realizamos la importación de la librería pandas:\n",
        "import pandas as pd\n",
        "\n",
        "# Leemos el archivo csv y consultamos el tipo de archivo generado:\n",
        "df = pd.read_csv('https://archivo.datos.cdmx.gob.mx/fiscalia-general-de-justicia/carpetas-de-investigacion-fgj-de-la-ciudad-de-mexico/carpetas_completa_junio_2021.csv', sep=',')\n",
        "type(df)\n",
        "\n"
      ],
      "execution_count": null,
      "outputs": [
        {
          "output_type": "stream",
          "text": [
            "/usr/local/lib/python3.7/dist-packages/IPython/core/interactiveshell.py:2718: DtypeWarning: Columns (15) have mixed types.Specify dtype option on import or set low_memory=False.\n",
            "  interactivity=interactivity, compiler=compiler, result=result)\n"
          ],
          "name": "stderr"
        },
        {
          "output_type": "execute_result",
          "data": {
            "text/plain": [
              "pandas.core.frame.DataFrame"
            ]
          },
          "metadata": {
            "tags": []
          },
          "execution_count": 1
        }
      ]
    },
    {
      "cell_type": "markdown",
      "metadata": {
        "id": "81DFt-jr8liv"
      },
      "source": [
        "### 4.2 Análisis exploratorio"
      ]
    },
    {
      "cell_type": "code",
      "metadata": {
        "colab": {
          "base_uri": "https://localhost:8080/"
        },
        "id": "lXSq7PNI8s3F",
        "outputId": "19aba39b-2a74-4e90-8aa5-1a8cd642ecb1"
      },
      "source": [
        "# Consultamos las dimensiones de nuestro 'df':\n",
        "df.shape"
      ],
      "execution_count": null,
      "outputs": [
        {
          "output_type": "execute_result",
          "data": {
            "text/plain": [
              "(1248924, 19)"
            ]
          },
          "metadata": {
            "tags": []
          },
          "execution_count": 2
        }
      ]
    },
    {
      "cell_type": "code",
      "metadata": {
        "colab": {
          "base_uri": "https://localhost:8080/",
          "height": 331
        },
        "id": "zHwmN8Gh8vMQ",
        "outputId": "2b50ef6f-9876-4136-cb52-3de8a5b3665c"
      },
      "source": [
        "# Consultamos las primeras 3 entradas del 'df':\n",
        "df.head(3)"
      ],
      "execution_count": null,
      "outputs": [
        {
          "output_type": "execute_result",
          "data": {
            "text/html": [
              "<div>\n",
              "<style scoped>\n",
              "    .dataframe tbody tr th:only-of-type {\n",
              "        vertical-align: middle;\n",
              "    }\n",
              "\n",
              "    .dataframe tbody tr th {\n",
              "        vertical-align: top;\n",
              "    }\n",
              "\n",
              "    .dataframe thead th {\n",
              "        text-align: right;\n",
              "    }\n",
              "</style>\n",
              "<table border=\"1\" class=\"dataframe\">\n",
              "  <thead>\n",
              "    <tr style=\"text-align: right;\">\n",
              "      <th></th>\n",
              "      <th>ao_hechos</th>\n",
              "      <th>mes_hechos</th>\n",
              "      <th>fecha_hechos</th>\n",
              "      <th>ao_inicio</th>\n",
              "      <th>mes_inicio</th>\n",
              "      <th>fecha_inicio</th>\n",
              "      <th>delito</th>\n",
              "      <th>fiscalia</th>\n",
              "      <th>agencia</th>\n",
              "      <th>unidad_investigacion</th>\n",
              "      <th>categoria_delito</th>\n",
              "      <th>calle_hechos</th>\n",
              "      <th>calle_hechos2</th>\n",
              "      <th>colonia_hechos</th>\n",
              "      <th>alcaldia_hechos</th>\n",
              "      <th>competencia</th>\n",
              "      <th>longitud</th>\n",
              "      <th>latitud</th>\n",
              "      <th>tempo</th>\n",
              "    </tr>\n",
              "  </thead>\n",
              "  <tbody>\n",
              "    <tr>\n",
              "      <th>0</th>\n",
              "      <td>2016.0</td>\n",
              "      <td>Enero</td>\n",
              "      <td>2016-01-31 22:16:00</td>\n",
              "      <td>2016</td>\n",
              "      <td>Febrero</td>\n",
              "      <td>2016-02-01 00:25:44</td>\n",
              "      <td>DAÑO EN PROPIEDAD AJENA INTENCIONAL</td>\n",
              "      <td>INVESTIGACIÓN EN BENITO JUÁREZ</td>\n",
              "      <td>BJ-2</td>\n",
              "      <td>UI-3CD</td>\n",
              "      <td>DELITO DE BAJO IMPACTO</td>\n",
              "      <td>CALZ. DE TLALPAN</td>\n",
              "      <td>LAGO PTE.</td>\n",
              "      <td>AMÉRICAS UNIDAS</td>\n",
              "      <td>BENITO JUAREZ</td>\n",
              "      <td>NaN</td>\n",
              "      <td>-99.140215</td>\n",
              "      <td>19.380315</td>\n",
              "      <td>NaN</td>\n",
              "    </tr>\n",
              "    <tr>\n",
              "      <th>1</th>\n",
              "      <td>2016.0</td>\n",
              "      <td>Enero</td>\n",
              "      <td>2016-01-31 20:50:00</td>\n",
              "      <td>2016</td>\n",
              "      <td>Febrero</td>\n",
              "      <td>2016-02-01 00:52:37</td>\n",
              "      <td>ROBO DE VEHICULO DE SERVICIO PARTICULAR CON VI...</td>\n",
              "      <td>INVESTIGACIÓN PARA LA ATENCIÓN DEL DELITO DE R...</td>\n",
              "      <td>ORIENTEII</td>\n",
              "      <td>UI-3CD</td>\n",
              "      <td>ROBO DE VEHÍCULO CON Y SIN VIOLENCIA</td>\n",
              "      <td>SUR 25 A</td>\n",
              "      <td>GRANJEROS</td>\n",
              "      <td>LOS CIPRESES</td>\n",
              "      <td>IZTAPALAPA</td>\n",
              "      <td>NaN</td>\n",
              "      <td>-99.108403</td>\n",
              "      <td>19.352859</td>\n",
              "      <td>NaN</td>\n",
              "    </tr>\n",
              "    <tr>\n",
              "      <th>2</th>\n",
              "      <td>2016.0</td>\n",
              "      <td>Febrero</td>\n",
              "      <td>2016-02-01 00:30:00</td>\n",
              "      <td>2016</td>\n",
              "      <td>Febrero</td>\n",
              "      <td>2016-02-01 01:33:26</td>\n",
              "      <td>NARCOMENUDEO POSESION SIMPLE</td>\n",
              "      <td>INVESTIGACIÓN PARA LA ATENCIÓN DE NIÑOS, NIÑAS...</td>\n",
              "      <td>57</td>\n",
              "      <td>UI-3CD</td>\n",
              "      <td>DELITO DE BAJO IMPACTO</td>\n",
              "      <td>BATALLONES ROJOS</td>\n",
              "      <td>NaN</td>\n",
              "      <td>UNIDAD VICENTE GUERRERO</td>\n",
              "      <td>IZTAPALAPA</td>\n",
              "      <td>NaN</td>\n",
              "      <td>-99.061321</td>\n",
              "      <td>19.356451</td>\n",
              "      <td>NaN</td>\n",
              "    </tr>\n",
              "  </tbody>\n",
              "</table>\n",
              "</div>"
            ],
            "text/plain": [
              "   ao_hechos mes_hechos         fecha_hechos  ...   longitud    latitud tempo\n",
              "0     2016.0      Enero  2016-01-31 22:16:00  ... -99.140215  19.380315   NaN\n",
              "1     2016.0      Enero  2016-01-31 20:50:00  ... -99.108403  19.352859   NaN\n",
              "2     2016.0    Febrero  2016-02-01 00:30:00  ... -99.061321  19.356451   NaN\n",
              "\n",
              "[3 rows x 19 columns]"
            ]
          },
          "metadata": {
            "tags": []
          },
          "execution_count": 3
        }
      ]
    },
    {
      "cell_type": "code",
      "metadata": {
        "colab": {
          "base_uri": "https://localhost:8080/",
          "height": 314
        },
        "id": "870iaJU086NC",
        "outputId": "553f9bec-6de0-4237-abac-39fa239456a6"
      },
      "source": [
        "# Consultamos las últimas 3 entradas del 'df':\n",
        "df.tail(3)"
      ],
      "execution_count": null,
      "outputs": [
        {
          "output_type": "execute_result",
          "data": {
            "text/html": [
              "<div>\n",
              "<style scoped>\n",
              "    .dataframe tbody tr th:only-of-type {\n",
              "        vertical-align: middle;\n",
              "    }\n",
              "\n",
              "    .dataframe tbody tr th {\n",
              "        vertical-align: top;\n",
              "    }\n",
              "\n",
              "    .dataframe thead th {\n",
              "        text-align: right;\n",
              "    }\n",
              "</style>\n",
              "<table border=\"1\" class=\"dataframe\">\n",
              "  <thead>\n",
              "    <tr style=\"text-align: right;\">\n",
              "      <th></th>\n",
              "      <th>ao_hechos</th>\n",
              "      <th>mes_hechos</th>\n",
              "      <th>fecha_hechos</th>\n",
              "      <th>ao_inicio</th>\n",
              "      <th>mes_inicio</th>\n",
              "      <th>fecha_inicio</th>\n",
              "      <th>delito</th>\n",
              "      <th>fiscalia</th>\n",
              "      <th>agencia</th>\n",
              "      <th>unidad_investigacion</th>\n",
              "      <th>categoria_delito</th>\n",
              "      <th>calle_hechos</th>\n",
              "      <th>calle_hechos2</th>\n",
              "      <th>colonia_hechos</th>\n",
              "      <th>alcaldia_hechos</th>\n",
              "      <th>competencia</th>\n",
              "      <th>longitud</th>\n",
              "      <th>latitud</th>\n",
              "      <th>tempo</th>\n",
              "    </tr>\n",
              "  </thead>\n",
              "  <tbody>\n",
              "    <tr>\n",
              "      <th>1248921</th>\n",
              "      <td>2021.0</td>\n",
              "      <td>Junio</td>\n",
              "      <td>2021-06-30 19:40:00</td>\n",
              "      <td>2021</td>\n",
              "      <td>Junio</td>\n",
              "      <td>2021-06-30 23:37:12</td>\n",
              "      <td>AMENAZAS</td>\n",
              "      <td>FISCALÍA DE INVESTIGACIÓN TERRITORIAL EN IZTAC...</td>\n",
              "      <td>IZC-2</td>\n",
              "      <td>UI-3SD</td>\n",
              "      <td>DELITO DE BAJO IMPACTO</td>\n",
              "      <td>CUATRO</td>\n",
              "      <td>NaN</td>\n",
              "      <td>AGRÍCOLA PANTITLAN</td>\n",
              "      <td>IZTACALCO</td>\n",
              "      <td>FUERO COMUN</td>\n",
              "      <td>-99.061716</td>\n",
              "      <td>19.419028</td>\n",
              "      <td>NaN</td>\n",
              "    </tr>\n",
              "    <tr>\n",
              "      <th>1248922</th>\n",
              "      <td>2021.0</td>\n",
              "      <td>Mayo</td>\n",
              "      <td>2021-05-16 21:08:00</td>\n",
              "      <td>2021</td>\n",
              "      <td>Junio</td>\n",
              "      <td>2021-06-30 23:45:57</td>\n",
              "      <td>DAÑO EN PROPIEDAD AJENA INTENCIONAL</td>\n",
              "      <td>FISCALÍA DE INVESTIGACIÓN TERRITORIAL EN CUAUH...</td>\n",
              "      <td>CUH-7</td>\n",
              "      <td>UI-3SD</td>\n",
              "      <td>DELITO DE BAJO IMPACTO</td>\n",
              "      <td>ALVARO OBREGON</td>\n",
              "      <td>NaN</td>\n",
              "      <td>ROMA NORTE</td>\n",
              "      <td>CUAUHTEMOC</td>\n",
              "      <td>FUERO COMUN</td>\n",
              "      <td>-99.158994</td>\n",
              "      <td>19.418615</td>\n",
              "      <td>NaN</td>\n",
              "    </tr>\n",
              "    <tr>\n",
              "      <th>1248923</th>\n",
              "      <td>2021.0</td>\n",
              "      <td>Junio</td>\n",
              "      <td>2021-06-29 17:00:00</td>\n",
              "      <td>2021</td>\n",
              "      <td>Junio</td>\n",
              "      <td>2021-06-30 23:52:34</td>\n",
              "      <td>LESIONES INTENCIONALES POR ARMA BLANCA</td>\n",
              "      <td>FISCALÍA DE INVESTIGACIÓN TERRITORIAL EN IZTAP...</td>\n",
              "      <td>IZP-8</td>\n",
              "      <td>UI-3CD</td>\n",
              "      <td>DELITO DE BAJO IMPACTO</td>\n",
              "      <td>REFORMA # 100</td>\n",
              "      <td>NaN</td>\n",
              "      <td>LOMAS DE SAN LORENZO</td>\n",
              "      <td>IZTAPALAPA</td>\n",
              "      <td>FUERO COMUN</td>\n",
              "      <td>-99.069557</td>\n",
              "      <td>19.321406</td>\n",
              "      <td>NaN</td>\n",
              "    </tr>\n",
              "  </tbody>\n",
              "</table>\n",
              "</div>"
            ],
            "text/plain": [
              "         ao_hechos mes_hechos         fecha_hechos  ...   longitud    latitud tempo\n",
              "1248921     2021.0      Junio  2021-06-30 19:40:00  ... -99.061716  19.419028   NaN\n",
              "1248922     2021.0       Mayo  2021-05-16 21:08:00  ... -99.158994  19.418615   NaN\n",
              "1248923     2021.0      Junio  2021-06-29 17:00:00  ... -99.069557  19.321406   NaN\n",
              "\n",
              "[3 rows x 19 columns]"
            ]
          },
          "metadata": {
            "tags": []
          },
          "execution_count": 4
        }
      ]
    },
    {
      "cell_type": "code",
      "metadata": {
        "colab": {
          "base_uri": "https://localhost:8080/"
        },
        "id": "961fyWR5vpsa",
        "outputId": "0d4f5b7a-f0ef-400e-a16c-d076681598e4"
      },
      "source": [
        "# Revisamos el tipo de datos de cada columna y si contienen NaN's:\n",
        "df.info()"
      ],
      "execution_count": null,
      "outputs": [
        {
          "output_type": "stream",
          "text": [
            "<class 'pandas.core.frame.DataFrame'>\n",
            "RangeIndex: 1248924 entries, 0 to 1248923\n",
            "Data columns (total 19 columns):\n",
            " #   Column                Non-Null Count    Dtype  \n",
            "---  ------                --------------    -----  \n",
            " 0   ao_hechos             1248489 non-null  float64\n",
            " 1   mes_hechos            1248489 non-null  object \n",
            " 2   fecha_hechos          1248489 non-null  object \n",
            " 3   ao_inicio             1248924 non-null  int64  \n",
            " 4   mes_inicio            1248924 non-null  object \n",
            " 5   fecha_inicio          1248921 non-null  object \n",
            " 6   delito                1248924 non-null  object \n",
            " 7   fiscalia              1248922 non-null  object \n",
            " 8   agencia               1248924 non-null  object \n",
            " 9   unidad_investigacion  1248697 non-null  object \n",
            " 10  categoria_delito      1248924 non-null  object \n",
            " 11  calle_hechos          1245804 non-null  object \n",
            " 12  calle_hechos2         487246 non-null   object \n",
            " 13  colonia_hechos        1197664 non-null  object \n",
            " 14  alcaldia_hechos       1245436 non-null  object \n",
            " 15  competencia           184845 non-null   object \n",
            " 16  longitud              1198622 non-null  float64\n",
            " 17  latitud               1198622 non-null  float64\n",
            " 18  tempo                 0 non-null        float64\n",
            "dtypes: float64(4), int64(1), object(14)\n",
            "memory usage: 181.0+ MB\n"
          ],
          "name": "stdout"
        }
      ]
    },
    {
      "cell_type": "markdown",
      "metadata": {
        "id": "y6QHitbmwfd1"
      },
      "source": [
        "## **5. Limpieza de datos**\n",
        "\n",
        "---\n",
        "\n"
      ]
    },
    {
      "cell_type": "markdown",
      "metadata": {
        "id": "69iwNgpNyLXB"
      },
      "source": [
        "Antes de verificar la existencia de NaN eliminamos las columnas que no aportan información reelevante a nuestros objtivos y filtramos los datos a partir del año en que existe mayor número de registros de delitos y contenplando únicamente las alcadías de la CDMX. "
      ]
    },
    {
      "cell_type": "markdown",
      "metadata": {
        "id": "VjhkBGoL-uZI"
      },
      "source": [
        "### 5.1 Eliminando columnas "
      ]
    },
    {
      "cell_type": "code",
      "metadata": {
        "colab": {
          "base_uri": "https://localhost:8080/"
        },
        "id": "1UdhcmdG-IsT",
        "outputId": "778073b0-ebd3-4c3a-efd4-6748f824863d"
      },
      "source": [
        "# Eliminando 6 columnas que no serán parte del analisis:\n",
        "df_dropped = df.drop(columns=[\"unidad_investigacion\", \"agencia\", \"tempo\", \"competencia\", \"calle_hechos\", \"calle_hechos2\"])\n",
        "df_dropped.info()"
      ],
      "execution_count": null,
      "outputs": [
        {
          "output_type": "stream",
          "text": [
            "<class 'pandas.core.frame.DataFrame'>\n",
            "RangeIndex: 1248924 entries, 0 to 1248923\n",
            "Data columns (total 13 columns):\n",
            " #   Column            Non-Null Count    Dtype  \n",
            "---  ------            --------------    -----  \n",
            " 0   ao_hechos         1248489 non-null  float64\n",
            " 1   mes_hechos        1248489 non-null  object \n",
            " 2   fecha_hechos      1248489 non-null  object \n",
            " 3   ao_inicio         1248924 non-null  int64  \n",
            " 4   mes_inicio        1248924 non-null  object \n",
            " 5   fecha_inicio      1248921 non-null  object \n",
            " 6   delito            1248924 non-null  object \n",
            " 7   fiscalia          1248922 non-null  object \n",
            " 8   categoria_delito  1248924 non-null  object \n",
            " 9   colonia_hechos    1197664 non-null  object \n",
            " 10  alcaldia_hechos   1245436 non-null  object \n",
            " 11  longitud          1198622 non-null  float64\n",
            " 12  latitud           1198622 non-null  float64\n",
            "dtypes: float64(3), int64(1), object(9)\n",
            "memory usage: 123.9+ MB\n"
          ],
          "name": "stdout"
        }
      ]
    },
    {
      "cell_type": "markdown",
      "metadata": {
        "id": "nO6anQax_GH8"
      },
      "source": [
        "### 5.2 Filtrando los datos"
      ]
    },
    {
      "cell_type": "code",
      "metadata": {
        "colab": {
          "base_uri": "https://localhost:8080/"
        },
        "id": "AwY8cZIZipuj",
        "outputId": "37fe4f84-1692-4718-d724-af75300fd249"
      },
      "source": [
        "# Analizamos a  partir de qué año es pertinente filtrar los datos de acuerdo a la incidencia de delitos:\n",
        "df_dropped.groupby('ao_hechos')['categoria_delito'].count().tail(20)"
      ],
      "execution_count": null,
      "outputs": [
        {
          "output_type": "execute_result",
          "data": {
            "text/plain": [
              "ao_hechos\n",
              "2002.0       105\n",
              "2003.0       112\n",
              "2004.0       163\n",
              "2005.0       192\n",
              "2006.0       256\n",
              "2007.0       314\n",
              "2008.0       464\n",
              "2009.0       483\n",
              "2010.0       885\n",
              "2011.0      1053\n",
              "2012.0      1539\n",
              "2013.0      2175\n",
              "2014.0      4264\n",
              "2015.0     15942\n",
              "2016.0    194938\n",
              "2017.0    227131\n",
              "2018.0    253746\n",
              "2019.0    243392\n",
              "2020.0    199917\n",
              "2021.0    100587\n",
              "Name: categoria_delito, dtype: int64"
            ]
          },
          "metadata": {
            "tags": []
          },
          "execution_count": 7
        }
      ]
    },
    {
      "cell_type": "code",
      "metadata": {
        "colab": {
          "base_uri": "https://localhost:8080/"
        },
        "id": "dOs7Qv6ijJMg",
        "outputId": "cf0c5a82-463b-47e0-d3a9-02572a4033e8"
      },
      "source": [
        "# Con base en lo anterior decidimos filtrar los datos a partir del 'ao_hechos'>=2016:\n",
        "df_filtrado_1=df_dropped.loc[df_dropped['ao_hechos']>=2016]\n",
        "print(df_filtrado_1.head(3))\n",
        "print(df_filtrado_1.info())"
      ],
      "execution_count": null,
      "outputs": [
        {
          "output_type": "stream",
          "text": [
            "   ao_hechos mes_hechos  ...   longitud    latitud\n",
            "0     2016.0      Enero  ... -99.140215  19.380315\n",
            "1     2016.0      Enero  ... -99.108403  19.352859\n",
            "2     2016.0    Febrero  ... -99.061321  19.356451\n",
            "\n",
            "[3 rows x 13 columns]\n",
            "<class 'pandas.core.frame.DataFrame'>\n",
            "Int64Index: 1219711 entries, 0 to 1248923\n",
            "Data columns (total 13 columns):\n",
            " #   Column            Non-Null Count    Dtype  \n",
            "---  ------            --------------    -----  \n",
            " 0   ao_hechos         1219711 non-null  float64\n",
            " 1   mes_hechos        1219711 non-null  object \n",
            " 2   fecha_hechos      1219711 non-null  object \n",
            " 3   ao_inicio         1219711 non-null  int64  \n",
            " 4   mes_inicio        1219711 non-null  object \n",
            " 5   fecha_inicio      1219708 non-null  object \n",
            " 6   delito            1219711 non-null  object \n",
            " 7   fiscalia          1219709 non-null  object \n",
            " 8   categoria_delito  1219711 non-null  object \n",
            " 9   colonia_hechos    1170845 non-null  object \n",
            " 10  alcaldia_hechos   1216492 non-null  object \n",
            " 11  longitud          1171810 non-null  float64\n",
            " 12  latitud           1171810 non-null  float64\n",
            "dtypes: float64(3), int64(1), object(9)\n",
            "memory usage: 130.3+ MB\n",
            "None\n"
          ],
          "name": "stdout"
        }
      ]
    },
    {
      "cell_type": "code",
      "metadata": {
        "colab": {
          "base_uri": "https://localhost:8080/"
        },
        "id": "2QXbilTaDUh_",
        "outputId": "96f3ef16-486f-4da0-d7a5-1ca5c7fe0c00"
      },
      "source": [
        "# Contamos cuántas alcaldías están presentes en el df 'df_filtrado_1':\n",
        "df_filtrado_1['alcaldia_hechos'].unique()"
      ],
      "execution_count": null,
      "outputs": [
        {
          "output_type": "execute_result",
          "data": {
            "text/plain": [
              "array(['BENITO JUAREZ', 'IZTAPALAPA', 'CUAUHTEMOC', 'TLAHUAC',\n",
              "       'IZTACALCO', 'GUSTAVO A MADERO', 'MIGUEL HIDALGO', 'TLALPAN',\n",
              "       'ALVARO OBREGON', 'VENUSTIANO CARRANZA', 'AZCAPOTZALCO',\n",
              "       'CUAJIMALPA DE MORELOS', 'COYOACAN', 'XOCHIMILCO',\n",
              "       'LA MAGDALENA CONTRERAS', 'MILPA ALTA', 'VERACRUZ', 'TUXPAM',\n",
              "       'HUIXQUILUCAN', 'ECATEPEC DE MORELOS', 'SIN DATO', 'TULTEPEC',\n",
              "       'ACATZINGO', 'GUELATAO DE JUAREZ', 'TLALNEPANTLA DE BAZ',\n",
              "       'IXTAPALUCA', nan, 'NEZAHUALCOYOTL', 'CHALCO', 'TLATLAYA',\n",
              "       'NAUCALPAN DE JUAREZ', 'ZAPOPAN', 'VALLE DE CHALCO SOLIDARIDAD',\n",
              "       'TIANGUISTENCO', 'TEHUACAN', 'ACAPULCO DE JUAREZ', 'TEMASCALCINGO',\n",
              "       'CUERNAVACA', 'TULANCINGO DE BRAVO', 'CUAUTITLAN IZCALLI',\n",
              "       'CHICOLOAPAN', 'TOLUCA', 'TULTITLAN', 'BATOPILAS',\n",
              "       'ATIZAPAN DE ZARAGOZA', 'HUEHUETOCA', 'CHIMALHUACAN', 'OCOYOACAC',\n",
              "       'IGUALAPA', 'LA PAZ', 'NICOLAS ROMERO', 'ATIZAPAN', 'MONTERREY',\n",
              "       'TECAMAC', 'MEXICALI', 'MATIAS ROMERO', 'TANCITARO', 'DURANGO',\n",
              "       'ATENCO', 'SAN SALVADOR', 'PUEBLA', 'APIZACO', 'VILLA DE ZAACHILA',\n",
              "       'LERMA', 'TLANEPANTLA', 'CUAUTEPEC', 'COLON', 'CADEREYTA JIMENEZ',\n",
              "       'HUAMANTLA', 'SANTIAGO YOSONDUA', 'SAN PEDRO GARZA GARCIA',\n",
              "       'MINERAL DE LA REFORMA', 'TEXCOCO', 'CORREGIDORA', 'NUEVO LAREDO',\n",
              "       'CUAUTITLAN', 'JOQUICINGO', 'PINAL DE AMOLES', 'TIJUANA',\n",
              "       'OAXACA DE JUAREZ', 'ACOLMAN', 'MANZANILLO', 'GUANAJUATO',\n",
              "       'SAN FRANCISCO DEL RINCON', 'METEPEC', 'PUERTO VALLARTA',\n",
              "       'ZUMPANGO', 'TOLCAYUCA', 'CHILPANCINGO DE LOS BRAVO', 'CORTAZAR',\n",
              "       'COACALCO DE BERRIOZABAL', 'PAPALOTLA DE XICOHTENCATL', 'TLAXCALA',\n",
              "       'SANTA ANA MAYA', 'OTUMBA', 'SALAMANCA', 'SOLIDARIDAD',\n",
              "       'ISLA MUJERES', 'CULIACAN', 'SAN MATEO ATENCO', 'TIZAYUCA',\n",
              "       'TEOTIHUACAN', 'GUADALUPE', 'TEMAMATLA', 'COLIMA', 'GUAYMAS',\n",
              "       'VILLA DEL CARBON', 'VALLE DE BRAVO', 'ALVARADO', 'CAJEME',\n",
              "       'TENANCINGO', 'TEMIXCO', 'JOJUTLA', 'MORELIA', 'TETELA DE OCAMPO',\n",
              "       'ZIHUATANEJO DE  AZUETA', 'REYNOSA', 'TAXCO DE ALARCON', 'SILAO',\n",
              "       'ALMOLOYA DE JUAREZ', 'JILOTEPEC', 'PURISIMA DEL RINCON',\n",
              "       'LA UNION DE ISIDORO MONTES DE OCA', 'AMAXAC DE GUERRERO',\n",
              "       'MALINALCO', 'ZAUTLA', 'CUAUTLA', 'CALIMAYA', 'AMANALCO',\n",
              "       'ZACATECAS', 'POZA RICA DE HIDALGO', 'HUATABAMPO', 'JUCHITEPEC',\n",
              "       'PASO DEL MACHO', 'GOMEZ PALACIO', 'CELAYA', 'PUENTE DE IXTLA',\n",
              "       'COMITAN DE DOMINGUEZ', 'TLALNEPANTLA', 'VICTORIA', 'TELOLOAPAN',\n",
              "       'MERIDA', 'HERMOSILLO', 'XALATLACO', 'AYAPANGO', 'TEPETLAOXTOC',\n",
              "       'ZAPOTLAN DE JUAREZ', 'HUITZILAC', 'AMEALCO DE BONFIL',\n",
              "       'AMECAMECA', 'ATOYAC DE ALVAREZ', 'SAN ANDRES CHOLULA',\n",
              "       'EDUARDO NERI', 'LEON', 'TEZOYUCA', 'PACHUCA DE SOTO',\n",
              "       'TEOLOYUCAN', 'EL BOSQUE', 'YECAPIXTLA', 'EL ORO', 'TECOZAUTLA',\n",
              "       'ORIZABA', 'LA PIEDAD', 'MELCHOR OCAMPO', 'JALTIPAN', 'TLAYACAPAN',\n",
              "       'JOCOTITLAN', 'QUERETARO', 'GUADALAJARA', 'XALAPA', 'CALVILLO',\n",
              "       'BOCA DEL RIO', 'JIUTEPEC', 'URUAPAN', 'IRAPUATO', 'JALACINGO',\n",
              "       'TULA DE ALLENDE', 'EPAZOYUCAN', 'TLACHICHILCO', 'ZACATELCO',\n",
              "       'TENANGO DEL VALLE', 'TAPALPA', 'SAN MARTIN TEXMELUCAN',\n",
              "       'TLALTIZAPAN', 'COMONDU', 'ATLACOMULCO', 'NOPALTEPEC',\n",
              "       'APASEO EL GRANDE', 'TAPACHULA', 'VALLE DE SANTIAGO',\n",
              "       'TEOCALTICHE', 'AGUASCALIENTES', 'SAN JOSE DEL RINCON', 'ARMERIA',\n",
              "       'ATLATLAHUCAN', 'SULTEPEC', 'TEPOZTLAN', 'JALTENCO',\n",
              "       'SANTIAGO DE ANAYA', 'TEPIC', 'VILLA VICTORIA',\n",
              "       'IXCATEOPAN DE CUAUHTEMOC', 'AXAPUSCO', 'EBANO', 'ZACAPU',\n",
              "       'SAN NICOLAS DE LOS GARZA', 'TEPOTZOTLAN', 'SANTA MARIA HUATULCO',\n",
              "       'LOS CABOS', 'TLALMANALCO', 'IXTAPAN DEL ORO', 'ABALA', 'PARAISO',\n",
              "       'ZITACUARO', 'ZACAPOAXTLA', 'CHAMPOTON',\n",
              "       'ELOXOCHITLAN DE FLORES MAGON', 'ENSENADA', 'IXTLAHUACA',\n",
              "       'HUIMANGUILLO', 'XOCHITEPEC', 'SAN LUIS DE LA PAZ',\n",
              "       'IZUCAR DE MATAMOROS', 'VILLAHERMOSA O CENTRO', 'CARDENAS',\n",
              "       'SAN JUAN BAUTISTA TUXTEPEC', 'CALNALI', 'CARDONAL',\n",
              "       'TENANGO DEL AIRE', 'TLAPACOYAN', 'SALINA CRUZ', 'FRESNILLO',\n",
              "       'TIHUATLAN', 'ENCARNACION DE DIAZ', 'CADEREYTA DE MONTES',\n",
              "       'JALPAN DE SERRA', 'EL CARMEN TEQUEXQUITLA',\n",
              "       'ALMOLOYA DE ALQUISIRAS', 'TLAPEHUALA', 'TEQUIXQUIAC',\n",
              "       'JOSE MARIA MORELOS', 'EMILIANO ZAPATA', 'HUEHUETLA',\n",
              "       'HUAUCHINANGO', 'LERDO', 'CAÑADA MORELOS', 'COZUMEL',\n",
              "       'TEMASCALAPA', 'MOROLEON', 'NEXTLALPAN', 'LOS REYES', 'CHIHUAHUA',\n",
              "       'TETELA DEL VOLCAN', 'ROMITA', 'ALTAMIRA', 'MORELOS',\n",
              "       'SAN LUIS POTOSI', 'HUATUSCO', 'SANTA CRUZ XOXOCOTLAN', 'ATLAUTLA',\n",
              "       'MINATITLAN', 'TAMPICO', 'MATAMOROS', 'TENOSIQUE', 'ARROYO SECO',\n",
              "       'COCOTITLAN', 'CUAUTLANCINGO', 'PAPALOTLA', 'MAZATLAN', 'CORDOBA',\n",
              "       'CHILON', 'PARRAS', 'ALLENDE', 'GARCIA', 'BUCTZOTZ',\n",
              "       'OTHON P. BLANCO', 'SAN FELIPE DEL PROGRESO', 'PAPANTLA',\n",
              "       'EZEQUIEL MONTES', 'JIQUIPILCO', 'ZINACANTEPEC',\n",
              "       'CUETZALAN DEL PROGRESO', 'CERRO DE SAN PEDRO', 'CAMPECHE',\n",
              "       'ATLIXCO', 'ASCENSION', 'SAN JUAN DEL RIO', 'AHOME', 'TEPEAPULCO',\n",
              "       'FELIPE CARRILLO PUERTO', 'YEHUALTEPEC', 'PANUCO', 'CHICONCUAC',\n",
              "       'ACTOPAN', 'ALFAJAYUCAN', 'CATAZAJA', 'MACUSPANA', 'ZINAPECUARO',\n",
              "       'TLAJOMULCO DE ZUÑIGA', 'BUENAVENTURA',\n",
              "       'IGUALA DE LA INDEPENDENCIA', 'OMETEPEC', 'TECAMACHALCO', 'ACULCO',\n",
              "       'LAFRAGUA', 'METZTITLAN', 'ASIENTOS', 'NAUPAN', 'COENEO',\n",
              "       'IXMIQUILPAN', 'PENJAMO', 'COYUCA DE BENITEZ',\n",
              "       'ZAPOTLAN EL GRANDE', 'COATZACOALCOS', 'YAUTEPEC',\n",
              "       'SAN MARTIN DE LAS PIRAMIDES', 'XONACATLAN', 'TEJUPILCO',\n",
              "       'CIUDAD MADERO', 'SAN ANTONIO LA ISLA', 'SAN MIGUEL XOXTLA',\n",
              "       'PROGRESO DE OBREGON', 'VALLE HERMOSO', 'TEPEACA',\n",
              "       'CARRILLO PUERTO', 'TEOTITLAN DE FLORES MAGON', 'TUXTLA GUTIERREZ',\n",
              "       'HUIXTAN', 'SAN PEDRO POCHUTLA', 'ACAMBARO', 'VILLA DE ALLENDE',\n",
              "       'SAN PEDRO MIXTEPEC - DISTR. 22 -', 'GENERAL ESCOBEDO',\n",
              "       'TECOLUTLA', 'TARIMORO', 'ACAYUCAN', 'TOTOLAPAN', 'AHUATLAN',\n",
              "       'APAN', 'NACAJUCA', 'CIUDAD VALLES', 'APATZINGAN',\n",
              "       'ALTO LUCERO DE GUTIERREZ BARRIOS', 'TLAHUELILPAN',\n",
              "       'IXTAPAN DE LA SAL', 'ACAXOCHITLAN', 'COYOTEPEC', 'RIO BLANCO',\n",
              "       'YAUHQUEMECAN', 'TEPEJI DEL RIO DE OCAMPO', 'SAN PEDRO ATOYAC',\n",
              "       'ACONCHI', 'ATITALAQUIA', 'CALPULALPAN', 'TEQUISQUIAPAN',\n",
              "       'COMPOSTELA', 'CARMEN', 'HUEYAPAN DE OCAMPO', 'JARAL DEL PROGRESO',\n",
              "       'COYUCA DE CATALAN', 'TLAXCO', 'ZAMORA', 'TLANALAPA', 'HUEYPOXTLA',\n",
              "       'APODACA', 'ATOTONILCO EL GRANDE', 'JUAN GALINDO',\n",
              "       'DZILAM DE BRAVO', 'SAN PEDRO JICAYAN', 'TECATE', 'HUIXTLA',\n",
              "       'ESPAÑITA', 'MEDELLIN', 'CIUDAD DEL MAIZ', 'ATZITZINTLA',\n",
              "       'COPANATOYAC', 'LORETO', 'AHUMADA', 'LIBRES', 'ZEMPOALA',\n",
              "       'ACAMBAY', 'SAN GREGORIO ATZOMPA', 'PATZCUARO', 'BERRIOZABAL',\n",
              "       'SAN MATIAS TLALANCALECA', 'SENGUIO', 'SAN JUAN DE LOS LAGOS',\n",
              "       'CHARO', 'SAN BARTOLO COYOTEPEC', 'YURIRIA', 'MULEGE', 'AYALA',\n",
              "       'ACUAMANALA DE MIGUEL HIDALGO', 'LAZARO CARDENAS', 'MUZQUIZ',\n",
              "       'LOS REYES DE JUAREZ', 'DOLORES HIDALGO', 'MIACATLAN', 'MAGDALENA',\n",
              "       'LAGOS DE MORENO', 'JESUS MARIA', 'SABINAS', 'TOMATLAN',\n",
              "       'JALOSTOTITLAN', 'JUAREZ', 'MARIANO ESCOBEDO', 'CHIAUTLA',\n",
              "       'NOGALES', 'PEROTE', 'MINERAL DEL MONTE', 'MARAVATIO', 'ESPERANZA',\n",
              "       'NAVOJOA', 'ZACATLAN', 'XOCHICOATLAN', 'COPALA',\n",
              "       'SAN MIGUEL TOTOLAPAN', 'TECPAN DE GALEANA', 'TANCANHUITZ',\n",
              "       'XICOTEPEC', 'ATOTONILCO DE TULA', 'SANTA MARIA COYOTEPEC',\n",
              "       'CABO CORRIENTES', 'PETLALCINGO', 'CAPULHUAC', 'PISAFLORES',\n",
              "       'TULCINGO', 'TALA', 'TLAQUEPAQUE', 'IGNACIO DE LA LLAVE',\n",
              "       'CHIAPA DE CORZO', 'SAIN ALTO', 'TLACHICHUCA', 'PUNGARABATO',\n",
              "       'MIAHUATLAN DE PORFIRIO DIAZ', 'ECUANDUREO',\n",
              "       'SAN DIEGO DE LA UNION', 'SALTILLO', 'HUITZUCO DE LOS FIGUEROA',\n",
              "       'SAN PEDRO CHOLULA', 'SINALOA', 'TETEPANGO',\n",
              "       'TIQUICHEO DE NICOLAS ROMERO', 'HALACHO', 'CHIGNAHUAPAN',\n",
              "       'HOPELCHEN', 'NACO', 'SAN CRISTOBAL DE LAS CASAS',\n",
              "       'ZAPOTITLAN PALMAS', 'CHAPA DE MOTA', 'XICO',\n",
              "       'PUTLA VILLA DE GUERRERO', 'MATEHUALA', 'ACATLAN',\n",
              "       'SANTIAGO TULANTEPEC DE LUGO GUERRERO', 'CUAUTEPEC DE HINOJOSA',\n",
              "       'APETATITLAN DE ANTONIO CARVAJAL', 'TEMOAYA', 'CHAPULHUACAN',\n",
              "       'GENERAL HELIODORO CASTILLO', 'SAN FELIPE TEJALAPAM', 'APAXCO',\n",
              "       'FRANCISCO I. MADERO', 'AMATENANGO DEL VALLE', 'HIDALGO', 'IRIMBO',\n",
              "       'SANTA ANA', 'CHURINTZIO', 'AMOZOC', 'OMITLAN DE JUAREZ',\n",
              "       'TANHUATO', 'COATEPEC', 'OLUTA', 'BRISEÑAS',\n",
              "       'SAN JUAN BAUTISTA ATATLAHUCA', 'ARIO', 'JILOTZINGO',\n",
              "       'SANTO TOMAS', 'AQUILES SERDAN', 'RAFAEL DELGADO', 'ERONGARICUARO',\n",
              "       'EL SALTO', 'TENANGO DE DORIA', 'SAN FRANCISCO HUEHUETLAN',\n",
              "       'MISANTLA', 'TEHUITZINGO', 'AGUA PRIETA',\n",
              "       'ZITLALTEPEC DE TRINIDAD SANCHEZ SANTOS', 'Tulum',\n",
              "       'ALMOLOYA DEL RIO', 'CIENEGA DE FLORES', 'COMAPA', 'PALENQUE',\n",
              "       'TLAXCOAPAN', 'OCAMPO', 'LA MAGDALENA TLALTELULCO',\n",
              "       'SAN FRANCISCO JALTEPETONGO', 'TLAPA DE COMONFORT',\n",
              "       'TIERRA BLANCA', 'TONALA', 'TEPATITLAN DE MORELOS', 'QUIMIXTLAN',\n",
              "       'SAN SIMON DE GUERRERO', 'NANACAMILPA DE MARIANO ARISTA',\n",
              "       'ASUNCION NOCHIXTLAN', 'CUAPIAXTLA DE MADERO',\n",
              "       'SAN SALVADOR EL VERDE', 'ALPATLAHUAC', 'SAN JOSE ITURBIDE',\n",
              "       'CHICONTEPEC', 'AHUEHUETITLA', 'TIXTLA DE GUERRERO',\n",
              "       'COSAMALOAPAN DE CARPIO', 'BADIRAGUATO', 'TEXCALTITLAN',\n",
              "       'TEPETITLAN', 'SAN JOSE CHIAPA'], dtype=object)"
            ]
          },
          "metadata": {
            "tags": []
          },
          "execution_count": 9
        }
      ]
    },
    {
      "cell_type": "code",
      "metadata": {
        "colab": {
          "base_uri": "https://localhost:8080/"
        },
        "id": "mKZ_V7lUD-MS",
        "outputId": "01cae714-e061-48ed-d2db-e4bccc1450fe"
      },
      "source": [
        "# Al notar que la columna 'alcaldia_hechos' contiene alcaldías de todo el país, filtramos únicamente aquellas que corresponden a la CDMX\n",
        "# (16 alcaldías):\n",
        "alcadias_cdmx = ['BENITO JUAREZ',\n",
        "  'IZTAPALAPA',\n",
        "  'CUAUHTEMOC',\n",
        "  'TLAHUAC',\n",
        "  'IZTACALCO',\n",
        "  'GUSTAVO A MADERO',\n",
        "  'MIGUEL HIDALGO',\n",
        "  'TLALPAN',\n",
        "  'ALVARO OBREGON',\n",
        "  'VENUSTIANO CARRANZA',\n",
        "  'AZCAPOTZALCO',\n",
        "  'CUAJIMALPA DE MORELOS',\n",
        "  'COYOACAN',\n",
        "  'XOCHIMILCO',\n",
        "  'LA MAGDALENA CONTRERAS',\n",
        "  'MILPA ALTA'\n",
        " ]\n",
        "\n",
        "df_filtrado_2 = df_filtrado_1.loc[df_filtrado_1['alcaldia_hechos'].isin(alcadias_cdmx)]\n",
        "print(df_filtrado_2[\"alcaldia_hechos\"].unique())\n",
        "print(\"\\n\")\n",
        "print(df_filtrado_2.info())"
      ],
      "execution_count": null,
      "outputs": [
        {
          "output_type": "stream",
          "text": [
            "['BENITO JUAREZ' 'IZTAPALAPA' 'CUAUHTEMOC' 'TLAHUAC' 'IZTACALCO'\n",
            " 'GUSTAVO A MADERO' 'MIGUEL HIDALGO' 'TLALPAN' 'ALVARO OBREGON'\n",
            " 'VENUSTIANO CARRANZA' 'AZCAPOTZALCO' 'CUAJIMALPA DE MORELOS' 'COYOACAN'\n",
            " 'XOCHIMILCO' 'LA MAGDALENA CONTRERAS' 'MILPA ALTA']\n",
            "\n",
            "\n",
            "<class 'pandas.core.frame.DataFrame'>\n",
            "Int64Index: 1207497 entries, 0 to 1248923\n",
            "Data columns (total 13 columns):\n",
            " #   Column            Non-Null Count    Dtype  \n",
            "---  ------            --------------    -----  \n",
            " 0   ao_hechos         1207497 non-null  float64\n",
            " 1   mes_hechos        1207497 non-null  object \n",
            " 2   fecha_hechos      1207497 non-null  object \n",
            " 3   ao_inicio         1207497 non-null  int64  \n",
            " 4   mes_inicio        1207497 non-null  object \n",
            " 5   fecha_inicio      1207494 non-null  object \n",
            " 6   delito            1207497 non-null  object \n",
            " 7   fiscalia          1207495 non-null  object \n",
            " 8   categoria_delito  1207497 non-null  object \n",
            " 9   colonia_hechos    1170825 non-null  object \n",
            " 10  alcaldia_hechos   1207497 non-null  object \n",
            " 11  longitud          1171802 non-null  float64\n",
            " 12  latitud           1171802 non-null  float64\n",
            "dtypes: float64(3), int64(1), object(9)\n",
            "memory usage: 129.0+ MB\n",
            "None\n"
          ],
          "name": "stdout"
        }
      ]
    },
    {
      "cell_type": "markdown",
      "metadata": {
        "id": "JdJYFwG5BSDa"
      },
      "source": [
        "### 5.3 Eliminando los NaN "
      ]
    },
    {
      "cell_type": "code",
      "metadata": {
        "colab": {
          "base_uri": "https://localhost:8080/"
        },
        "id": "WNqvQnZgkrs2",
        "outputId": "812909bf-63bc-4ff6-ec8e-35bf5dc0bccb"
      },
      "source": [
        "# Contamos cuántos NaN existen en cada columna:\n",
        "df_filtrado_2.isna().sum()"
      ],
      "execution_count": null,
      "outputs": [
        {
          "output_type": "execute_result",
          "data": {
            "text/plain": [
              "ao_hechos               0\n",
              "mes_hechos              0\n",
              "fecha_hechos            0\n",
              "ao_inicio               0\n",
              "mes_inicio              0\n",
              "fecha_inicio            3\n",
              "delito                  0\n",
              "fiscalia                2\n",
              "categoria_delito        0\n",
              "colonia_hechos      36672\n",
              "alcaldia_hechos         0\n",
              "longitud            35695\n",
              "latitud             35695\n",
              "dtype: int64"
            ]
          },
          "metadata": {
            "tags": []
          },
          "execution_count": 11
        }
      ]
    },
    {
      "cell_type": "code",
      "metadata": {
        "colab": {
          "base_uri": "https://localhost:8080/",
          "height": 822
        },
        "id": "ehmDvPRmq2vH",
        "outputId": "8a47f38a-2fbf-4c70-8e9b-a17ab8ec0c2d"
      },
      "source": [
        "# Ahora eliminamos las filas que contienen puros NaN (si las hay):\n",
        "df_sin_nan_1=df_filtrado_2.dropna(axis=0, how='all')\n",
        "df_sin_nan_1"
      ],
      "execution_count": null,
      "outputs": [
        {
          "output_type": "execute_result",
          "data": {
            "text/html": [
              "<div>\n",
              "<style scoped>\n",
              "    .dataframe tbody tr th:only-of-type {\n",
              "        vertical-align: middle;\n",
              "    }\n",
              "\n",
              "    .dataframe tbody tr th {\n",
              "        vertical-align: top;\n",
              "    }\n",
              "\n",
              "    .dataframe thead th {\n",
              "        text-align: right;\n",
              "    }\n",
              "</style>\n",
              "<table border=\"1\" class=\"dataframe\">\n",
              "  <thead>\n",
              "    <tr style=\"text-align: right;\">\n",
              "      <th></th>\n",
              "      <th>ao_hechos</th>\n",
              "      <th>mes_hechos</th>\n",
              "      <th>fecha_hechos</th>\n",
              "      <th>ao_inicio</th>\n",
              "      <th>mes_inicio</th>\n",
              "      <th>fecha_inicio</th>\n",
              "      <th>delito</th>\n",
              "      <th>fiscalia</th>\n",
              "      <th>categoria_delito</th>\n",
              "      <th>colonia_hechos</th>\n",
              "      <th>alcaldia_hechos</th>\n",
              "      <th>longitud</th>\n",
              "      <th>latitud</th>\n",
              "    </tr>\n",
              "  </thead>\n",
              "  <tbody>\n",
              "    <tr>\n",
              "      <th>0</th>\n",
              "      <td>2016.0</td>\n",
              "      <td>Enero</td>\n",
              "      <td>2016-01-31 22:16:00</td>\n",
              "      <td>2016</td>\n",
              "      <td>Febrero</td>\n",
              "      <td>2016-02-01 00:25:44</td>\n",
              "      <td>DAÑO EN PROPIEDAD AJENA INTENCIONAL</td>\n",
              "      <td>INVESTIGACIÓN EN BENITO JUÁREZ</td>\n",
              "      <td>DELITO DE BAJO IMPACTO</td>\n",
              "      <td>AMÉRICAS UNIDAS</td>\n",
              "      <td>BENITO JUAREZ</td>\n",
              "      <td>-99.140215</td>\n",
              "      <td>19.380315</td>\n",
              "    </tr>\n",
              "    <tr>\n",
              "      <th>1</th>\n",
              "      <td>2016.0</td>\n",
              "      <td>Enero</td>\n",
              "      <td>2016-01-31 20:50:00</td>\n",
              "      <td>2016</td>\n",
              "      <td>Febrero</td>\n",
              "      <td>2016-02-01 00:52:37</td>\n",
              "      <td>ROBO DE VEHICULO DE SERVICIO PARTICULAR CON VI...</td>\n",
              "      <td>INVESTIGACIÓN PARA LA ATENCIÓN DEL DELITO DE R...</td>\n",
              "      <td>ROBO DE VEHÍCULO CON Y SIN VIOLENCIA</td>\n",
              "      <td>LOS CIPRESES</td>\n",
              "      <td>IZTAPALAPA</td>\n",
              "      <td>-99.108403</td>\n",
              "      <td>19.352859</td>\n",
              "    </tr>\n",
              "    <tr>\n",
              "      <th>2</th>\n",
              "      <td>2016.0</td>\n",
              "      <td>Febrero</td>\n",
              "      <td>2016-02-01 00:30:00</td>\n",
              "      <td>2016</td>\n",
              "      <td>Febrero</td>\n",
              "      <td>2016-02-01 01:33:26</td>\n",
              "      <td>NARCOMENUDEO POSESION SIMPLE</td>\n",
              "      <td>INVESTIGACIÓN PARA LA ATENCIÓN DE NIÑOS, NIÑAS...</td>\n",
              "      <td>DELITO DE BAJO IMPACTO</td>\n",
              "      <td>UNIDAD VICENTE GUERRERO</td>\n",
              "      <td>IZTAPALAPA</td>\n",
              "      <td>-99.061321</td>\n",
              "      <td>19.356451</td>\n",
              "    </tr>\n",
              "    <tr>\n",
              "      <th>3</th>\n",
              "      <td>2016.0</td>\n",
              "      <td>Enero</td>\n",
              "      <td>2016-01-31 22:00:00</td>\n",
              "      <td>2016</td>\n",
              "      <td>Febrero</td>\n",
              "      <td>2016-02-01 02:09:11</td>\n",
              "      <td>ROBO A TRANSEUNTE EN VIA PUBLICA CON VIOLENCIA</td>\n",
              "      <td>INVESTIGACIÓN EN IZTAPALAPA</td>\n",
              "      <td>ROBO A TRANSEUNTE EN VÍA PÚBLICA CON Y SIN VIO...</td>\n",
              "      <td>EMILIANO ZAPATA</td>\n",
              "      <td>IZTAPALAPA</td>\n",
              "      <td>-98.976379</td>\n",
              "      <td>19.331633</td>\n",
              "    </tr>\n",
              "    <tr>\n",
              "      <th>5</th>\n",
              "      <td>2016.0</td>\n",
              "      <td>Febrero</td>\n",
              "      <td>2016-02-01 01:30:00</td>\n",
              "      <td>2016</td>\n",
              "      <td>Febrero</td>\n",
              "      <td>2016-02-01 02:19:12</td>\n",
              "      <td>LESIONES CULPOSAS POR TRANSITO VEHICULAR EN CO...</td>\n",
              "      <td>INVESTIGACIÓN EN CUAUHTEMOC</td>\n",
              "      <td>DELITO DE BAJO IMPACTO</td>\n",
              "      <td>JUÁREZ</td>\n",
              "      <td>CUAUHTEMOC</td>\n",
              "      <td>-99.174075</td>\n",
              "      <td>19.421356</td>\n",
              "    </tr>\n",
              "    <tr>\n",
              "      <th>...</th>\n",
              "      <td>...</td>\n",
              "      <td>...</td>\n",
              "      <td>...</td>\n",
              "      <td>...</td>\n",
              "      <td>...</td>\n",
              "      <td>...</td>\n",
              "      <td>...</td>\n",
              "      <td>...</td>\n",
              "      <td>...</td>\n",
              "      <td>...</td>\n",
              "      <td>...</td>\n",
              "      <td>...</td>\n",
              "      <td>...</td>\n",
              "    </tr>\n",
              "    <tr>\n",
              "      <th>1248919</th>\n",
              "      <td>2021.0</td>\n",
              "      <td>Junio</td>\n",
              "      <td>2021-06-29 17:00:00</td>\n",
              "      <td>2021</td>\n",
              "      <td>Junio</td>\n",
              "      <td>2021-06-30 23:32:31</td>\n",
              "      <td>LESIONES CULPOSAS POR TRANSITO VEHICULAR EN CO...</td>\n",
              "      <td>FISCALÍA DE INVESTIGACIÓN TERRITORIAL EN MILPA...</td>\n",
              "      <td>DELITO DE BAJO IMPACTO</td>\n",
              "      <td>SAN MARCOS (SANTA ANA TLACOTENCO)</td>\n",
              "      <td>MILPA ALTA</td>\n",
              "      <td>-98.992460</td>\n",
              "      <td>19.168371</td>\n",
              "    </tr>\n",
              "    <tr>\n",
              "      <th>1248920</th>\n",
              "      <td>2021.0</td>\n",
              "      <td>Junio</td>\n",
              "      <td>2021-06-04 19:00:00</td>\n",
              "      <td>2021</td>\n",
              "      <td>Junio</td>\n",
              "      <td>2021-06-30 23:36:45</td>\n",
              "      <td>ROBO DE ACCESORIOS DE AUTO</td>\n",
              "      <td>FISCALÍA DE INVESTIGACIÓN TERRITORIAL EN CUAUH...</td>\n",
              "      <td>DELITO DE BAJO IMPACTO</td>\n",
              "      <td>HIPÓDROMO</td>\n",
              "      <td>CUAUHTEMOC</td>\n",
              "      <td>-99.168311</td>\n",
              "      <td>19.412001</td>\n",
              "    </tr>\n",
              "    <tr>\n",
              "      <th>1248921</th>\n",
              "      <td>2021.0</td>\n",
              "      <td>Junio</td>\n",
              "      <td>2021-06-30 19:40:00</td>\n",
              "      <td>2021</td>\n",
              "      <td>Junio</td>\n",
              "      <td>2021-06-30 23:37:12</td>\n",
              "      <td>AMENAZAS</td>\n",
              "      <td>FISCALÍA DE INVESTIGACIÓN TERRITORIAL EN IZTAC...</td>\n",
              "      <td>DELITO DE BAJO IMPACTO</td>\n",
              "      <td>AGRÍCOLA PANTITLAN</td>\n",
              "      <td>IZTACALCO</td>\n",
              "      <td>-99.061716</td>\n",
              "      <td>19.419028</td>\n",
              "    </tr>\n",
              "    <tr>\n",
              "      <th>1248922</th>\n",
              "      <td>2021.0</td>\n",
              "      <td>Mayo</td>\n",
              "      <td>2021-05-16 21:08:00</td>\n",
              "      <td>2021</td>\n",
              "      <td>Junio</td>\n",
              "      <td>2021-06-30 23:45:57</td>\n",
              "      <td>DAÑO EN PROPIEDAD AJENA INTENCIONAL</td>\n",
              "      <td>FISCALÍA DE INVESTIGACIÓN TERRITORIAL EN CUAUH...</td>\n",
              "      <td>DELITO DE BAJO IMPACTO</td>\n",
              "      <td>ROMA NORTE</td>\n",
              "      <td>CUAUHTEMOC</td>\n",
              "      <td>-99.158994</td>\n",
              "      <td>19.418615</td>\n",
              "    </tr>\n",
              "    <tr>\n",
              "      <th>1248923</th>\n",
              "      <td>2021.0</td>\n",
              "      <td>Junio</td>\n",
              "      <td>2021-06-29 17:00:00</td>\n",
              "      <td>2021</td>\n",
              "      <td>Junio</td>\n",
              "      <td>2021-06-30 23:52:34</td>\n",
              "      <td>LESIONES INTENCIONALES POR ARMA BLANCA</td>\n",
              "      <td>FISCALÍA DE INVESTIGACIÓN TERRITORIAL EN IZTAP...</td>\n",
              "      <td>DELITO DE BAJO IMPACTO</td>\n",
              "      <td>LOMAS DE SAN LORENZO</td>\n",
              "      <td>IZTAPALAPA</td>\n",
              "      <td>-99.069557</td>\n",
              "      <td>19.321406</td>\n",
              "    </tr>\n",
              "  </tbody>\n",
              "</table>\n",
              "<p>1207497 rows × 13 columns</p>\n",
              "</div>"
            ],
            "text/plain": [
              "         ao_hechos mes_hechos  ...   longitud    latitud\n",
              "0           2016.0      Enero  ... -99.140215  19.380315\n",
              "1           2016.0      Enero  ... -99.108403  19.352859\n",
              "2           2016.0    Febrero  ... -99.061321  19.356451\n",
              "3           2016.0      Enero  ... -98.976379  19.331633\n",
              "5           2016.0    Febrero  ... -99.174075  19.421356\n",
              "...            ...        ...  ...        ...        ...\n",
              "1248919     2021.0      Junio  ... -98.992460  19.168371\n",
              "1248920     2021.0      Junio  ... -99.168311  19.412001\n",
              "1248921     2021.0      Junio  ... -99.061716  19.419028\n",
              "1248922     2021.0       Mayo  ... -99.158994  19.418615\n",
              "1248923     2021.0      Junio  ... -99.069557  19.321406\n",
              "\n",
              "[1207497 rows x 13 columns]"
            ]
          },
          "metadata": {
            "tags": []
          },
          "execution_count": 12
        }
      ]
    },
    {
      "cell_type": "code",
      "metadata": {
        "colab": {
          "base_uri": "https://localhost:8080/"
        },
        "id": "Z5nE9hkhOzil",
        "outputId": "1b88f3ea-5467-41f8-d4a4-cbc131bc5fb6"
      },
      "source": [
        "# Al ejecutar la  instrucción anterior no se eliminó ninguna fila, por lo que se asume que ninguna fila contenía puros NaN.\n",
        "\n",
        "# Ahora eliminamos los registros con NaN en las columnas de fecha_inicio y fiscalia, debido a su poca signficancia estadística:\n",
        "df_sin_nan_2 = df_sin_nan_1.loc[df_sin_nan_1['fiscalia'].notna()]\n",
        "df_sin_nan_3 = df_sin_nan_2.loc[df_sin_nan_2['fecha_inicio'].notna()]\n",
        "df_sin_nan_4 = df_sin_nan_3.loc[df_sin_nan_3[\"latitud\"].notna()]\n",
        "df_sin_nan_5 = df_sin_nan_4.loc[df_sin_nan_4[\"longitud\"].notna()]\n",
        "\n",
        "df_sin_nan_5.isna().sum()"
      ],
      "execution_count": null,
      "outputs": [
        {
          "output_type": "execute_result",
          "data": {
            "text/plain": [
              "ao_hechos              0\n",
              "mes_hechos             0\n",
              "fecha_hechos           0\n",
              "ao_inicio              0\n",
              "mes_inicio             0\n",
              "fecha_inicio           0\n",
              "delito                 0\n",
              "fiscalia               0\n",
              "categoria_delito       0\n",
              "colonia_hechos      1164\n",
              "alcaldia_hechos        0\n",
              "longitud               0\n",
              "latitud                0\n",
              "dtype: int64"
            ]
          },
          "metadata": {
            "tags": []
          },
          "execution_count": 13
        }
      ]
    },
    {
      "cell_type": "code",
      "metadata": {
        "colab": {
          "base_uri": "https://localhost:8080/"
        },
        "id": "ikDjhVWJ27vU",
        "outputId": "641bae3b-a4ec-4388-e8ce-d88b66796f70"
      },
      "source": [
        "\n",
        "# Ahora remplazamos los NaN de la columna 'colonia_hechos' por la palabra Unknown para eliminar completamente los NaN:\n",
        "df_sin_nan_5[\"colonia_hechos\"] = df_sin_nan_5[\"colonia_hechos\"].fillna('Unknown')\n",
        "df_sin_nan_5.isna().sum()"
      ],
      "execution_count": null,
      "outputs": [
        {
          "output_type": "execute_result",
          "data": {
            "text/plain": [
              "ao_hechos           0\n",
              "mes_hechos          0\n",
              "fecha_hechos        0\n",
              "ao_inicio           0\n",
              "mes_inicio          0\n",
              "fecha_inicio        0\n",
              "delito              0\n",
              "fiscalia            0\n",
              "categoria_delito    0\n",
              "colonia_hechos      0\n",
              "alcaldia_hechos     0\n",
              "longitud            0\n",
              "latitud             0\n",
              "dtype: int64"
            ]
          },
          "metadata": {
            "tags": []
          },
          "execution_count": 14
        }
      ]
    },
    {
      "cell_type": "code",
      "metadata": {
        "id": "S_j4NZVmvTKP"
      },
      "source": [
        "# En los casos en los que la latitud y longitud no existe se evaluará posteriormente la posibilidad de colocar la latitud y longitud de la alcadia de\n",
        "# acuerdo a datos del gobierno de la CDMX: https://datos.cdmx.gob.mx/dataset/bae265a8-d1f6-4614-b399-4184bc93e027/resource/e4a9b05f-c480-45fb-a62c-6d4e39c5180e/download/alcaldias.csv\n",
        "\n",
        "# lat_long_alcaldias = pd.read_csv(\"https://datos.cdmx.gob.mx/dataset/bae265a8-d1f6-4614-b399-4184bc93e027/resource/e4a9b05f-c480-45fb-a62c-6d4e39c5180e/download/alcaldias.csv\")\n"
      ],
      "execution_count": null,
      "outputs": []
    },
    {
      "cell_type": "markdown",
      "metadata": {
        "id": "BQ-uiw5HXUbG"
      },
      "source": [
        "### 5.4 Reseteando los índices"
      ]
    },
    {
      "cell_type": "code",
      "metadata": {
        "colab": {
          "base_uri": "https://localhost:8080/"
        },
        "id": "im_UOOH-W3jj",
        "outputId": "54999f9a-cc72-4130-d0f3-5f3406450cdb"
      },
      "source": [
        "# Reseteamos los indices, pues hemos eliminado algunas filas:\n",
        "df_indice_reseteado = df_sin_nan_5.reset_index(drop=True)\n",
        "print(df_indice_reseteado.shape)\n",
        "print('\\n')\n",
        "print(df_indice_reseteado.head(3))\n",
        "print('\\n')\n",
        "print(df_indice_reseteado.tail(3))"
      ],
      "execution_count": null,
      "outputs": [
        {
          "output_type": "stream",
          "text": [
            "(1171799, 13)\n",
            "\n",
            "\n",
            "   ao_hechos mes_hechos  ...   longitud    latitud\n",
            "0     2016.0      Enero  ... -99.140215  19.380315\n",
            "1     2016.0      Enero  ... -99.108403  19.352859\n",
            "2     2016.0    Febrero  ... -99.061321  19.356451\n",
            "\n",
            "[3 rows x 13 columns]\n",
            "\n",
            "\n",
            "         ao_hechos mes_hechos  ...   longitud    latitud\n",
            "1171796     2021.0      Junio  ... -99.061716  19.419028\n",
            "1171797     2021.0       Mayo  ... -99.158994  19.418615\n",
            "1171798     2021.0      Junio  ... -99.069557  19.321406\n",
            "\n",
            "[3 rows x 13 columns]\n"
          ],
          "name": "stdout"
        }
      ]
    },
    {
      "cell_type": "markdown",
      "metadata": {
        "id": "60njpEwMa9zK"
      },
      "source": [
        "### 5.5 Agregaciones"
      ]
    },
    {
      "cell_type": "markdown",
      "metadata": {
        "id": "bsDt25LmI3ON"
      },
      "source": [
        "## 6. Transformación de datos\n",
        "\n",
        "---\n",
        "\n"
      ]
    },
    {
      "cell_type": "markdown",
      "metadata": {
        "id": "epCnEEqsc2Ir"
      },
      "source": [
        "Aquí transformamos el tipo de dato de cada columna al tipo correcto de acuerdo a su contenido. Posteriormente, se hacen algunos filtros y consultas para responder a las preguntas planteadas. "
      ]
    },
    {
      "cell_type": "markdown",
      "metadata": {
        "id": "bYo5q58yedB1"
      },
      "source": [
        "### 6.1 Corrigiendo el tipo de datos de las columnas"
      ]
    },
    {
      "cell_type": "code",
      "metadata": {
        "colab": {
          "base_uri": "https://localhost:8080/"
        },
        "id": "-7q6jeIvgkpU",
        "outputId": "2a6bee89-646a-4a8c-ed13-cffabe64ea47"
      },
      "source": [
        "# Consultamos el tipo de datos que contiene cada columna:\n",
        "df_indice_reseteado.dtypes\n"
      ],
      "execution_count": null,
      "outputs": [
        {
          "output_type": "execute_result",
          "data": {
            "text/plain": [
              "ao_hechos           float64\n",
              "mes_hechos           object\n",
              "fecha_hechos         object\n",
              "ao_inicio             int64\n",
              "mes_inicio           object\n",
              "fecha_inicio         object\n",
              "delito               object\n",
              "fiscalia             object\n",
              "categoria_delito     object\n",
              "colonia_hechos       object\n",
              "alcaldia_hechos      object\n",
              "longitud            float64\n",
              "latitud             float64\n",
              "dtype: object"
            ]
          },
          "metadata": {
            "tags": []
          },
          "execution_count": 17
        }
      ]
    },
    {
      "cell_type": "code",
      "metadata": {
        "colab": {
          "base_uri": "https://localhost:8080/",
          "height": 515
        },
        "id": "zNSlnqAjpAVD",
        "outputId": "8e05011b-3ac1-4796-ff30-cfc51e0788a1"
      },
      "source": [
        "# Hacemos casting del tipo de dato de las columnas. En el caso de las columnas con tipo de dato 'object' se convirtieron a 'str' para evitar \n",
        "# tener varios tipos de datos en estas columnas:  \n",
        "df_indice_reseteado['ao_hechos'] = df_indice_reseteado['ao_hechos'].astype(int)\n",
        "df_indice_reseteado['mes_hechos'] = df_indice_reseteado['mes_hechos'].astype(str)\n",
        "df_indice_reseteado['mes_inicio'] = df_indice_reseteado['mes_inicio'].astype(str)\n",
        "df_indice_reseteado['delito'] = df_indice_reseteado['delito'].astype(str)\n",
        "df_indice_reseteado['fiscalia'] = df_indice_reseteado['fiscalia'].astype(str)\n",
        "df_indice_reseteado['categoria_delito'] = df_indice_reseteado['categoria_delito'].astype(str)\n",
        "df_indice_reseteado['colonia_hechos'] = df_indice_reseteado['colonia_hechos'].astype(str)\n",
        "df_indice_reseteado['alcaldia_hechos'] = df_indice_reseteado['alcaldia_hechos'].astype(str)\n",
        "\n",
        "diccionario_de_conversion = {\n",
        "    'fecha_hechos': 'datetime64[ns]',\n",
        "    'fecha_inicio': 'datetime64[ns]'\n",
        "}\n",
        "\n",
        "df_casting=df_indice_reseteado.astype(diccionario_de_conversion)\n",
        "\n",
        "print(df_casting.dtypes)\n",
        "print('\\n')\n",
        "df_casting.head(3)\n"
      ],
      "execution_count": null,
      "outputs": [
        {
          "output_type": "stream",
          "text": [
            "ao_hechos                    int64\n",
            "mes_hechos                  object\n",
            "fecha_hechos        datetime64[ns]\n",
            "ao_inicio                    int64\n",
            "mes_inicio                  object\n",
            "fecha_inicio        datetime64[ns]\n",
            "delito                      object\n",
            "fiscalia                    object\n",
            "categoria_delito            object\n",
            "colonia_hechos              object\n",
            "alcaldia_hechos             object\n",
            "longitud                   float64\n",
            "latitud                    float64\n",
            "dtype: object\n",
            "\n",
            "\n"
          ],
          "name": "stdout"
        },
        {
          "output_type": "execute_result",
          "data": {
            "text/html": [
              "<div>\n",
              "<style scoped>\n",
              "    .dataframe tbody tr th:only-of-type {\n",
              "        vertical-align: middle;\n",
              "    }\n",
              "\n",
              "    .dataframe tbody tr th {\n",
              "        vertical-align: top;\n",
              "    }\n",
              "\n",
              "    .dataframe thead th {\n",
              "        text-align: right;\n",
              "    }\n",
              "</style>\n",
              "<table border=\"1\" class=\"dataframe\">\n",
              "  <thead>\n",
              "    <tr style=\"text-align: right;\">\n",
              "      <th></th>\n",
              "      <th>ao_hechos</th>\n",
              "      <th>mes_hechos</th>\n",
              "      <th>fecha_hechos</th>\n",
              "      <th>ao_inicio</th>\n",
              "      <th>mes_inicio</th>\n",
              "      <th>fecha_inicio</th>\n",
              "      <th>delito</th>\n",
              "      <th>fiscalia</th>\n",
              "      <th>categoria_delito</th>\n",
              "      <th>colonia_hechos</th>\n",
              "      <th>alcaldia_hechos</th>\n",
              "      <th>longitud</th>\n",
              "      <th>latitud</th>\n",
              "    </tr>\n",
              "  </thead>\n",
              "  <tbody>\n",
              "    <tr>\n",
              "      <th>0</th>\n",
              "      <td>2016</td>\n",
              "      <td>Enero</td>\n",
              "      <td>2016-01-31 22:16:00</td>\n",
              "      <td>2016</td>\n",
              "      <td>Febrero</td>\n",
              "      <td>2016-02-01 00:25:44</td>\n",
              "      <td>DAÑO EN PROPIEDAD AJENA INTENCIONAL</td>\n",
              "      <td>INVESTIGACIÓN EN BENITO JUÁREZ</td>\n",
              "      <td>DELITO DE BAJO IMPACTO</td>\n",
              "      <td>AMÉRICAS UNIDAS</td>\n",
              "      <td>BENITO JUAREZ</td>\n",
              "      <td>-99.140215</td>\n",
              "      <td>19.380315</td>\n",
              "    </tr>\n",
              "    <tr>\n",
              "      <th>1</th>\n",
              "      <td>2016</td>\n",
              "      <td>Enero</td>\n",
              "      <td>2016-01-31 20:50:00</td>\n",
              "      <td>2016</td>\n",
              "      <td>Febrero</td>\n",
              "      <td>2016-02-01 00:52:37</td>\n",
              "      <td>ROBO DE VEHICULO DE SERVICIO PARTICULAR CON VI...</td>\n",
              "      <td>INVESTIGACIÓN PARA LA ATENCIÓN DEL DELITO DE R...</td>\n",
              "      <td>ROBO DE VEHÍCULO CON Y SIN VIOLENCIA</td>\n",
              "      <td>LOS CIPRESES</td>\n",
              "      <td>IZTAPALAPA</td>\n",
              "      <td>-99.108403</td>\n",
              "      <td>19.352859</td>\n",
              "    </tr>\n",
              "    <tr>\n",
              "      <th>2</th>\n",
              "      <td>2016</td>\n",
              "      <td>Febrero</td>\n",
              "      <td>2016-02-01 00:30:00</td>\n",
              "      <td>2016</td>\n",
              "      <td>Febrero</td>\n",
              "      <td>2016-02-01 01:33:26</td>\n",
              "      <td>NARCOMENUDEO POSESION SIMPLE</td>\n",
              "      <td>INVESTIGACIÓN PARA LA ATENCIÓN DE NIÑOS, NIÑAS...</td>\n",
              "      <td>DELITO DE BAJO IMPACTO</td>\n",
              "      <td>UNIDAD VICENTE GUERRERO</td>\n",
              "      <td>IZTAPALAPA</td>\n",
              "      <td>-99.061321</td>\n",
              "      <td>19.356451</td>\n",
              "    </tr>\n",
              "  </tbody>\n",
              "</table>\n",
              "</div>"
            ],
            "text/plain": [
              "   ao_hechos mes_hechos  ...   longitud    latitud\n",
              "0       2016      Enero  ... -99.140215  19.380315\n",
              "1       2016      Enero  ... -99.108403  19.352859\n",
              "2       2016    Febrero  ... -99.061321  19.356451\n",
              "\n",
              "[3 rows x 13 columns]"
            ]
          },
          "metadata": {
            "tags": []
          },
          "execution_count": 18
        }
      ]
    },
    {
      "cell_type": "markdown",
      "metadata": {
        "id": "rrLnDHy2ArpJ"
      },
      "source": [
        "### 6.2 contestando las preguntas de investigación"
      ]
    },
    {
      "cell_type": "markdown",
      "metadata": {
        "id": "VqD7OYabB9g9"
      },
      "source": [
        "#### 6.2.1 *¿Qué tipos de delitos se comete con mayor frecuencia?*"
      ]
    },
    {
      "cell_type": "code",
      "metadata": {
        "colab": {
          "base_uri": "https://localhost:8080/"
        },
        "id": "H7ZZjP26DmYk",
        "outputId": "61538ed5-cb4e-4563-e9a7-971484c6a159"
      },
      "source": [
        "# Hacemos el conteo de la frecuencia de cada categoría de delito y ordenamos de manera ascendente: \n",
        "pregunta_1 = df_casting.groupby('categoria_delito').size()\n",
        "pregunta_1.sort_values(ascending=False)"
      ],
      "execution_count": null,
      "outputs": [
        {
          "output_type": "execute_result",
          "data": {
            "text/plain": [
              "categoria_delito\n",
              "DELITO DE BAJO IMPACTO                                     921314\n",
              "ROBO A TRANSEUNTE EN VÍA PÚBLICA CON Y SIN VIOLENCIA        69745\n",
              "ROBO DE VEHÍCULO CON Y SIN VIOLENCIA                        63368\n",
              "HECHO NO DELICTIVO                                          46671\n",
              "ROBO A NEGOCIO CON VIOLENCIA                                20250\n",
              "ROBO A REPARTIDOR CON Y SIN VIOLENCIA                       12586\n",
              "ROBO A PASAJERO A BORDO DEL METRO CON Y SIN VIOLENCIA       11046\n",
              "HOMICIDIO DOLOSO                                             6096\n",
              "VIOLACIÓN                                                    4973\n",
              "LESIONES DOLOSAS POR DISPARO DE ARMA DE FUEGO                4339\n",
              "ROBO A PASAJERO A BORDO DE MICROBUS CON Y SIN VIOLENCIA      4043\n",
              "ROBO A CASA HABITACIÓN CON VIOLENCIA                         3111\n",
              "ROBO A CUENTAHABIENTE SALIENDO DEL CAJERO CON VIOLENCIA      2293\n",
              "ROBO A PASAJERO A BORDO DE TAXI CON VIOLENCIA                1181\n",
              "ROBO A TRANSPORTISTA CON Y SIN VIOLENCIA                      606\n",
              "SECUESTRO                                                     176\n",
              "FEMINICIDIO                                                     1\n",
              "dtype: int64"
            ]
          },
          "metadata": {
            "tags": []
          },
          "execution_count": 19
        }
      ]
    },
    {
      "cell_type": "code",
      "metadata": {
        "colab": {
          "base_uri": "https://localhost:8080/",
          "height": 225
        },
        "id": "lWnD6dC_yMI_",
        "outputId": "0de0b04d-7034-4b73-86ed-2e8f20bef782"
      },
      "source": [
        "# Con lo anterior nos dimos cuenta que existe una categoría llamada 'HECHO NO DELICTIVO', así que eliminamos las filas que la contengan, ya que solo nos\n",
        "# interesan los crimenes. Tabién reseteamos el índice una vez más:\n",
        "df_casting = df_casting.loc[df_casting['categoria_delito'] != 'HECHO NO DELICTIVO']\n",
        "df_casting.reset_index(inplace=True)\n",
        "df_casting.head(3)\n",
        "\n"
      ],
      "execution_count": null,
      "outputs": [
        {
          "output_type": "execute_result",
          "data": {
            "text/html": [
              "<div>\n",
              "<style scoped>\n",
              "    .dataframe tbody tr th:only-of-type {\n",
              "        vertical-align: middle;\n",
              "    }\n",
              "\n",
              "    .dataframe tbody tr th {\n",
              "        vertical-align: top;\n",
              "    }\n",
              "\n",
              "    .dataframe thead th {\n",
              "        text-align: right;\n",
              "    }\n",
              "</style>\n",
              "<table border=\"1\" class=\"dataframe\">\n",
              "  <thead>\n",
              "    <tr style=\"text-align: right;\">\n",
              "      <th></th>\n",
              "      <th>index</th>\n",
              "      <th>ao_hechos</th>\n",
              "      <th>mes_hechos</th>\n",
              "      <th>fecha_hechos</th>\n",
              "      <th>ao_inicio</th>\n",
              "      <th>mes_inicio</th>\n",
              "      <th>fecha_inicio</th>\n",
              "      <th>delito</th>\n",
              "      <th>fiscalia</th>\n",
              "      <th>categoria_delito</th>\n",
              "      <th>colonia_hechos</th>\n",
              "      <th>alcaldia_hechos</th>\n",
              "      <th>longitud</th>\n",
              "      <th>latitud</th>\n",
              "    </tr>\n",
              "  </thead>\n",
              "  <tbody>\n",
              "    <tr>\n",
              "      <th>0</th>\n",
              "      <td>0</td>\n",
              "      <td>2016</td>\n",
              "      <td>Enero</td>\n",
              "      <td>2016-01-31 22:16:00</td>\n",
              "      <td>2016</td>\n",
              "      <td>Febrero</td>\n",
              "      <td>2016-02-01 00:25:44</td>\n",
              "      <td>DAÑO EN PROPIEDAD AJENA INTENCIONAL</td>\n",
              "      <td>INVESTIGACIÓN EN BENITO JUÁREZ</td>\n",
              "      <td>DELITO DE BAJO IMPACTO</td>\n",
              "      <td>AMÉRICAS UNIDAS</td>\n",
              "      <td>BENITO JUAREZ</td>\n",
              "      <td>-99.140215</td>\n",
              "      <td>19.380315</td>\n",
              "    </tr>\n",
              "    <tr>\n",
              "      <th>1</th>\n",
              "      <td>1</td>\n",
              "      <td>2016</td>\n",
              "      <td>Enero</td>\n",
              "      <td>2016-01-31 20:50:00</td>\n",
              "      <td>2016</td>\n",
              "      <td>Febrero</td>\n",
              "      <td>2016-02-01 00:52:37</td>\n",
              "      <td>ROBO DE VEHICULO DE SERVICIO PARTICULAR CON VI...</td>\n",
              "      <td>INVESTIGACIÓN PARA LA ATENCIÓN DEL DELITO DE R...</td>\n",
              "      <td>ROBO DE VEHÍCULO CON Y SIN VIOLENCIA</td>\n",
              "      <td>LOS CIPRESES</td>\n",
              "      <td>IZTAPALAPA</td>\n",
              "      <td>-99.108403</td>\n",
              "      <td>19.352859</td>\n",
              "    </tr>\n",
              "    <tr>\n",
              "      <th>2</th>\n",
              "      <td>2</td>\n",
              "      <td>2016</td>\n",
              "      <td>Febrero</td>\n",
              "      <td>2016-02-01 00:30:00</td>\n",
              "      <td>2016</td>\n",
              "      <td>Febrero</td>\n",
              "      <td>2016-02-01 01:33:26</td>\n",
              "      <td>NARCOMENUDEO POSESION SIMPLE</td>\n",
              "      <td>INVESTIGACIÓN PARA LA ATENCIÓN DE NIÑOS, NIÑAS...</td>\n",
              "      <td>DELITO DE BAJO IMPACTO</td>\n",
              "      <td>UNIDAD VICENTE GUERRERO</td>\n",
              "      <td>IZTAPALAPA</td>\n",
              "      <td>-99.061321</td>\n",
              "      <td>19.356451</td>\n",
              "    </tr>\n",
              "  </tbody>\n",
              "</table>\n",
              "</div>"
            ],
            "text/plain": [
              "   index  ao_hechos mes_hechos  ... alcaldia_hechos   longitud    latitud\n",
              "0      0       2016      Enero  ...   BENITO JUAREZ -99.140215  19.380315\n",
              "1      1       2016      Enero  ...      IZTAPALAPA -99.108403  19.352859\n",
              "2      2       2016    Febrero  ...      IZTAPALAPA -99.061321  19.356451\n",
              "\n",
              "[3 rows x 14 columns]"
            ]
          },
          "metadata": {
            "tags": []
          },
          "execution_count": 20
        }
      ]
    },
    {
      "cell_type": "code",
      "metadata": {
        "colab": {
          "base_uri": "https://localhost:8080/",
          "height": 822
        },
        "id": "4ZaXeK-xgO5I",
        "outputId": "d288f26e-d184-4844-d6a6-6b9321a0141b"
      },
      "source": [
        "# Observamos que apareció una columna nueva 'index', por lo que la eliminamos:\n",
        "df_casting=df_casting.drop(columns='index')\n",
        "df_casting"
      ],
      "execution_count": null,
      "outputs": [
        {
          "output_type": "execute_result",
          "data": {
            "text/html": [
              "<div>\n",
              "<style scoped>\n",
              "    .dataframe tbody tr th:only-of-type {\n",
              "        vertical-align: middle;\n",
              "    }\n",
              "\n",
              "    .dataframe tbody tr th {\n",
              "        vertical-align: top;\n",
              "    }\n",
              "\n",
              "    .dataframe thead th {\n",
              "        text-align: right;\n",
              "    }\n",
              "</style>\n",
              "<table border=\"1\" class=\"dataframe\">\n",
              "  <thead>\n",
              "    <tr style=\"text-align: right;\">\n",
              "      <th></th>\n",
              "      <th>ao_hechos</th>\n",
              "      <th>mes_hechos</th>\n",
              "      <th>fecha_hechos</th>\n",
              "      <th>ao_inicio</th>\n",
              "      <th>mes_inicio</th>\n",
              "      <th>fecha_inicio</th>\n",
              "      <th>delito</th>\n",
              "      <th>fiscalia</th>\n",
              "      <th>categoria_delito</th>\n",
              "      <th>colonia_hechos</th>\n",
              "      <th>alcaldia_hechos</th>\n",
              "      <th>longitud</th>\n",
              "      <th>latitud</th>\n",
              "    </tr>\n",
              "  </thead>\n",
              "  <tbody>\n",
              "    <tr>\n",
              "      <th>0</th>\n",
              "      <td>2016</td>\n",
              "      <td>Enero</td>\n",
              "      <td>2016-01-31 22:16:00</td>\n",
              "      <td>2016</td>\n",
              "      <td>Febrero</td>\n",
              "      <td>2016-02-01 00:25:44</td>\n",
              "      <td>DAÑO EN PROPIEDAD AJENA INTENCIONAL</td>\n",
              "      <td>INVESTIGACIÓN EN BENITO JUÁREZ</td>\n",
              "      <td>DELITO DE BAJO IMPACTO</td>\n",
              "      <td>AMÉRICAS UNIDAS</td>\n",
              "      <td>BENITO JUAREZ</td>\n",
              "      <td>-99.140215</td>\n",
              "      <td>19.380315</td>\n",
              "    </tr>\n",
              "    <tr>\n",
              "      <th>1</th>\n",
              "      <td>2016</td>\n",
              "      <td>Enero</td>\n",
              "      <td>2016-01-31 20:50:00</td>\n",
              "      <td>2016</td>\n",
              "      <td>Febrero</td>\n",
              "      <td>2016-02-01 00:52:37</td>\n",
              "      <td>ROBO DE VEHICULO DE SERVICIO PARTICULAR CON VI...</td>\n",
              "      <td>INVESTIGACIÓN PARA LA ATENCIÓN DEL DELITO DE R...</td>\n",
              "      <td>ROBO DE VEHÍCULO CON Y SIN VIOLENCIA</td>\n",
              "      <td>LOS CIPRESES</td>\n",
              "      <td>IZTAPALAPA</td>\n",
              "      <td>-99.108403</td>\n",
              "      <td>19.352859</td>\n",
              "    </tr>\n",
              "    <tr>\n",
              "      <th>2</th>\n",
              "      <td>2016</td>\n",
              "      <td>Febrero</td>\n",
              "      <td>2016-02-01 00:30:00</td>\n",
              "      <td>2016</td>\n",
              "      <td>Febrero</td>\n",
              "      <td>2016-02-01 01:33:26</td>\n",
              "      <td>NARCOMENUDEO POSESION SIMPLE</td>\n",
              "      <td>INVESTIGACIÓN PARA LA ATENCIÓN DE NIÑOS, NIÑAS...</td>\n",
              "      <td>DELITO DE BAJO IMPACTO</td>\n",
              "      <td>UNIDAD VICENTE GUERRERO</td>\n",
              "      <td>IZTAPALAPA</td>\n",
              "      <td>-99.061321</td>\n",
              "      <td>19.356451</td>\n",
              "    </tr>\n",
              "    <tr>\n",
              "      <th>3</th>\n",
              "      <td>2016</td>\n",
              "      <td>Enero</td>\n",
              "      <td>2016-01-31 22:00:00</td>\n",
              "      <td>2016</td>\n",
              "      <td>Febrero</td>\n",
              "      <td>2016-02-01 02:09:11</td>\n",
              "      <td>ROBO A TRANSEUNTE EN VIA PUBLICA CON VIOLENCIA</td>\n",
              "      <td>INVESTIGACIÓN EN IZTAPALAPA</td>\n",
              "      <td>ROBO A TRANSEUNTE EN VÍA PÚBLICA CON Y SIN VIO...</td>\n",
              "      <td>EMILIANO ZAPATA</td>\n",
              "      <td>IZTAPALAPA</td>\n",
              "      <td>-98.976379</td>\n",
              "      <td>19.331633</td>\n",
              "    </tr>\n",
              "    <tr>\n",
              "      <th>4</th>\n",
              "      <td>2016</td>\n",
              "      <td>Febrero</td>\n",
              "      <td>2016-02-01 01:30:00</td>\n",
              "      <td>2016</td>\n",
              "      <td>Febrero</td>\n",
              "      <td>2016-02-01 02:19:12</td>\n",
              "      <td>LESIONES CULPOSAS POR TRANSITO VEHICULAR EN CO...</td>\n",
              "      <td>INVESTIGACIÓN EN CUAUHTEMOC</td>\n",
              "      <td>DELITO DE BAJO IMPACTO</td>\n",
              "      <td>JUÁREZ</td>\n",
              "      <td>CUAUHTEMOC</td>\n",
              "      <td>-99.174075</td>\n",
              "      <td>19.421356</td>\n",
              "    </tr>\n",
              "    <tr>\n",
              "      <th>...</th>\n",
              "      <td>...</td>\n",
              "      <td>...</td>\n",
              "      <td>...</td>\n",
              "      <td>...</td>\n",
              "      <td>...</td>\n",
              "      <td>...</td>\n",
              "      <td>...</td>\n",
              "      <td>...</td>\n",
              "      <td>...</td>\n",
              "      <td>...</td>\n",
              "      <td>...</td>\n",
              "      <td>...</td>\n",
              "      <td>...</td>\n",
              "    </tr>\n",
              "    <tr>\n",
              "      <th>1125123</th>\n",
              "      <td>2021</td>\n",
              "      <td>Junio</td>\n",
              "      <td>2021-06-29 17:00:00</td>\n",
              "      <td>2021</td>\n",
              "      <td>Junio</td>\n",
              "      <td>2021-06-30 23:32:31</td>\n",
              "      <td>LESIONES CULPOSAS POR TRANSITO VEHICULAR EN CO...</td>\n",
              "      <td>FISCALÍA DE INVESTIGACIÓN TERRITORIAL EN MILPA...</td>\n",
              "      <td>DELITO DE BAJO IMPACTO</td>\n",
              "      <td>SAN MARCOS (SANTA ANA TLACOTENCO)</td>\n",
              "      <td>MILPA ALTA</td>\n",
              "      <td>-98.992460</td>\n",
              "      <td>19.168371</td>\n",
              "    </tr>\n",
              "    <tr>\n",
              "      <th>1125124</th>\n",
              "      <td>2021</td>\n",
              "      <td>Junio</td>\n",
              "      <td>2021-06-04 19:00:00</td>\n",
              "      <td>2021</td>\n",
              "      <td>Junio</td>\n",
              "      <td>2021-06-30 23:36:45</td>\n",
              "      <td>ROBO DE ACCESORIOS DE AUTO</td>\n",
              "      <td>FISCALÍA DE INVESTIGACIÓN TERRITORIAL EN CUAUH...</td>\n",
              "      <td>DELITO DE BAJO IMPACTO</td>\n",
              "      <td>HIPÓDROMO</td>\n",
              "      <td>CUAUHTEMOC</td>\n",
              "      <td>-99.168311</td>\n",
              "      <td>19.412001</td>\n",
              "    </tr>\n",
              "    <tr>\n",
              "      <th>1125125</th>\n",
              "      <td>2021</td>\n",
              "      <td>Junio</td>\n",
              "      <td>2021-06-30 19:40:00</td>\n",
              "      <td>2021</td>\n",
              "      <td>Junio</td>\n",
              "      <td>2021-06-30 23:37:12</td>\n",
              "      <td>AMENAZAS</td>\n",
              "      <td>FISCALÍA DE INVESTIGACIÓN TERRITORIAL EN IZTAC...</td>\n",
              "      <td>DELITO DE BAJO IMPACTO</td>\n",
              "      <td>AGRÍCOLA PANTITLAN</td>\n",
              "      <td>IZTACALCO</td>\n",
              "      <td>-99.061716</td>\n",
              "      <td>19.419028</td>\n",
              "    </tr>\n",
              "    <tr>\n",
              "      <th>1125126</th>\n",
              "      <td>2021</td>\n",
              "      <td>Mayo</td>\n",
              "      <td>2021-05-16 21:08:00</td>\n",
              "      <td>2021</td>\n",
              "      <td>Junio</td>\n",
              "      <td>2021-06-30 23:45:57</td>\n",
              "      <td>DAÑO EN PROPIEDAD AJENA INTENCIONAL</td>\n",
              "      <td>FISCALÍA DE INVESTIGACIÓN TERRITORIAL EN CUAUH...</td>\n",
              "      <td>DELITO DE BAJO IMPACTO</td>\n",
              "      <td>ROMA NORTE</td>\n",
              "      <td>CUAUHTEMOC</td>\n",
              "      <td>-99.158994</td>\n",
              "      <td>19.418615</td>\n",
              "    </tr>\n",
              "    <tr>\n",
              "      <th>1125127</th>\n",
              "      <td>2021</td>\n",
              "      <td>Junio</td>\n",
              "      <td>2021-06-29 17:00:00</td>\n",
              "      <td>2021</td>\n",
              "      <td>Junio</td>\n",
              "      <td>2021-06-30 23:52:34</td>\n",
              "      <td>LESIONES INTENCIONALES POR ARMA BLANCA</td>\n",
              "      <td>FISCALÍA DE INVESTIGACIÓN TERRITORIAL EN IZTAP...</td>\n",
              "      <td>DELITO DE BAJO IMPACTO</td>\n",
              "      <td>LOMAS DE SAN LORENZO</td>\n",
              "      <td>IZTAPALAPA</td>\n",
              "      <td>-99.069557</td>\n",
              "      <td>19.321406</td>\n",
              "    </tr>\n",
              "  </tbody>\n",
              "</table>\n",
              "<p>1125128 rows × 13 columns</p>\n",
              "</div>"
            ],
            "text/plain": [
              "         ao_hechos mes_hechos  ...   longitud    latitud\n",
              "0             2016      Enero  ... -99.140215  19.380315\n",
              "1             2016      Enero  ... -99.108403  19.352859\n",
              "2             2016    Febrero  ... -99.061321  19.356451\n",
              "3             2016      Enero  ... -98.976379  19.331633\n",
              "4             2016    Febrero  ... -99.174075  19.421356\n",
              "...            ...        ...  ...        ...        ...\n",
              "1125123       2021      Junio  ... -98.992460  19.168371\n",
              "1125124       2021      Junio  ... -99.168311  19.412001\n",
              "1125125       2021      Junio  ... -99.061716  19.419028\n",
              "1125126       2021       Mayo  ... -99.158994  19.418615\n",
              "1125127       2021      Junio  ... -99.069557  19.321406\n",
              "\n",
              "[1125128 rows x 13 columns]"
            ]
          },
          "metadata": {
            "tags": []
          },
          "execution_count": 21
        }
      ]
    },
    {
      "cell_type": "code",
      "metadata": {
        "colab": {
          "base_uri": "https://localhost:8080/"
        },
        "id": "HQXa9WziTj6T",
        "outputId": "f14c5cd7-42dc-4065-cc04-a3da63129300"
      },
      "source": [
        "# Y ahora si respondemos a la pregunta 1:\n",
        "pregunta_1 = df_casting.groupby('categoria_delito').size()\n",
        "pregunta_1.sort_values(ascending=False)"
      ],
      "execution_count": null,
      "outputs": [
        {
          "output_type": "execute_result",
          "data": {
            "text/plain": [
              "categoria_delito\n",
              "DELITO DE BAJO IMPACTO                                     921314\n",
              "ROBO A TRANSEUNTE EN VÍA PÚBLICA CON Y SIN VIOLENCIA        69745\n",
              "ROBO DE VEHÍCULO CON Y SIN VIOLENCIA                        63368\n",
              "ROBO A NEGOCIO CON VIOLENCIA                                20250\n",
              "ROBO A REPARTIDOR CON Y SIN VIOLENCIA                       12586\n",
              "ROBO A PASAJERO A BORDO DEL METRO CON Y SIN VIOLENCIA       11046\n",
              "HOMICIDIO DOLOSO                                             6096\n",
              "VIOLACIÓN                                                    4973\n",
              "LESIONES DOLOSAS POR DISPARO DE ARMA DE FUEGO                4339\n",
              "ROBO A PASAJERO A BORDO DE MICROBUS CON Y SIN VIOLENCIA      4043\n",
              "ROBO A CASA HABITACIÓN CON VIOLENCIA                         3111\n",
              "ROBO A CUENTAHABIENTE SALIENDO DEL CAJERO CON VIOLENCIA      2293\n",
              "ROBO A PASAJERO A BORDO DE TAXI CON VIOLENCIA                1181\n",
              "ROBO A TRANSPORTISTA CON Y SIN VIOLENCIA                      606\n",
              "SECUESTRO                                                     176\n",
              "FEMINICIDIO                                                     1\n",
              "dtype: int64"
            ]
          },
          "metadata": {
            "tags": []
          },
          "execution_count": 22
        }
      ]
    },
    {
      "cell_type": "markdown",
      "metadata": {
        "id": "XLWzjoDsOQSF"
      },
      "source": [
        "#### 6.2.2 *¿En qué colonias y alcaldías se comete el mayor número de delitos graves?*"
      ]
    },
    {
      "cell_type": "code",
      "metadata": {
        "colab": {
          "base_uri": "https://localhost:8080/"
        },
        "id": "lbHLUy150Dbs",
        "outputId": "c434a32a-8831-4151-be76-03afe268e8b8"
      },
      "source": [
        "# Primero consultamos qué delitos existen: \n",
        "df_casting['categoria_delito'].unique().tolist()"
      ],
      "execution_count": null,
      "outputs": [
        {
          "output_type": "execute_result",
          "data": {
            "text/plain": [
              "['DELITO DE BAJO IMPACTO',\n",
              " 'ROBO DE VEHÍCULO CON Y SIN VIOLENCIA',\n",
              " 'ROBO A TRANSEUNTE EN VÍA PÚBLICA CON Y SIN VIOLENCIA',\n",
              " 'LESIONES DOLOSAS POR DISPARO DE ARMA DE FUEGO',\n",
              " 'ROBO A NEGOCIO CON VIOLENCIA',\n",
              " 'ROBO A CASA HABITACIÓN CON VIOLENCIA',\n",
              " 'ROBO A PASAJERO A BORDO DE MICROBUS CON Y SIN VIOLENCIA',\n",
              " 'VIOLACIÓN',\n",
              " 'ROBO A TRANSPORTISTA CON Y SIN VIOLENCIA',\n",
              " 'ROBO A CUENTAHABIENTE SALIENDO DEL CAJERO CON VIOLENCIA',\n",
              " 'ROBO A REPARTIDOR CON Y SIN VIOLENCIA',\n",
              " 'HOMICIDIO DOLOSO',\n",
              " 'ROBO A PASAJERO A BORDO DE TAXI CON VIOLENCIA',\n",
              " 'ROBO A PASAJERO A BORDO DEL METRO CON Y SIN VIOLENCIA',\n",
              " 'SECUESTRO',\n",
              " 'FEMINICIDIO']"
            ]
          },
          "metadata": {
            "tags": []
          },
          "execution_count": 23
        }
      ]
    },
    {
      "cell_type": "code",
      "metadata": {
        "colab": {
          "base_uri": "https://localhost:8080/"
        },
        "id": "CRrJnE2xwbSe",
        "outputId": "da3950ca-71de-428c-ed60-6168ea5b37d0"
      },
      "source": [
        "# Ahora filtramos los delitos que consideramos graves:\n",
        "delitos_graves = df_casting.loc[df_casting['categoria_delito'].isin(['LESIONES DOLOSAS POR DISPARO DE ARMA DE FUEGO','VIOLACIÓN', 'HOMICIDIO DOLOSO', 'SECUESTRO', 'FEMINICIDIO'])]\n",
        "\n",
        "# y agrupamos por alcaldía: \n",
        "pregunta_2 = delitos_graves.groupby('alcaldia_hechos').size()\n",
        "pregunta_2"
      ],
      "execution_count": null,
      "outputs": [
        {
          "output_type": "execute_result",
          "data": {
            "text/plain": [
              "alcaldia_hechos\n",
              "ALVARO OBREGON            1165\n",
              "AZCAPOTZALCO               654\n",
              "BENITO JUAREZ              449\n",
              "COYOACAN                   735\n",
              "CUAJIMALPA DE MORELOS      196\n",
              "CUAUHTEMOC                1694\n",
              "GUSTAVO A MADERO          2137\n",
              "IZTACALCO                  656\n",
              "IZTAPALAPA                3352\n",
              "LA MAGDALENA CONTRERAS     290\n",
              "MIGUEL HIDALGO             712\n",
              "MILPA ALTA                 182\n",
              "TLAHUAC                    618\n",
              "TLALPAN                   1054\n",
              "VENUSTIANO CARRANZA        992\n",
              "XOCHIMILCO                 699\n",
              "dtype: int64"
            ]
          },
          "metadata": {
            "tags": []
          },
          "execution_count": 24
        }
      ]
    },
    {
      "cell_type": "markdown",
      "metadata": {
        "id": "cCyYl4xfm9qv"
      },
      "source": [
        "#### 6.2.3 *¿Qué tipos de delito han mostrado un crecimiento y decrecimiento en los últimos años?*\n",
        "\n",
        "\n",
        "1.   Separamos los delitos por año\n",
        "2.   Determinamos el número de delitos por año\n",
        "3.   Comparamos con una tabla que aplicamos merge de los resultados\n",
        "\n",
        "Y determinamos que:\n",
        "\n",
        "*   La violencia familiar por ejemplo fue en aumento exponencialmente y luego disminuyó en el último año 2021\n",
        "*   El robo de objetos ha ido disminuyendo considerablemente en los últimos años\n",
        "*   El robo a negocio sin violencia disminuyó en los últimos 2 años\n",
        "*   El fraude se mantuvo estable entre 2016-2020 pero disminuyó drásticamente en el último año 2021\n",
        "*   Las amenazas fueron en aumento gradualmente, pero disminuyeron considerablemente el último año 2021"
      ]
    },
    {
      "cell_type": "code",
      "metadata": {
        "id": "NFmSdAUWibk0",
        "colab": {
          "base_uri": "https://localhost:8080/",
          "height": 198
        },
        "outputId": "f072577e-8c88-4216-9460-78c128b6b66e"
      },
      "source": [
        "df6, df7 = [x for _, x in df_casting.groupby(df_casting['ao_hechos'] == 2021)]\n",
        "g=df7.groupby('delito')['ao_hechos'].size().reset_index()\n",
        "res2021=g.sort_values(\"ao_hechos\", ascending=False)\n",
        "res2021.head()"
      ],
      "execution_count": null,
      "outputs": [
        {
          "output_type": "execute_result",
          "data": {
            "text/html": [
              "<div>\n",
              "<style scoped>\n",
              "    .dataframe tbody tr th:only-of-type {\n",
              "        vertical-align: middle;\n",
              "    }\n",
              "\n",
              "    .dataframe tbody tr th {\n",
              "        vertical-align: top;\n",
              "    }\n",
              "\n",
              "    .dataframe thead th {\n",
              "        text-align: right;\n",
              "    }\n",
              "</style>\n",
              "<table border=\"1\" class=\"dataframe\">\n",
              "  <thead>\n",
              "    <tr style=\"text-align: right;\">\n",
              "      <th></th>\n",
              "      <th>delito</th>\n",
              "      <th>ao_hechos</th>\n",
              "    </tr>\n",
              "  </thead>\n",
              "  <tbody>\n",
              "    <tr>\n",
              "      <th>238</th>\n",
              "      <td>VIOLENCIA FAMILIAR</td>\n",
              "      <td>16110</td>\n",
              "    </tr>\n",
              "    <tr>\n",
              "      <th>7</th>\n",
              "      <td>AMENAZAS</td>\n",
              "      <td>7907</td>\n",
              "    </tr>\n",
              "    <tr>\n",
              "      <th>59</th>\n",
              "      <td>FRAUDE</td>\n",
              "      <td>5990</td>\n",
              "    </tr>\n",
              "    <tr>\n",
              "      <th>188</th>\n",
              "      <td>ROBO DE OBJETOS</td>\n",
              "      <td>4684</td>\n",
              "    </tr>\n",
              "    <tr>\n",
              "      <th>166</th>\n",
              "      <td>ROBO A TRANSEUNTE EN VIA PUBLICA CON VIOLENCIA</td>\n",
              "      <td>4182</td>\n",
              "    </tr>\n",
              "  </tbody>\n",
              "</table>\n",
              "</div>"
            ],
            "text/plain": [
              "                                             delito  ao_hechos\n",
              "238                              VIOLENCIA FAMILIAR      16110\n",
              "7                                          AMENAZAS       7907\n",
              "59                                           FRAUDE       5990\n",
              "188                                 ROBO DE OBJETOS       4684\n",
              "166  ROBO A TRANSEUNTE EN VIA PUBLICA CON VIOLENCIA       4182"
            ]
          },
          "metadata": {
            "tags": []
          },
          "execution_count": 25
        }
      ]
    },
    {
      "cell_type": "code",
      "metadata": {
        "colab": {
          "base_uri": "https://localhost:8080/",
          "height": 198
        },
        "id": "3yMGwN6SroCT",
        "outputId": "618befd0-0d85-4ca5-befe-1d519273c479"
      },
      "source": [
        "df6, df7 = [x for _, x in df_casting.groupby(df_casting['ao_hechos'] == 2020)]\n",
        "g=df7.groupby('delito')['ao_hechos'].size().reset_index()\n",
        "res2020=g.sort_values(\"ao_hechos\", ascending=False)\n",
        "res2020.head()"
      ],
      "execution_count": null,
      "outputs": [
        {
          "output_type": "execute_result",
          "data": {
            "text/html": [
              "<div>\n",
              "<style scoped>\n",
              "    .dataframe tbody tr th:only-of-type {\n",
              "        vertical-align: middle;\n",
              "    }\n",
              "\n",
              "    .dataframe tbody tr th {\n",
              "        vertical-align: top;\n",
              "    }\n",
              "\n",
              "    .dataframe thead th {\n",
              "        text-align: right;\n",
              "    }\n",
              "</style>\n",
              "<table border=\"1\" class=\"dataframe\">\n",
              "  <thead>\n",
              "    <tr style=\"text-align: right;\">\n",
              "      <th></th>\n",
              "      <th>delito</th>\n",
              "      <th>ao_hechos</th>\n",
              "    </tr>\n",
              "  </thead>\n",
              "  <tbody>\n",
              "    <tr>\n",
              "      <th>250</th>\n",
              "      <td>VIOLENCIA FAMILIAR</td>\n",
              "      <td>27573</td>\n",
              "    </tr>\n",
              "    <tr>\n",
              "      <th>7</th>\n",
              "      <td>AMENAZAS</td>\n",
              "      <td>14212</td>\n",
              "    </tr>\n",
              "    <tr>\n",
              "      <th>62</th>\n",
              "      <td>FRAUDE</td>\n",
              "      <td>12489</td>\n",
              "    </tr>\n",
              "    <tr>\n",
              "      <th>199</th>\n",
              "      <td>ROBO DE OBJETOS</td>\n",
              "      <td>9005</td>\n",
              "    </tr>\n",
              "    <tr>\n",
              "      <th>179</th>\n",
              "      <td>ROBO A TRANSEUNTE EN VIA PUBLICA CON VIOLENCIA</td>\n",
              "      <td>8588</td>\n",
              "    </tr>\n",
              "  </tbody>\n",
              "</table>\n",
              "</div>"
            ],
            "text/plain": [
              "                                             delito  ao_hechos\n",
              "250                              VIOLENCIA FAMILIAR      27573\n",
              "7                                          AMENAZAS      14212\n",
              "62                                           FRAUDE      12489\n",
              "199                                 ROBO DE OBJETOS       9005\n",
              "179  ROBO A TRANSEUNTE EN VIA PUBLICA CON VIOLENCIA       8588"
            ]
          },
          "metadata": {
            "tags": []
          },
          "execution_count": 26
        }
      ]
    },
    {
      "cell_type": "code",
      "metadata": {
        "colab": {
          "base_uri": "https://localhost:8080/",
          "height": 198
        },
        "id": "AIT0Y8ejv4Yr",
        "outputId": "0044953b-857d-41fe-f56d-3dd87927b5c9"
      },
      "source": [
        "df6, df7 = [x for _, x in df_casting.groupby(df_casting['ao_hechos'] == 2019)]\n",
        "g=df7.groupby('delito')['ao_hechos'].size().reset_index()\n",
        "res2019=g.sort_values(\"ao_hechos\", ascending=False)\n",
        "res2019.head()"
      ],
      "execution_count": null,
      "outputs": [
        {
          "output_type": "execute_result",
          "data": {
            "text/html": [
              "<div>\n",
              "<style scoped>\n",
              "    .dataframe tbody tr th:only-of-type {\n",
              "        vertical-align: middle;\n",
              "    }\n",
              "\n",
              "    .dataframe tbody tr th {\n",
              "        vertical-align: top;\n",
              "    }\n",
              "\n",
              "    .dataframe thead th {\n",
              "        text-align: right;\n",
              "    }\n",
              "</style>\n",
              "<table border=\"1\" class=\"dataframe\">\n",
              "  <thead>\n",
              "    <tr style=\"text-align: right;\">\n",
              "      <th></th>\n",
              "      <th>delito</th>\n",
              "      <th>ao_hechos</th>\n",
              "    </tr>\n",
              "  </thead>\n",
              "  <tbody>\n",
              "    <tr>\n",
              "      <th>239</th>\n",
              "      <td>VIOLENCIA FAMILIAR</td>\n",
              "      <td>25430</td>\n",
              "    </tr>\n",
              "    <tr>\n",
              "      <th>129</th>\n",
              "      <td>ROBO A NEGOCIO SIN VIOLENCIA</td>\n",
              "      <td>15741</td>\n",
              "    </tr>\n",
              "    <tr>\n",
              "      <th>7</th>\n",
              "      <td>AMENAZAS</td>\n",
              "      <td>13677</td>\n",
              "    </tr>\n",
              "    <tr>\n",
              "      <th>64</th>\n",
              "      <td>FRAUDE</td>\n",
              "      <td>13601</td>\n",
              "    </tr>\n",
              "    <tr>\n",
              "      <th>174</th>\n",
              "      <td>ROBO A TRANSEUNTE EN VIA PUBLICA CON VIOLENCIA</td>\n",
              "      <td>13230</td>\n",
              "    </tr>\n",
              "  </tbody>\n",
              "</table>\n",
              "</div>"
            ],
            "text/plain": [
              "                                             delito  ao_hechos\n",
              "239                              VIOLENCIA FAMILIAR      25430\n",
              "129                    ROBO A NEGOCIO SIN VIOLENCIA      15741\n",
              "7                                          AMENAZAS      13677\n",
              "64                                           FRAUDE      13601\n",
              "174  ROBO A TRANSEUNTE EN VIA PUBLICA CON VIOLENCIA      13230"
            ]
          },
          "metadata": {
            "tags": []
          },
          "execution_count": 27
        }
      ]
    },
    {
      "cell_type": "code",
      "metadata": {
        "colab": {
          "base_uri": "https://localhost:8080/",
          "height": 198
        },
        "id": "mTtoll91v8e6",
        "outputId": "305dd45a-2f2f-4927-9800-2514754ce405"
      },
      "source": [
        "df6, df7 = [x for _, x in df_casting.groupby(df_casting['ao_hechos'] == 2018)]\n",
        "g=df7.groupby('delito')['ao_hechos'].size().reset_index()\n",
        "res2018=g.sort_values(\"ao_hechos\", ascending=False)\n",
        "res2018.head()"
      ],
      "execution_count": null,
      "outputs": [
        {
          "output_type": "execute_result",
          "data": {
            "text/html": [
              "<div>\n",
              "<style scoped>\n",
              "    .dataframe tbody tr th:only-of-type {\n",
              "        vertical-align: middle;\n",
              "    }\n",
              "\n",
              "    .dataframe tbody tr th {\n",
              "        vertical-align: top;\n",
              "    }\n",
              "\n",
              "    .dataframe thead th {\n",
              "        text-align: right;\n",
              "    }\n",
              "</style>\n",
              "<table border=\"1\" class=\"dataframe\">\n",
              "  <thead>\n",
              "    <tr style=\"text-align: right;\">\n",
              "      <th></th>\n",
              "      <th>delito</th>\n",
              "      <th>ao_hechos</th>\n",
              "    </tr>\n",
              "  </thead>\n",
              "  <tbody>\n",
              "    <tr>\n",
              "      <th>185</th>\n",
              "      <td>ROBO A TRANSEUNTE EN VIA PUBLICA CON VIOLENCIA</td>\n",
              "      <td>21887</td>\n",
              "    </tr>\n",
              "    <tr>\n",
              "      <th>252</th>\n",
              "      <td>VIOLENCIA FAMILIAR</td>\n",
              "      <td>19756</td>\n",
              "    </tr>\n",
              "    <tr>\n",
              "      <th>136</th>\n",
              "      <td>ROBO A NEGOCIO SIN VIOLENCIA</td>\n",
              "      <td>15956</td>\n",
              "    </tr>\n",
              "    <tr>\n",
              "      <th>203</th>\n",
              "      <td>ROBO DE OBJETOS</td>\n",
              "      <td>14204</td>\n",
              "    </tr>\n",
              "    <tr>\n",
              "      <th>68</th>\n",
              "      <td>FRAUDE</td>\n",
              "      <td>13168</td>\n",
              "    </tr>\n",
              "  </tbody>\n",
              "</table>\n",
              "</div>"
            ],
            "text/plain": [
              "                                             delito  ao_hechos\n",
              "185  ROBO A TRANSEUNTE EN VIA PUBLICA CON VIOLENCIA      21887\n",
              "252                              VIOLENCIA FAMILIAR      19756\n",
              "136                    ROBO A NEGOCIO SIN VIOLENCIA      15956\n",
              "203                                 ROBO DE OBJETOS      14204\n",
              "68                                           FRAUDE      13168"
            ]
          },
          "metadata": {
            "tags": []
          },
          "execution_count": 28
        }
      ]
    },
    {
      "cell_type": "code",
      "metadata": {
        "colab": {
          "base_uri": "https://localhost:8080/",
          "height": 198
        },
        "id": "Li8mpSbwv8U5",
        "outputId": "52e82296-7cee-4e5c-8556-c67a87e05ea1"
      },
      "source": [
        "df6, df7 = [x for _, x in df_casting.groupby(df_casting['ao_hechos'] == 2017)]\n",
        "g=df7.groupby('delito')['ao_hechos'].size().reset_index()\n",
        "res2017=g.sort_values(\"ao_hechos\", ascending=False)\n",
        "res2017.head()"
      ],
      "execution_count": null,
      "outputs": [
        {
          "output_type": "execute_result",
          "data": {
            "text/html": [
              "<div>\n",
              "<style scoped>\n",
              "    .dataframe tbody tr th:only-of-type {\n",
              "        vertical-align: middle;\n",
              "    }\n",
              "\n",
              "    .dataframe tbody tr th {\n",
              "        vertical-align: top;\n",
              "    }\n",
              "\n",
              "    .dataframe thead th {\n",
              "        text-align: right;\n",
              "    }\n",
              "</style>\n",
              "<table border=\"1\" class=\"dataframe\">\n",
              "  <thead>\n",
              "    <tr style=\"text-align: right;\">\n",
              "      <th></th>\n",
              "      <th>delito</th>\n",
              "      <th>ao_hechos</th>\n",
              "    </tr>\n",
              "  </thead>\n",
              "  <tbody>\n",
              "    <tr>\n",
              "      <th>250</th>\n",
              "      <td>VIOLENCIA FAMILIAR</td>\n",
              "      <td>18325</td>\n",
              "    </tr>\n",
              "    <tr>\n",
              "      <th>200</th>\n",
              "      <td>ROBO DE OBJETOS</td>\n",
              "      <td>15927</td>\n",
              "    </tr>\n",
              "    <tr>\n",
              "      <th>135</th>\n",
              "      <td>ROBO A NEGOCIO SIN VIOLENCIA</td>\n",
              "      <td>14844</td>\n",
              "    </tr>\n",
              "    <tr>\n",
              "      <th>68</th>\n",
              "      <td>FRAUDE</td>\n",
              "      <td>11454</td>\n",
              "    </tr>\n",
              "    <tr>\n",
              "      <th>9</th>\n",
              "      <td>AMENAZAS</td>\n",
              "      <td>9434</td>\n",
              "    </tr>\n",
              "  </tbody>\n",
              "</table>\n",
              "</div>"
            ],
            "text/plain": [
              "                           delito  ao_hechos\n",
              "250            VIOLENCIA FAMILIAR      18325\n",
              "200               ROBO DE OBJETOS      15927\n",
              "135  ROBO A NEGOCIO SIN VIOLENCIA      14844\n",
              "68                         FRAUDE      11454\n",
              "9                        AMENAZAS       9434"
            ]
          },
          "metadata": {
            "tags": []
          },
          "execution_count": 29
        }
      ]
    },
    {
      "cell_type": "code",
      "metadata": {
        "colab": {
          "base_uri": "https://localhost:8080/",
          "height": 198
        },
        "id": "pCWJ0k4Swx_Q",
        "outputId": "42a84ba1-9b3d-4cc6-e3ae-b6b49ab4fedf"
      },
      "source": [
        "df6, df7 = [x for _, x in df_casting.groupby(df_casting['ao_hechos'] == 2016)]\n",
        "g=df7.groupby('delito')['ao_hechos'].size().reset_index()\n",
        "res2016=g.sort_values(\"ao_hechos\", ascending=False)\n",
        "res2016.head()"
      ],
      "execution_count": null,
      "outputs": [
        {
          "output_type": "execute_result",
          "data": {
            "text/html": [
              "<div>\n",
              "<style scoped>\n",
              "    .dataframe tbody tr th:only-of-type {\n",
              "        vertical-align: middle;\n",
              "    }\n",
              "\n",
              "    .dataframe tbody tr th {\n",
              "        vertical-align: top;\n",
              "    }\n",
              "\n",
              "    .dataframe thead th {\n",
              "        text-align: right;\n",
              "    }\n",
              "</style>\n",
              "<table border=\"1\" class=\"dataframe\">\n",
              "  <thead>\n",
              "    <tr style=\"text-align: right;\">\n",
              "      <th></th>\n",
              "      <th>delito</th>\n",
              "      <th>ao_hechos</th>\n",
              "    </tr>\n",
              "  </thead>\n",
              "  <tbody>\n",
              "    <tr>\n",
              "      <th>248</th>\n",
              "      <td>VIOLENCIA FAMILIAR</td>\n",
              "      <td>17844</td>\n",
              "    </tr>\n",
              "    <tr>\n",
              "      <th>202</th>\n",
              "      <td>ROBO DE OBJETOS</td>\n",
              "      <td>14868</td>\n",
              "    </tr>\n",
              "    <tr>\n",
              "      <th>137</th>\n",
              "      <td>ROBO A NEGOCIO SIN VIOLENCIA</td>\n",
              "      <td>13411</td>\n",
              "    </tr>\n",
              "    <tr>\n",
              "      <th>69</th>\n",
              "      <td>FRAUDE</td>\n",
              "      <td>10625</td>\n",
              "    </tr>\n",
              "    <tr>\n",
              "      <th>9</th>\n",
              "      <td>AMENAZAS</td>\n",
              "      <td>9864</td>\n",
              "    </tr>\n",
              "  </tbody>\n",
              "</table>\n",
              "</div>"
            ],
            "text/plain": [
              "                           delito  ao_hechos\n",
              "248            VIOLENCIA FAMILIAR      17844\n",
              "202               ROBO DE OBJETOS      14868\n",
              "137  ROBO A NEGOCIO SIN VIOLENCIA      13411\n",
              "69                         FRAUDE      10625\n",
              "9                        AMENAZAS       9864"
            ]
          },
          "metadata": {
            "tags": []
          },
          "execution_count": 30
        }
      ]
    },
    {
      "cell_type": "code",
      "metadata": {
        "id": "DwQnUC5CxKyR"
      },
      "source": [
        "data_frames = [res2016, res2017, res2018, res2019, res2020, res2021]"
      ],
      "execution_count": null,
      "outputs": []
    },
    {
      "cell_type": "code",
      "metadata": {
        "id": "KZ85zidAxt3g"
      },
      "source": [
        "from functools import reduce"
      ],
      "execution_count": null,
      "outputs": []
    },
    {
      "cell_type": "code",
      "metadata": {
        "id": "ZLQXwnS0xRMj"
      },
      "source": [
        "df_resultados = reduce(lambda  left,right: pd.merge(left,right,on=['delito'],\n",
        "                                            how='outer'), data_frames)"
      ],
      "execution_count": null,
      "outputs": []
    },
    {
      "cell_type": "code",
      "metadata": {
        "colab": {
          "base_uri": "https://localhost:8080/",
          "height": 198
        },
        "id": "Ly-40teZxw15",
        "outputId": "ed76e536-a716-4169-c9b7-91be62b05e5e"
      },
      "source": [
        "df_resultados.head()"
      ],
      "execution_count": null,
      "outputs": [
        {
          "output_type": "execute_result",
          "data": {
            "text/html": [
              "<div>\n",
              "<style scoped>\n",
              "    .dataframe tbody tr th:only-of-type {\n",
              "        vertical-align: middle;\n",
              "    }\n",
              "\n",
              "    .dataframe tbody tr th {\n",
              "        vertical-align: top;\n",
              "    }\n",
              "\n",
              "    .dataframe thead th {\n",
              "        text-align: right;\n",
              "    }\n",
              "</style>\n",
              "<table border=\"1\" class=\"dataframe\">\n",
              "  <thead>\n",
              "    <tr style=\"text-align: right;\">\n",
              "      <th></th>\n",
              "      <th>delito</th>\n",
              "      <th>ao_hechos_x</th>\n",
              "      <th>ao_hechos_y</th>\n",
              "      <th>ao_hechos_x</th>\n",
              "      <th>ao_hechos_y</th>\n",
              "      <th>ao_hechos_x</th>\n",
              "      <th>ao_hechos_y</th>\n",
              "    </tr>\n",
              "  </thead>\n",
              "  <tbody>\n",
              "    <tr>\n",
              "      <th>0</th>\n",
              "      <td>VIOLENCIA FAMILIAR</td>\n",
              "      <td>17844.0</td>\n",
              "      <td>18325.0</td>\n",
              "      <td>19756.0</td>\n",
              "      <td>25430.0</td>\n",
              "      <td>27573.0</td>\n",
              "      <td>16110.0</td>\n",
              "    </tr>\n",
              "    <tr>\n",
              "      <th>1</th>\n",
              "      <td>ROBO DE OBJETOS</td>\n",
              "      <td>14868.0</td>\n",
              "      <td>15927.0</td>\n",
              "      <td>14204.0</td>\n",
              "      <td>12416.0</td>\n",
              "      <td>9005.0</td>\n",
              "      <td>4684.0</td>\n",
              "    </tr>\n",
              "    <tr>\n",
              "      <th>2</th>\n",
              "      <td>ROBO A NEGOCIO SIN VIOLENCIA</td>\n",
              "      <td>13411.0</td>\n",
              "      <td>14844.0</td>\n",
              "      <td>15956.0</td>\n",
              "      <td>15741.0</td>\n",
              "      <td>4437.0</td>\n",
              "      <td>1919.0</td>\n",
              "    </tr>\n",
              "    <tr>\n",
              "      <th>3</th>\n",
              "      <td>FRAUDE</td>\n",
              "      <td>10625.0</td>\n",
              "      <td>11454.0</td>\n",
              "      <td>13168.0</td>\n",
              "      <td>13601.0</td>\n",
              "      <td>12489.0</td>\n",
              "      <td>5990.0</td>\n",
              "    </tr>\n",
              "    <tr>\n",
              "      <th>4</th>\n",
              "      <td>AMENAZAS</td>\n",
              "      <td>9864.0</td>\n",
              "      <td>9434.0</td>\n",
              "      <td>11044.0</td>\n",
              "      <td>13677.0</td>\n",
              "      <td>14212.0</td>\n",
              "      <td>7907.0</td>\n",
              "    </tr>\n",
              "  </tbody>\n",
              "</table>\n",
              "</div>"
            ],
            "text/plain": [
              "                         delito  ao_hechos_x  ...  ao_hechos_x  ao_hechos_y\n",
              "0            VIOLENCIA FAMILIAR      17844.0  ...      27573.0      16110.0\n",
              "1               ROBO DE OBJETOS      14868.0  ...       9005.0       4684.0\n",
              "2  ROBO A NEGOCIO SIN VIOLENCIA      13411.0  ...       4437.0       1919.0\n",
              "3                        FRAUDE      10625.0  ...      12489.0       5990.0\n",
              "4                      AMENAZAS       9864.0  ...      14212.0       7907.0\n",
              "\n",
              "[5 rows x 7 columns]"
            ]
          },
          "metadata": {
            "tags": []
          },
          "execution_count": 34
        }
      ]
    },
    {
      "cell_type": "markdown",
      "metadata": {
        "id": "Piwa2OfBnZSb"
      },
      "source": [
        "#### 6.2.4 *¿Qué tipos de delitos se cometen por alcaldía?*"
      ]
    },
    {
      "cell_type": "code",
      "metadata": {
        "colab": {
          "base_uri": "https://localhost:8080/"
        },
        "id": "rSaTwnUzBY0C",
        "outputId": "150bcf40-280d-4d2e-8e5e-c7c0adf1a488"
      },
      "source": [
        "#Agrupamos delitos por alcaldía de hechos\n",
        "df_casting.groupby('alcaldia_hechos').size()"
      ],
      "execution_count": null,
      "outputs": [
        {
          "output_type": "execute_result",
          "data": {
            "text/plain": [
              "alcaldia_hechos\n",
              "ALVARO OBREGON             78197\n",
              "AZCAPOTZALCO               56977\n",
              "BENITO JUAREZ              95689\n",
              "COYOACAN                   77192\n",
              "CUAJIMALPA DE MORELOS      17166\n",
              "CUAUHTEMOC                168678\n",
              "GUSTAVO A MADERO          114239\n",
              "IZTACALCO                  48170\n",
              "IZTAPALAPA                169783\n",
              "LA MAGDALENA CONTRERAS     19162\n",
              "MIGUEL HIDALGO             75264\n",
              "MILPA ALTA                  8165\n",
              "TLAHUAC                    28027\n",
              "TLALPAN                    67814\n",
              "VENUSTIANO CARRANZA        64196\n",
              "XOCHIMILCO                 36409\n",
              "dtype: int64"
            ]
          },
          "metadata": {
            "tags": []
          },
          "execution_count": 35
        }
      ]
    },
    {
      "cell_type": "code",
      "metadata": {
        "colab": {
          "base_uri": "https://localhost:8080/"
        },
        "id": "5oeAG9uvCBt8",
        "outputId": "b5d7dc77-fdf8-48ae-a109-917adb643954"
      },
      "source": [
        "#Consultamos cada alcaldía para saber sus tipos de delito que se cometen por la misma\n",
        "df6, df7 = [x for _, x in df_casting.groupby(df_casting['alcaldia_hechos'] == 'ALVARO OBREGON')]\n",
        "df7.groupby('delito').size()"
      ],
      "execution_count": null,
      "outputs": [
        {
          "output_type": "execute_result",
          "data": {
            "text/plain": [
              "delito\n",
              "ABANDONO DE PERSONA                                      120\n",
              "ABORTO                                                    39\n",
              "ABUSO DE AUTORIDAD                                       146\n",
              "ABUSO DE AUTORIDAD Y USO ILEGAL DE LA FUERZA PUBLICA     304\n",
              "ABUSO DE CONFIANZA                                      1362\n",
              "                                                        ... \n",
              "VIOLACION EQUIPARADA POR CONOCIDO                          5\n",
              "VIOLACION EQUIPARADA Y ROBO DE VEHICULO                    1\n",
              "VIOLACION TUMULTUARIA                                      4\n",
              "VIOLACION Y ROBO DE VEHICULO                               1\n",
              "VIOLENCIA FAMILIAR                                      9518\n",
              "Length: 258, dtype: int64"
            ]
          },
          "metadata": {
            "tags": []
          },
          "execution_count": 36
        }
      ]
    },
    {
      "cell_type": "code",
      "metadata": {
        "id": "QiI4aXGoF30u",
        "colab": {
          "base_uri": "https://localhost:8080/"
        },
        "outputId": "68d29722-1bb1-4892-cb48-0b29ef14e774"
      },
      "source": [
        "df6, df7 = [x for _, x in df_casting.groupby(df_casting['alcaldia_hechos'] == 'AZCAPOTZALCO')]\n",
        "df7.groupby('delito').size()"
      ],
      "execution_count": null,
      "outputs": [
        {
          "output_type": "execute_result",
          "data": {
            "text/plain": [
              "delito\n",
              "ABANDONO DE PERSONA                                       73\n",
              "ABORTO                                                     8\n",
              "ABUSO DE AUTORIDAD                                       136\n",
              "ABUSO DE AUTORIDAD Y USO ILEGAL DE LA FUERZA PUBLICA     160\n",
              "ABUSO DE CONFIANZA                                      1041\n",
              "                                                        ... \n",
              "VIOLACION EQUIPARADA                                      36\n",
              "VIOLACION EQUIPARADA POR CONOCIDO                          3\n",
              "VIOLACION TUMULTUARIA                                      3\n",
              "VIOLACION TUMULTUARIA EQUIPARADA POR CONOCIDO              1\n",
              "VIOLENCIA FAMILIAR                                      6033\n",
              "Length: 252, dtype: int64"
            ]
          },
          "metadata": {
            "tags": []
          },
          "execution_count": 37
        }
      ]
    },
    {
      "cell_type": "code",
      "metadata": {
        "id": "wvgiZ_9iFFPd",
        "colab": {
          "base_uri": "https://localhost:8080/"
        },
        "outputId": "45c5b7a0-c4e5-4c5d-eab5-eff426ade7eb"
      },
      "source": [
        "df6, df7 = [x for _, x in df_casting.groupby(df_casting['alcaldia_hechos'] == 'BENITO JUAREZ')]\n",
        "df7.groupby('delito').size()"
      ],
      "execution_count": null,
      "outputs": [
        {
          "output_type": "execute_result",
          "data": {
            "text/plain": [
              "delito\n",
              "ABANDONO DE PERSONA                                      137\n",
              "ABORTO                                                    12\n",
              "ABUSO DE AUTORIDAD                                       158\n",
              "ABUSO DE AUTORIDAD Y USO ILEGAL DE LA FUERZA PUBLICA     224\n",
              "ABUSO DE CONFIANZA                                      2256\n",
              "                                                        ... \n",
              "VIOLACION EQUIPARADA                                      53\n",
              "VIOLACION EQUIPARADA POR CONOCIDO                          3\n",
              "VIOLACION TUMULTUARIA                                      5\n",
              "VIOLACION TUMULTUARIA EQUIPARADA                           1\n",
              "VIOLENCIA FAMILIAR                                      4670\n",
              "Length: 258, dtype: int64"
            ]
          },
          "metadata": {
            "tags": []
          },
          "execution_count": 38
        }
      ]
    },
    {
      "cell_type": "code",
      "metadata": {
        "colab": {
          "base_uri": "https://localhost:8080/"
        },
        "id": "ZYuARIp1kYEN",
        "outputId": "5c63d136-0312-46b5-87d4-cc77826f7d1a"
      },
      "source": [
        "df6, df7 = [x for _, x in df_casting.groupby(df_casting['alcaldia_hechos'] == 'COYOACAN')]\n",
        "df7.groupby('delito').size()"
      ],
      "execution_count": null,
      "outputs": [
        {
          "output_type": "execute_result",
          "data": {
            "text/plain": [
              "delito\n",
              "ABANDONO DE PERSONA                                      114\n",
              "ABORTO                                                     9\n",
              "ABUSO DE AUTORIDAD                                       201\n",
              "ABUSO DE AUTORIDAD Y USO ILEGAL DE LA FUERZA PUBLICA     211\n",
              "ABUSO DE CONFIANZA                                      1273\n",
              "                                                        ... \n",
              "VIOLACION EQUIPARADA POR CONOCIDO                          5\n",
              "VIOLACION EQUIPARADA Y ROBO DE VEHICULO                    1\n",
              "VIOLACION TUMULTUARIA                                      7\n",
              "VIOLACION TUMULTUARIA EQUIPARADA POR CONOCIDO              1\n",
              "VIOLENCIA FAMILIAR                                      8287\n",
              "Length: 256, dtype: int64"
            ]
          },
          "metadata": {
            "tags": []
          },
          "execution_count": 39
        }
      ]
    },
    {
      "cell_type": "code",
      "metadata": {
        "colab": {
          "base_uri": "https://localhost:8080/"
        },
        "id": "IOnz7AdgkmBQ",
        "outputId": "277031b6-ab22-49ea-8e6d-6efd2d74e30c"
      },
      "source": [
        "df6, df7 = [x for _, x in df_casting.groupby(df_casting['alcaldia_hechos'] == 'CUAJIMALPA DE MORELOS')]\n",
        "df7.groupby('delito').size()"
      ],
      "execution_count": null,
      "outputs": [
        {
          "output_type": "execute_result",
          "data": {
            "text/plain": [
              "delito\n",
              "ABANDONO DE PERSONA                                       18\n",
              "ABORTO                                                     5\n",
              "ABUSO DE AUTORIDAD                                        34\n",
              "ABUSO DE AUTORIDAD Y USO ILEGAL DE LA FUERZA PUBLICA      65\n",
              "ABUSO DE CONFIANZA                                       475\n",
              "                                                        ... \n",
              "VIOLACION DE LA INTIMIDAD                                  1\n",
              "VIOLACION EQUIPARADA                                      18\n",
              "VIOLACION EQUIPARADA POR CONOCIDO                          1\n",
              "VIOLACION TUMULTUARIA                                      2\n",
              "VIOLENCIA FAMILIAR                                      2278\n",
              "Length: 216, dtype: int64"
            ]
          },
          "metadata": {
            "tags": []
          },
          "execution_count": 40
        }
      ]
    },
    {
      "cell_type": "code",
      "metadata": {
        "colab": {
          "base_uri": "https://localhost:8080/"
        },
        "id": "jQPh9d22krfa",
        "outputId": "4324ef16-ef19-4ad4-eed5-3a7dac264e54"
      },
      "source": [
        "df6, df7 = [x for _, x in df_casting.groupby(df_casting['alcaldia_hechos'] == 'CUAUHTEMOC')]\n",
        "df7.groupby('delito').size()"
      ],
      "execution_count": null,
      "outputs": [
        {
          "output_type": "execute_result",
          "data": {
            "text/plain": [
              "delito\n",
              "ABANDONO DE PERSONA                                      421\n",
              "ABORTO                                                    27\n",
              "ABUSO DE AUTORIDAD                                      1058\n",
              "ABUSO DE AUTORIDAD Y USO ILEGAL DE LA FUERZA PUBLICA     944\n",
              "ABUSO DE CONFIANZA                                      2902\n",
              "                                                        ... \n",
              "VIOLACION EQUIPARADA                                     114\n",
              "VIOLACION EQUIPARADA POR CONOCIDO                          8\n",
              "VIOLACION EQUIPARADA Y ROBO DE VEHICULO                    2\n",
              "VIOLACION TUMULTUARIA                                     21\n",
              "VIOLENCIA FAMILIAR                                      9739\n",
              "Length: 281, dtype: int64"
            ]
          },
          "metadata": {
            "tags": []
          },
          "execution_count": 41
        }
      ]
    },
    {
      "cell_type": "code",
      "metadata": {
        "colab": {
          "base_uri": "https://localhost:8080/"
        },
        "id": "mUJzC0AGktjt",
        "outputId": "cbaf8d2b-c389-417f-f156-a466e8798eb2"
      },
      "source": [
        "df6, df7 = [x for _, x in df_casting.groupby(df_casting['alcaldia_hechos'] == 'GUSTAVO A MADERO')]\n",
        "df7.groupby('delito').size()"
      ],
      "execution_count": null,
      "outputs": [
        {
          "output_type": "execute_result",
          "data": {
            "text/plain": [
              "delito\n",
              "ABANDONO DE PERSONA                                       155\n",
              "ABORTO                                                     46\n",
              "ABUSO DE AUTORIDAD                                        437\n",
              "ABUSO DE AUTORIDAD Y USO ILEGAL DE LA FUERZA PUBLICA      462\n",
              "ABUSO DE CONFIANZA                                       1748\n",
              "                                                        ...  \n",
              "VIOLACION EQUIPARADA                                       84\n",
              "VIOLACION EQUIPARADA POR CONOCIDO                          11\n",
              "VIOLACION EQUIPARADA Y ROBO DE VEHICULO                     1\n",
              "VIOLACION TUMULTUARIA                                       6\n",
              "VIOLENCIA FAMILIAR                                      14917\n",
              "Length: 269, dtype: int64"
            ]
          },
          "metadata": {
            "tags": []
          },
          "execution_count": 42
        }
      ]
    },
    {
      "cell_type": "code",
      "metadata": {
        "colab": {
          "base_uri": "https://localhost:8080/"
        },
        "id": "Ih6TxhVClC6a",
        "outputId": "0de1b89a-bfbe-498f-bd08-45284c38c2e8"
      },
      "source": [
        "df6, df7 = [x for _, x in df_casting.groupby(df_casting['alcaldia_hechos'] == 'IZTACALCO')]\n",
        "df7.groupby('delito').size()"
      ],
      "execution_count": null,
      "outputs": [
        {
          "output_type": "execute_result",
          "data": {
            "text/plain": [
              "delito\n",
              "ABANDONO DE PERSONA                                       92\n",
              "ABORTO                                                    14\n",
              "ABUSO DE AUTORIDAD                                       141\n",
              "ABUSO DE AUTORIDAD Y USO ILEGAL DE LA FUERZA PUBLICA     230\n",
              "ABUSO DE CONFIANZA                                       796\n",
              "                                                        ... \n",
              "VIOLACION EQUIPARADA                                      27\n",
              "VIOLACION EQUIPARADA POR CONOCIDO                          2\n",
              "VIOLACION EQUIPARADA Y ROBO DE VEHICULO                    1\n",
              "VIOLACION TUMULTUARIA                                      7\n",
              "VIOLENCIA FAMILIAR                                      7460\n",
              "Length: 243, dtype: int64"
            ]
          },
          "metadata": {
            "tags": []
          },
          "execution_count": 43
        }
      ]
    },
    {
      "cell_type": "code",
      "metadata": {
        "colab": {
          "base_uri": "https://localhost:8080/"
        },
        "id": "SHBOewCrlOst",
        "outputId": "8419cb13-5b41-4e16-e562-87f05ce3cdf4"
      },
      "source": [
        "df6, df7 = [x for _, x in df_casting.groupby(df_casting['alcaldia_hechos'] == 'IZTAPALAPA')]\n",
        "df7.groupby('delito').size()"
      ],
      "execution_count": null,
      "outputs": [
        {
          "output_type": "execute_result",
          "data": {
            "text/plain": [
              "delito\n",
              "ABANDONO DE PERSONA                                       228\n",
              "ABORTO                                                     76\n",
              "ABUSO DE AUTORIDAD                                        680\n",
              "ABUSO DE AUTORIDAD Y USO ILEGAL DE LA FUERZA PUBLICA      837\n",
              "ABUSO DE CONFIANZA                                       2244\n",
              "                                                        ...  \n",
              "VIOLACION EQUIPARADA POR CONOCIDO                          15\n",
              "VIOLACION EQUIPARADA Y ROBO DE VEHICULO                     1\n",
              "VIOLACION TUMULTUARIA                                      19\n",
              "VIOLACION TUMULTUARIA EQUIPARADA                            1\n",
              "VIOLENCIA FAMILIAR                                      23043\n",
              "Length: 279, dtype: int64"
            ]
          },
          "metadata": {
            "tags": []
          },
          "execution_count": 44
        }
      ]
    },
    {
      "cell_type": "code",
      "metadata": {
        "colab": {
          "base_uri": "https://localhost:8080/"
        },
        "id": "hHboOODWlUqS",
        "outputId": "81a8a472-e996-419d-b5e4-3ece27ce4e9e"
      },
      "source": [
        "df6, df7 = [x for _, x in df_casting.groupby(df_casting['alcaldia_hechos'] == 'LA MAGDALENA CONTRERAS')]\n",
        "df7.groupby('delito').size()"
      ],
      "execution_count": null,
      "outputs": [
        {
          "output_type": "execute_result",
          "data": {
            "text/plain": [
              "delito\n",
              "ABANDONO DE PERSONA                                       24\n",
              "ABORTO                                                    12\n",
              "ABUSO DE AUTORIDAD                                        38\n",
              "ABUSO DE AUTORIDAD Y USO ILEGAL DE LA FUERZA PUBLICA      80\n",
              "ABUSO DE CONFIANZA                                       263\n",
              "                                                        ... \n",
              "VIOLACION DE LA INTIMIDAD                                  3\n",
              "VIOLACION EQUIPARADA                                      29\n",
              "VIOLACION EQUIPARADA POR CONOCIDO                          4\n",
              "VIOLACION TUMULTUARIA                                      2\n",
              "VIOLENCIA FAMILIAR                                      4709\n",
              "Length: 213, dtype: int64"
            ]
          },
          "metadata": {
            "tags": []
          },
          "execution_count": 45
        }
      ]
    },
    {
      "cell_type": "code",
      "metadata": {
        "colab": {
          "base_uri": "https://localhost:8080/"
        },
        "id": "KolpRXoelXfD",
        "outputId": "225d9abc-2b5b-4642-a45b-71d7c1552384"
      },
      "source": [
        "df6, df7 = [x for _, x in df_casting.groupby(df_casting['alcaldia_hechos'] == 'MIGUEL HIDALGO')]\n",
        "df7.groupby('delito').size()"
      ],
      "execution_count": null,
      "outputs": [
        {
          "output_type": "execute_result",
          "data": {
            "text/plain": [
              "delito\n",
              "ABANDONO DE PERSONA                                       77\n",
              "ABORTO                                                    14\n",
              "ABUSO DE AUTORIDAD                                       234\n",
              "ABUSO DE AUTORIDAD Y USO ILEGAL DE LA FUERZA PUBLICA     239\n",
              "ABUSO DE CONFIANZA                                      1355\n",
              "                                                        ... \n",
              "VIOLACION DE LA INTIMIDAD                                  4\n",
              "VIOLACION EQUIPARADA                                      57\n",
              "VIOLACION EQUIPARADA POR CONOCIDO                          7\n",
              "VIOLACION TUMULTUARIA                                      2\n",
              "VIOLENCIA FAMILIAR                                      4435\n",
              "Length: 259, dtype: int64"
            ]
          },
          "metadata": {
            "tags": []
          },
          "execution_count": 46
        }
      ]
    },
    {
      "cell_type": "code",
      "metadata": {
        "colab": {
          "base_uri": "https://localhost:8080/"
        },
        "id": "ojQz62IPlgJg",
        "outputId": "cb3034d5-5c9a-4eb2-968f-8765e26839ad"
      },
      "source": [
        "df6, df7 = [x for _, x in df_casting.groupby(df_casting['alcaldia_hechos'] == 'MILPA ALTA')]\n",
        "df7.groupby('delito').size()"
      ],
      "execution_count": null,
      "outputs": [
        {
          "output_type": "execute_result",
          "data": {
            "text/plain": [
              "delito\n",
              "ABANDONO DE PERSONA                                       16\n",
              "ABORTO                                                     7\n",
              "ABUSO DE AUTORIDAD                                        14\n",
              "ABUSO DE AUTORIDAD Y USO ILEGAL DE LA FUERZA PUBLICA      37\n",
              "ABUSO DE CONFIANZA                                       114\n",
              "                                                        ... \n",
              "VIOLACION DE LA INTIMIDAD                                  1\n",
              "VIOLACION EQUIPARADA                                      15\n",
              "VIOLACION EQUIPARADA POR CONOCIDO                          6\n",
              "VIOLACION TUMULTUARIA                                      5\n",
              "VIOLENCIA FAMILIAR                                      2016\n",
              "Length: 185, dtype: int64"
            ]
          },
          "metadata": {
            "tags": []
          },
          "execution_count": 47
        }
      ]
    },
    {
      "cell_type": "code",
      "metadata": {
        "colab": {
          "base_uri": "https://localhost:8080/"
        },
        "id": "7x4eNJqtliZ5",
        "outputId": "fff87fc5-5138-45ba-9eb2-57cafba1d26c"
      },
      "source": [
        "df6, df7 = [x for _, x in df_casting.groupby(df_casting['alcaldia_hechos'] == 'MIGUEL HIDALGO')]\n",
        "df7.groupby('delito').size()"
      ],
      "execution_count": null,
      "outputs": [
        {
          "output_type": "execute_result",
          "data": {
            "text/plain": [
              "delito\n",
              "ABANDONO DE PERSONA                                       77\n",
              "ABORTO                                                    14\n",
              "ABUSO DE AUTORIDAD                                       234\n",
              "ABUSO DE AUTORIDAD Y USO ILEGAL DE LA FUERZA PUBLICA     239\n",
              "ABUSO DE CONFIANZA                                      1355\n",
              "                                                        ... \n",
              "VIOLACION DE LA INTIMIDAD                                  4\n",
              "VIOLACION EQUIPARADA                                      57\n",
              "VIOLACION EQUIPARADA POR CONOCIDO                          7\n",
              "VIOLACION TUMULTUARIA                                      2\n",
              "VIOLENCIA FAMILIAR                                      4435\n",
              "Length: 259, dtype: int64"
            ]
          },
          "metadata": {
            "tags": []
          },
          "execution_count": 48
        }
      ]
    },
    {
      "cell_type": "code",
      "metadata": {
        "colab": {
          "base_uri": "https://localhost:8080/"
        },
        "id": "7EjBI8rFltmR",
        "outputId": "4ba941f0-b4f4-4b9e-9a8a-647cdd78595a"
      },
      "source": [
        "df6, df7 = [x for _, x in df_casting.groupby(df_casting['alcaldia_hechos'] == 'TLAHUAC')]\n",
        "df7.groupby('delito').size()"
      ],
      "execution_count": null,
      "outputs": [
        {
          "output_type": "execute_result",
          "data": {
            "text/plain": [
              "delito\n",
              "ABANDONO DE PERSONA                                       32\n",
              "ABORTO                                                    13\n",
              "ABUSO DE AUTORIDAD                                        65\n",
              "ABUSO DE AUTORIDAD Y USO ILEGAL DE LA FUERZA PUBLICA     107\n",
              "ABUSO DE CONFIANZA                                       428\n",
              "                                                        ... \n",
              "VIOLACION DE LA INTIMIDAD                                  3\n",
              "VIOLACION EQUIPARADA                                      38\n",
              "VIOLACION EQUIPARADA POR CONOCIDO                          5\n",
              "VIOLACION TUMULTUARIA                                      5\n",
              "VIOLENCIA FAMILIAR                                      5349\n",
              "Length: 236, dtype: int64"
            ]
          },
          "metadata": {
            "tags": []
          },
          "execution_count": 49
        }
      ]
    },
    {
      "cell_type": "code",
      "metadata": {
        "colab": {
          "base_uri": "https://localhost:8080/"
        },
        "id": "y2td9zTQlxQe",
        "outputId": "f23113e1-067e-44bb-9bb3-d603064b1051"
      },
      "source": [
        "df6, df7 = [x for _, x in df_casting.groupby(df_casting['alcaldia_hechos'] == 'TLALPAN')]\n",
        "df7.groupby('delito').size()"
      ],
      "execution_count": null,
      "outputs": [
        {
          "output_type": "execute_result",
          "data": {
            "text/plain": [
              "delito\n",
              "ABANDONO DE PERSONA                                       96\n",
              "ABORTO                                                    20\n",
              "ABUSO DE AUTORIDAD                                       108\n",
              "ABUSO DE AUTORIDAD Y USO ILEGAL DE LA FUERZA PUBLICA     189\n",
              "ABUSO DE CONFIANZA                                      1070\n",
              "                                                        ... \n",
              "VIOLACION EQUIPARADA                                      54\n",
              "VIOLACION EQUIPARADA POR CONOCIDO                          5\n",
              "VIOLACION EQUIPARADA Y ROBO DE VEHICULO                    1\n",
              "VIOLACION TUMULTUARIA                                      7\n",
              "VIOLENCIA FAMILIAR                                      9172\n",
              "Length: 255, dtype: int64"
            ]
          },
          "metadata": {
            "tags": []
          },
          "execution_count": 50
        }
      ]
    },
    {
      "cell_type": "code",
      "metadata": {
        "colab": {
          "base_uri": "https://localhost:8080/"
        },
        "id": "0Fk9V3YHlygj",
        "outputId": "ae45add2-e1c6-492e-f1d9-ca81dbfb2e69"
      },
      "source": [
        "df6, df7 = [x for _, x in df_casting.groupby(df_casting['alcaldia_hechos'] == 'VENUSTIANO CARRANZA')]\n",
        "df7.groupby('delito').size()"
      ],
      "execution_count": null,
      "outputs": [
        {
          "output_type": "execute_result",
          "data": {
            "text/plain": [
              "delito\n",
              "ABANDONO DE PERSONA                                       78\n",
              "ABORTO                                                    30\n",
              "ABUSO DE AUTORIDAD                                       280\n",
              "ABUSO DE AUTORIDAD Y USO ILEGAL DE LA FUERZA PUBLICA     410\n",
              "ABUSO DE CONFIANZA                                      1260\n",
              "                                                        ... \n",
              "VIOLACION DE LA INTIMIDAD                                  2\n",
              "VIOLACION EQUIPARADA                                      50\n",
              "VIOLACION EQUIPARADA POR CONOCIDO                          4\n",
              "VIOLACION TUMULTUARIA                                      7\n",
              "VIOLENCIA FAMILIAR                                      7092\n",
              "Length: 243, dtype: int64"
            ]
          },
          "metadata": {
            "tags": []
          },
          "execution_count": 51
        }
      ]
    },
    {
      "cell_type": "code",
      "metadata": {
        "colab": {
          "base_uri": "https://localhost:8080/"
        },
        "id": "r0yk5oKQl1kr",
        "outputId": "620d3262-2150-41ac-e7bd-251908e0baaf"
      },
      "source": [
        "df6, df7 = [x for _, x in df_casting.groupby(df_casting['alcaldia_hechos'] == 'XOCHIMILCO')]\n",
        "df7.groupby('delito').size()"
      ],
      "execution_count": null,
      "outputs": [
        {
          "output_type": "execute_result",
          "data": {
            "text/plain": [
              "delito\n",
              "ABANDONO DE PERSONA                                       69\n",
              "ABORTO                                                    11\n",
              "ABUSO DE AUTORIDAD                                        90\n",
              "ABUSO DE AUTORIDAD Y USO ILEGAL DE LA FUERZA PUBLICA     126\n",
              "ABUSO DE CONFIANZA                                       506\n",
              "                                                        ... \n",
              "VIOLACION EQUIPARADA Y ROBO DE VEHICULO                    2\n",
              "VIOLACION TUMULTUARIA                                      7\n",
              "VIOLACION TUMULTUARIA EQUIPARADA POR CONOCIDO              1\n",
              "VIOLACION Y ROBO DE VEHICULO                               1\n",
              "VIOLENCIA FAMILIAR                                      6320\n",
              "Length: 248, dtype: int64"
            ]
          },
          "metadata": {
            "tags": []
          },
          "execution_count": 52
        }
      ]
    },
    {
      "cell_type": "markdown",
      "metadata": {
        "id": "FTF9f-ISnipU"
      },
      "source": [
        "#### 6.2.5 *¿Qué delitos han son más comúnes cada año?*\n",
        "\n",
        "\n",
        "*   Violencia familiar\n",
        "*   Robo de objetos\n",
        "*   Robo de negocio sin violencia\n",
        "\n",
        "\n"
      ]
    },
    {
      "cell_type": "code",
      "metadata": {
        "id": "rgSyG4nTklNU",
        "colab": {
          "base_uri": "https://localhost:8080/",
          "height": 407
        },
        "outputId": "78440cf9-3fd9-4a83-d368-22ce33684bd2"
      },
      "source": [
        "df6, df7 = [x for _, x in df_casting.groupby(df_casting['ao_hechos'] == 2016)]\n",
        "g=df7.groupby('delito')['ao_hechos'].size().reset_index()\n",
        "res=g.sort_values(\"ao_hechos\", ascending=False)\n",
        "res"
      ],
      "execution_count": null,
      "outputs": [
        {
          "output_type": "execute_result",
          "data": {
            "text/html": [
              "<div>\n",
              "<style scoped>\n",
              "    .dataframe tbody tr th:only-of-type {\n",
              "        vertical-align: middle;\n",
              "    }\n",
              "\n",
              "    .dataframe tbody tr th {\n",
              "        vertical-align: top;\n",
              "    }\n",
              "\n",
              "    .dataframe thead th {\n",
              "        text-align: right;\n",
              "    }\n",
              "</style>\n",
              "<table border=\"1\" class=\"dataframe\">\n",
              "  <thead>\n",
              "    <tr style=\"text-align: right;\">\n",
              "      <th></th>\n",
              "      <th>delito</th>\n",
              "      <th>ao_hechos</th>\n",
              "    </tr>\n",
              "  </thead>\n",
              "  <tbody>\n",
              "    <tr>\n",
              "      <th>248</th>\n",
              "      <td>VIOLENCIA FAMILIAR</td>\n",
              "      <td>17844</td>\n",
              "    </tr>\n",
              "    <tr>\n",
              "      <th>202</th>\n",
              "      <td>ROBO DE OBJETOS</td>\n",
              "      <td>14868</td>\n",
              "    </tr>\n",
              "    <tr>\n",
              "      <th>137</th>\n",
              "      <td>ROBO A NEGOCIO SIN VIOLENCIA</td>\n",
              "      <td>13411</td>\n",
              "    </tr>\n",
              "    <tr>\n",
              "      <th>69</th>\n",
              "      <td>FRAUDE</td>\n",
              "      <td>10625</td>\n",
              "    </tr>\n",
              "    <tr>\n",
              "      <th>9</th>\n",
              "      <td>AMENAZAS</td>\n",
              "      <td>9864</td>\n",
              "    </tr>\n",
              "    <tr>\n",
              "      <th>...</th>\n",
              "      <td>...</td>\n",
              "      <td>...</td>\n",
              "    </tr>\n",
              "    <tr>\n",
              "      <th>16</th>\n",
              "      <td>COACCION DE SERVIDORES PUBLICOS</td>\n",
              "      <td>1</td>\n",
              "    </tr>\n",
              "    <tr>\n",
              "      <th>10</th>\n",
              "      <td>ASOCIACION DELICTUOSA</td>\n",
              "      <td>1</td>\n",
              "    </tr>\n",
              "    <tr>\n",
              "      <th>215</th>\n",
              "      <td>ROBO DURANTE TRASLADO DE VALORES (NOMINA) CON ...</td>\n",
              "      <td>1</td>\n",
              "    </tr>\n",
              "    <tr>\n",
              "      <th>216</th>\n",
              "      <td>ROBO DURANTE TRASLADO DE VALORES (NOMINA) SIN ...</td>\n",
              "      <td>1</td>\n",
              "    </tr>\n",
              "    <tr>\n",
              "      <th>124</th>\n",
              "      <td>PROVOCACION O APOLOGIA DE DELITO</td>\n",
              "      <td>1</td>\n",
              "    </tr>\n",
              "  </tbody>\n",
              "</table>\n",
              "<p>249 rows × 2 columns</p>\n",
              "</div>"
            ],
            "text/plain": [
              "                                                delito  ao_hechos\n",
              "248                                 VIOLENCIA FAMILIAR      17844\n",
              "202                                    ROBO DE OBJETOS      14868\n",
              "137                       ROBO A NEGOCIO SIN VIOLENCIA      13411\n",
              "69                                              FRAUDE      10625\n",
              "9                                             AMENAZAS       9864\n",
              "..                                                 ...        ...\n",
              "16                     COACCION DE SERVIDORES PUBLICOS          1\n",
              "10                               ASOCIACION DELICTUOSA          1\n",
              "215  ROBO DURANTE TRASLADO DE VALORES (NOMINA) CON ...          1\n",
              "216  ROBO DURANTE TRASLADO DE VALORES (NOMINA) SIN ...          1\n",
              "124                   PROVOCACION O APOLOGIA DE DELITO          1\n",
              "\n",
              "[249 rows x 2 columns]"
            ]
          },
          "metadata": {
            "tags": []
          },
          "execution_count": 53
        }
      ]
    },
    {
      "cell_type": "code",
      "metadata": {
        "colab": {
          "base_uri": "https://localhost:8080/",
          "height": 407
        },
        "id": "nfNaBzpJK588",
        "outputId": "2e04ad6c-e7ac-4e29-fe0a-3beb4cdaf2b8"
      },
      "source": [
        "df6, df7 = [x for _, x in df_casting.groupby(df_casting['ao_hechos'] == 2017)]\n",
        "g=df7.groupby('delito')['ao_hechos'].size().reset_index()\n",
        "res=g.sort_values(\"ao_hechos\", ascending=False)\n",
        "res"
      ],
      "execution_count": null,
      "outputs": [
        {
          "output_type": "execute_result",
          "data": {
            "text/html": [
              "<div>\n",
              "<style scoped>\n",
              "    .dataframe tbody tr th:only-of-type {\n",
              "        vertical-align: middle;\n",
              "    }\n",
              "\n",
              "    .dataframe tbody tr th {\n",
              "        vertical-align: top;\n",
              "    }\n",
              "\n",
              "    .dataframe thead th {\n",
              "        text-align: right;\n",
              "    }\n",
              "</style>\n",
              "<table border=\"1\" class=\"dataframe\">\n",
              "  <thead>\n",
              "    <tr style=\"text-align: right;\">\n",
              "      <th></th>\n",
              "      <th>delito</th>\n",
              "      <th>ao_hechos</th>\n",
              "    </tr>\n",
              "  </thead>\n",
              "  <tbody>\n",
              "    <tr>\n",
              "      <th>250</th>\n",
              "      <td>VIOLENCIA FAMILIAR</td>\n",
              "      <td>18325</td>\n",
              "    </tr>\n",
              "    <tr>\n",
              "      <th>200</th>\n",
              "      <td>ROBO DE OBJETOS</td>\n",
              "      <td>15927</td>\n",
              "    </tr>\n",
              "    <tr>\n",
              "      <th>135</th>\n",
              "      <td>ROBO A NEGOCIO SIN VIOLENCIA</td>\n",
              "      <td>14844</td>\n",
              "    </tr>\n",
              "    <tr>\n",
              "      <th>68</th>\n",
              "      <td>FRAUDE</td>\n",
              "      <td>11454</td>\n",
              "    </tr>\n",
              "    <tr>\n",
              "      <th>9</th>\n",
              "      <td>AMENAZAS</td>\n",
              "      <td>9434</td>\n",
              "    </tr>\n",
              "    <tr>\n",
              "      <th>...</th>\n",
              "      <td>...</td>\n",
              "      <td>...</td>\n",
              "    </tr>\n",
              "    <tr>\n",
              "      <th>53</th>\n",
              "      <td>ENCUBRIMIENTO POR FAVORECIMIENTO Y RECEPTACIÓN</td>\n",
              "      <td>1</td>\n",
              "    </tr>\n",
              "    <tr>\n",
              "      <th>122</th>\n",
              "      <td>PROVOCACION O APOLOGIA DE DELITO</td>\n",
              "      <td>1</td>\n",
              "    </tr>\n",
              "    <tr>\n",
              "      <th>213</th>\n",
              "      <td>ROBO DE VEHICULO Y NOMINA CON VIOLENCIA</td>\n",
              "      <td>1</td>\n",
              "    </tr>\n",
              "    <tr>\n",
              "      <th>127</th>\n",
              "      <td>RETENCIÓN DE MENORES</td>\n",
              "      <td>1</td>\n",
              "    </tr>\n",
              "    <tr>\n",
              "      <th>171</th>\n",
              "      <td>ROBO A TRANSEUNTE A BORDO DE TAXI PÚBLICO Y PR...</td>\n",
              "      <td>1</td>\n",
              "    </tr>\n",
              "  </tbody>\n",
              "</table>\n",
              "<p>251 rows × 2 columns</p>\n",
              "</div>"
            ],
            "text/plain": [
              "                                                delito  ao_hechos\n",
              "250                                 VIOLENCIA FAMILIAR      18325\n",
              "200                                    ROBO DE OBJETOS      15927\n",
              "135                       ROBO A NEGOCIO SIN VIOLENCIA      14844\n",
              "68                                              FRAUDE      11454\n",
              "9                                             AMENAZAS       9434\n",
              "..                                                 ...        ...\n",
              "53      ENCUBRIMIENTO POR FAVORECIMIENTO Y RECEPTACIÓN          1\n",
              "122                   PROVOCACION O APOLOGIA DE DELITO          1\n",
              "213            ROBO DE VEHICULO Y NOMINA CON VIOLENCIA          1\n",
              "127                               RETENCIÓN DE MENORES          1\n",
              "171  ROBO A TRANSEUNTE A BORDO DE TAXI PÚBLICO Y PR...          1\n",
              "\n",
              "[251 rows x 2 columns]"
            ]
          },
          "metadata": {
            "tags": []
          },
          "execution_count": 54
        }
      ]
    },
    {
      "cell_type": "code",
      "metadata": {
        "colab": {
          "base_uri": "https://localhost:8080/",
          "height": 407
        },
        "id": "gjujy0lBmJ7B",
        "outputId": "db825b46-2116-4684-f6eb-2f48dc34faa8"
      },
      "source": [
        "df6, df7 = [x for _, x in df_casting.groupby(df_casting['ao_hechos'] == 2018)]\n",
        "g=df7.groupby('delito')['ao_hechos'].size().reset_index()\n",
        "res=g.sort_values(\"ao_hechos\", ascending=False)\n",
        "res"
      ],
      "execution_count": null,
      "outputs": [
        {
          "output_type": "execute_result",
          "data": {
            "text/html": [
              "<div>\n",
              "<style scoped>\n",
              "    .dataframe tbody tr th:only-of-type {\n",
              "        vertical-align: middle;\n",
              "    }\n",
              "\n",
              "    .dataframe tbody tr th {\n",
              "        vertical-align: top;\n",
              "    }\n",
              "\n",
              "    .dataframe thead th {\n",
              "        text-align: right;\n",
              "    }\n",
              "</style>\n",
              "<table border=\"1\" class=\"dataframe\">\n",
              "  <thead>\n",
              "    <tr style=\"text-align: right;\">\n",
              "      <th></th>\n",
              "      <th>delito</th>\n",
              "      <th>ao_hechos</th>\n",
              "    </tr>\n",
              "  </thead>\n",
              "  <tbody>\n",
              "    <tr>\n",
              "      <th>185</th>\n",
              "      <td>ROBO A TRANSEUNTE EN VIA PUBLICA CON VIOLENCIA</td>\n",
              "      <td>21887</td>\n",
              "    </tr>\n",
              "    <tr>\n",
              "      <th>252</th>\n",
              "      <td>VIOLENCIA FAMILIAR</td>\n",
              "      <td>19756</td>\n",
              "    </tr>\n",
              "    <tr>\n",
              "      <th>136</th>\n",
              "      <td>ROBO A NEGOCIO SIN VIOLENCIA</td>\n",
              "      <td>15956</td>\n",
              "    </tr>\n",
              "    <tr>\n",
              "      <th>203</th>\n",
              "      <td>ROBO DE OBJETOS</td>\n",
              "      <td>14204</td>\n",
              "    </tr>\n",
              "    <tr>\n",
              "      <th>68</th>\n",
              "      <td>FRAUDE</td>\n",
              "      <td>13168</td>\n",
              "    </tr>\n",
              "    <tr>\n",
              "      <th>...</th>\n",
              "      <td>...</td>\n",
              "      <td>...</td>\n",
              "    </tr>\n",
              "    <tr>\n",
              "      <th>220</th>\n",
              "      <td>ROBO S/V DENTRO DE NEGOCIOS, AUTOSERVICIOS, CO...</td>\n",
              "      <td>1</td>\n",
              "    </tr>\n",
              "    <tr>\n",
              "      <th>217</th>\n",
              "      <td>ROBO DURANTE TRASLADO DE VALORES (NOMINA) SIN ...</td>\n",
              "      <td>1</td>\n",
              "    </tr>\n",
              "    <tr>\n",
              "      <th>216</th>\n",
              "      <td>ROBO DURANTE TRASLADO DE VALORES (NOMINA) CON ...</td>\n",
              "      <td>1</td>\n",
              "    </tr>\n",
              "    <tr>\n",
              "      <th>198</th>\n",
              "      <td>ROBO DE INFANTE</td>\n",
              "      <td>1</td>\n",
              "    </tr>\n",
              "    <tr>\n",
              "      <th>160</th>\n",
              "      <td>ROBO A PASAJERO EN TREN SUBURBANO CON VIOLENCIA</td>\n",
              "      <td>1</td>\n",
              "    </tr>\n",
              "  </tbody>\n",
              "</table>\n",
              "<p>253 rows × 2 columns</p>\n",
              "</div>"
            ],
            "text/plain": [
              "                                                delito  ao_hechos\n",
              "185     ROBO A TRANSEUNTE EN VIA PUBLICA CON VIOLENCIA      21887\n",
              "252                                 VIOLENCIA FAMILIAR      19756\n",
              "136                       ROBO A NEGOCIO SIN VIOLENCIA      15956\n",
              "203                                    ROBO DE OBJETOS      14204\n",
              "68                                              FRAUDE      13168\n",
              "..                                                 ...        ...\n",
              "220  ROBO S/V DENTRO DE NEGOCIOS, AUTOSERVICIOS, CO...          1\n",
              "217  ROBO DURANTE TRASLADO DE VALORES (NOMINA) SIN ...          1\n",
              "216  ROBO DURANTE TRASLADO DE VALORES (NOMINA) CON ...          1\n",
              "198                                    ROBO DE INFANTE          1\n",
              "160    ROBO A PASAJERO EN TREN SUBURBANO CON VIOLENCIA          1\n",
              "\n",
              "[253 rows x 2 columns]"
            ]
          },
          "metadata": {
            "tags": []
          },
          "execution_count": 55
        }
      ]
    },
    {
      "cell_type": "code",
      "metadata": {
        "id": "dyC9EwSGLDOE",
        "colab": {
          "base_uri": "https://localhost:8080/",
          "height": 407
        },
        "outputId": "b08bbe16-0d72-4d17-8782-eb43d5b208da"
      },
      "source": [
        "df6, df7 = [x for _, x in df_casting.groupby(df_casting['ao_hechos'] == 2019)]\n",
        "g=df7.groupby('delito')['ao_hechos'].size().reset_index()\n",
        "res=g.sort_values(\"ao_hechos\", ascending=False)\n",
        "res"
      ],
      "execution_count": null,
      "outputs": [
        {
          "output_type": "execute_result",
          "data": {
            "text/html": [
              "<div>\n",
              "<style scoped>\n",
              "    .dataframe tbody tr th:only-of-type {\n",
              "        vertical-align: middle;\n",
              "    }\n",
              "\n",
              "    .dataframe tbody tr th {\n",
              "        vertical-align: top;\n",
              "    }\n",
              "\n",
              "    .dataframe thead th {\n",
              "        text-align: right;\n",
              "    }\n",
              "</style>\n",
              "<table border=\"1\" class=\"dataframe\">\n",
              "  <thead>\n",
              "    <tr style=\"text-align: right;\">\n",
              "      <th></th>\n",
              "      <th>delito</th>\n",
              "      <th>ao_hechos</th>\n",
              "    </tr>\n",
              "  </thead>\n",
              "  <tbody>\n",
              "    <tr>\n",
              "      <th>239</th>\n",
              "      <td>VIOLENCIA FAMILIAR</td>\n",
              "      <td>25430</td>\n",
              "    </tr>\n",
              "    <tr>\n",
              "      <th>129</th>\n",
              "      <td>ROBO A NEGOCIO SIN VIOLENCIA</td>\n",
              "      <td>15741</td>\n",
              "    </tr>\n",
              "    <tr>\n",
              "      <th>7</th>\n",
              "      <td>AMENAZAS</td>\n",
              "      <td>13677</td>\n",
              "    </tr>\n",
              "    <tr>\n",
              "      <th>64</th>\n",
              "      <td>FRAUDE</td>\n",
              "      <td>13601</td>\n",
              "    </tr>\n",
              "    <tr>\n",
              "      <th>174</th>\n",
              "      <td>ROBO A TRANSEUNTE EN VIA PUBLICA CON VIOLENCIA</td>\n",
              "      <td>13230</td>\n",
              "    </tr>\n",
              "    <tr>\n",
              "      <th>...</th>\n",
              "      <td>...</td>\n",
              "      <td>...</td>\n",
              "    </tr>\n",
              "    <tr>\n",
              "      <th>94</th>\n",
              "      <td>LEY FEDERAL DE ARMAS DE FUEGO Y EXPLOSIVOS</td>\n",
              "      <td>1</td>\n",
              "    </tr>\n",
              "    <tr>\n",
              "      <th>49</th>\n",
              "      <td>ENRIQUECIMIENTO ILICITO</td>\n",
              "      <td>1</td>\n",
              "    </tr>\n",
              "    <tr>\n",
              "      <th>50</th>\n",
              "      <td>ENTREGA ILEGITIMA DE UN MENOR</td>\n",
              "      <td>1</td>\n",
              "    </tr>\n",
              "    <tr>\n",
              "      <th>16</th>\n",
              "      <td>CONTAGIO VENERERO</td>\n",
              "      <td>1</td>\n",
              "    </tr>\n",
              "    <tr>\n",
              "      <th>79</th>\n",
              "      <td>INTIMIDACION (EVITAR DENUNCIA, APORTE INFORMAC...</td>\n",
              "      <td>1</td>\n",
              "    </tr>\n",
              "  </tbody>\n",
              "</table>\n",
              "<p>240 rows × 2 columns</p>\n",
              "</div>"
            ],
            "text/plain": [
              "                                                delito  ao_hechos\n",
              "239                                 VIOLENCIA FAMILIAR      25430\n",
              "129                       ROBO A NEGOCIO SIN VIOLENCIA      15741\n",
              "7                                             AMENAZAS      13677\n",
              "64                                              FRAUDE      13601\n",
              "174     ROBO A TRANSEUNTE EN VIA PUBLICA CON VIOLENCIA      13230\n",
              "..                                                 ...        ...\n",
              "94          LEY FEDERAL DE ARMAS DE FUEGO Y EXPLOSIVOS          1\n",
              "49                             ENRIQUECIMIENTO ILICITO          1\n",
              "50                       ENTREGA ILEGITIMA DE UN MENOR          1\n",
              "16                                   CONTAGIO VENERERO          1\n",
              "79   INTIMIDACION (EVITAR DENUNCIA, APORTE INFORMAC...          1\n",
              "\n",
              "[240 rows x 2 columns]"
            ]
          },
          "metadata": {
            "tags": []
          },
          "execution_count": 56
        }
      ]
    },
    {
      "cell_type": "code",
      "metadata": {
        "colab": {
          "base_uri": "https://localhost:8080/",
          "height": 407
        },
        "id": "OaUXChL2mYHN",
        "outputId": "ae392ee1-7f9c-4a3a-aafd-66b34dead78f"
      },
      "source": [
        "df6, df7 = [x for _, x in df_casting.groupby(df_casting['ao_hechos'] == 2020)]\n",
        "g=df7.groupby('delito')['ao_hechos'].size().reset_index()\n",
        "res=g.sort_values(\"ao_hechos\", ascending=False)\n",
        "res"
      ],
      "execution_count": null,
      "outputs": [
        {
          "output_type": "execute_result",
          "data": {
            "text/html": [
              "<div>\n",
              "<style scoped>\n",
              "    .dataframe tbody tr th:only-of-type {\n",
              "        vertical-align: middle;\n",
              "    }\n",
              "\n",
              "    .dataframe tbody tr th {\n",
              "        vertical-align: top;\n",
              "    }\n",
              "\n",
              "    .dataframe thead th {\n",
              "        text-align: right;\n",
              "    }\n",
              "</style>\n",
              "<table border=\"1\" class=\"dataframe\">\n",
              "  <thead>\n",
              "    <tr style=\"text-align: right;\">\n",
              "      <th></th>\n",
              "      <th>delito</th>\n",
              "      <th>ao_hechos</th>\n",
              "    </tr>\n",
              "  </thead>\n",
              "  <tbody>\n",
              "    <tr>\n",
              "      <th>250</th>\n",
              "      <td>VIOLENCIA FAMILIAR</td>\n",
              "      <td>27573</td>\n",
              "    </tr>\n",
              "    <tr>\n",
              "      <th>7</th>\n",
              "      <td>AMENAZAS</td>\n",
              "      <td>14212</td>\n",
              "    </tr>\n",
              "    <tr>\n",
              "      <th>62</th>\n",
              "      <td>FRAUDE</td>\n",
              "      <td>12489</td>\n",
              "    </tr>\n",
              "    <tr>\n",
              "      <th>199</th>\n",
              "      <td>ROBO DE OBJETOS</td>\n",
              "      <td>9005</td>\n",
              "    </tr>\n",
              "    <tr>\n",
              "      <th>179</th>\n",
              "      <td>ROBO A TRANSEUNTE EN VIA PUBLICA CON VIOLENCIA</td>\n",
              "      <td>8588</td>\n",
              "    </tr>\n",
              "    <tr>\n",
              "      <th>...</th>\n",
              "      <td>...</td>\n",
              "      <td>...</td>\n",
              "    </tr>\n",
              "    <tr>\n",
              "      <th>155</th>\n",
              "      <td>ROBO A PASAJERO EN TREN LIGERO CON VIOLENCIA</td>\n",
              "      <td>1</td>\n",
              "    </tr>\n",
              "    <tr>\n",
              "      <th>183</th>\n",
              "      <td>ROBO A TRANSEUNTE Y VEHICULO CON VIOLENCIA</td>\n",
              "      <td>1</td>\n",
              "    </tr>\n",
              "    <tr>\n",
              "      <th>35</th>\n",
              "      <td>DELITOS CONTRA LA SALUD</td>\n",
              "      <td>1</td>\n",
              "    </tr>\n",
              "    <tr>\n",
              "      <th>72</th>\n",
              "      <td>HOMICIDIO DOLOSO</td>\n",
              "      <td>1</td>\n",
              "    </tr>\n",
              "    <tr>\n",
              "      <th>78</th>\n",
              "      <td>INCESTO</td>\n",
              "      <td>1</td>\n",
              "    </tr>\n",
              "  </tbody>\n",
              "</table>\n",
              "<p>251 rows × 2 columns</p>\n",
              "</div>"
            ],
            "text/plain": [
              "                                             delito  ao_hechos\n",
              "250                              VIOLENCIA FAMILIAR      27573\n",
              "7                                          AMENAZAS      14212\n",
              "62                                           FRAUDE      12489\n",
              "199                                 ROBO DE OBJETOS       9005\n",
              "179  ROBO A TRANSEUNTE EN VIA PUBLICA CON VIOLENCIA       8588\n",
              "..                                              ...        ...\n",
              "155    ROBO A PASAJERO EN TREN LIGERO CON VIOLENCIA          1\n",
              "183      ROBO A TRANSEUNTE Y VEHICULO CON VIOLENCIA          1\n",
              "35                          DELITOS CONTRA LA SALUD          1\n",
              "72                                 HOMICIDIO DOLOSO          1\n",
              "78                                          INCESTO          1\n",
              "\n",
              "[251 rows x 2 columns]"
            ]
          },
          "metadata": {
            "tags": []
          },
          "execution_count": 57
        }
      ]
    },
    {
      "cell_type": "code",
      "metadata": {
        "colab": {
          "base_uri": "https://localhost:8080/",
          "height": 407
        },
        "id": "K5WXqWGtma6c",
        "outputId": "7c1c3ead-2ae8-4aad-8faf-0752df35f968"
      },
      "source": [
        "df6, df7 = [x for _, x in df_casting.groupby(df_casting['ao_hechos'] == 2021)]\n",
        "g=df7.groupby('delito')['ao_hechos'].size().reset_index()\n",
        "res=g.sort_values(\"ao_hechos\", ascending=False)\n",
        "res"
      ],
      "execution_count": null,
      "outputs": [
        {
          "output_type": "execute_result",
          "data": {
            "text/html": [
              "<div>\n",
              "<style scoped>\n",
              "    .dataframe tbody tr th:only-of-type {\n",
              "        vertical-align: middle;\n",
              "    }\n",
              "\n",
              "    .dataframe tbody tr th {\n",
              "        vertical-align: top;\n",
              "    }\n",
              "\n",
              "    .dataframe thead th {\n",
              "        text-align: right;\n",
              "    }\n",
              "</style>\n",
              "<table border=\"1\" class=\"dataframe\">\n",
              "  <thead>\n",
              "    <tr style=\"text-align: right;\">\n",
              "      <th></th>\n",
              "      <th>delito</th>\n",
              "      <th>ao_hechos</th>\n",
              "    </tr>\n",
              "  </thead>\n",
              "  <tbody>\n",
              "    <tr>\n",
              "      <th>238</th>\n",
              "      <td>VIOLENCIA FAMILIAR</td>\n",
              "      <td>16110</td>\n",
              "    </tr>\n",
              "    <tr>\n",
              "      <th>7</th>\n",
              "      <td>AMENAZAS</td>\n",
              "      <td>7907</td>\n",
              "    </tr>\n",
              "    <tr>\n",
              "      <th>59</th>\n",
              "      <td>FRAUDE</td>\n",
              "      <td>5990</td>\n",
              "    </tr>\n",
              "    <tr>\n",
              "      <th>188</th>\n",
              "      <td>ROBO DE OBJETOS</td>\n",
              "      <td>4684</td>\n",
              "    </tr>\n",
              "    <tr>\n",
              "      <th>166</th>\n",
              "      <td>ROBO A TRANSEUNTE EN VIA PUBLICA CON VIOLENCIA</td>\n",
              "      <td>4182</td>\n",
              "    </tr>\n",
              "    <tr>\n",
              "      <th>...</th>\n",
              "      <td>...</td>\n",
              "      <td>...</td>\n",
              "    </tr>\n",
              "    <tr>\n",
              "      <th>195</th>\n",
              "      <td>ROBO DE VEHICULO DE SERVICIO OFICIAL CON VIOLE...</td>\n",
              "      <td>1</td>\n",
              "    </tr>\n",
              "    <tr>\n",
              "      <th>58</th>\n",
              "      <td>FEMINICIDIO POR GOLPES</td>\n",
              "      <td>1</td>\n",
              "    </tr>\n",
              "    <tr>\n",
              "      <th>61</th>\n",
              "      <td>HOMICIDIO CULPOSO</td>\n",
              "      <td>1</td>\n",
              "    </tr>\n",
              "    <tr>\n",
              "      <th>165</th>\n",
              "      <td>ROBO A TRANSEUNTE EN VIA PUBLICA (NOMINA) SIN ...</td>\n",
              "      <td>1</td>\n",
              "    </tr>\n",
              "    <tr>\n",
              "      <th>70</th>\n",
              "      <td>HOMICIDIO POR AHORCAMIENTO</td>\n",
              "      <td>1</td>\n",
              "    </tr>\n",
              "  </tbody>\n",
              "</table>\n",
              "<p>239 rows × 2 columns</p>\n",
              "</div>"
            ],
            "text/plain": [
              "                                                delito  ao_hechos\n",
              "238                                 VIOLENCIA FAMILIAR      16110\n",
              "7                                             AMENAZAS       7907\n",
              "59                                              FRAUDE       5990\n",
              "188                                    ROBO DE OBJETOS       4684\n",
              "166     ROBO A TRANSEUNTE EN VIA PUBLICA CON VIOLENCIA       4182\n",
              "..                                                 ...        ...\n",
              "195  ROBO DE VEHICULO DE SERVICIO OFICIAL CON VIOLE...          1\n",
              "58                              FEMINICIDIO POR GOLPES          1\n",
              "61                                   HOMICIDIO CULPOSO          1\n",
              "165  ROBO A TRANSEUNTE EN VIA PUBLICA (NOMINA) SIN ...          1\n",
              "70                          HOMICIDIO POR AHORCAMIENTO          1\n",
              "\n",
              "[239 rows x 2 columns]"
            ]
          },
          "metadata": {
            "tags": []
          },
          "execution_count": 58
        }
      ]
    },
    {
      "cell_type": "markdown",
      "metadata": {
        "id": "rvB5WJVansm_"
      },
      "source": [
        "#### 6.2.6 *¿En qué horarios durante el día se cometen mayor número de algún tipo de delito?*"
      ]
    },
    {
      "cell_type": "code",
      "metadata": {
        "colab": {
          "base_uri": "https://localhost:8080/",
          "height": 475
        },
        "id": "irlhkbtZT_VS",
        "outputId": "dccac21f-a449-4afe-964e-00671c69f3dd"
      },
      "source": [
        "# Primero extraemos la hora de la columna 'fecha_hechos':\n",
        "horas= pd.DatetimeIndex(df_casting['fecha_hechos']).hour\n",
        "\n",
        "# Ahora añadimos la columna 'hora_hechos' al dataframe:\n",
        "df_casting['hora_hechos']=horas\n",
        "df_casting.tail()\n"
      ],
      "execution_count": null,
      "outputs": [
        {
          "output_type": "execute_result",
          "data": {
            "text/html": [
              "<div>\n",
              "<style scoped>\n",
              "    .dataframe tbody tr th:only-of-type {\n",
              "        vertical-align: middle;\n",
              "    }\n",
              "\n",
              "    .dataframe tbody tr th {\n",
              "        vertical-align: top;\n",
              "    }\n",
              "\n",
              "    .dataframe thead th {\n",
              "        text-align: right;\n",
              "    }\n",
              "</style>\n",
              "<table border=\"1\" class=\"dataframe\">\n",
              "  <thead>\n",
              "    <tr style=\"text-align: right;\">\n",
              "      <th></th>\n",
              "      <th>ao_hechos</th>\n",
              "      <th>mes_hechos</th>\n",
              "      <th>fecha_hechos</th>\n",
              "      <th>ao_inicio</th>\n",
              "      <th>mes_inicio</th>\n",
              "      <th>fecha_inicio</th>\n",
              "      <th>delito</th>\n",
              "      <th>fiscalia</th>\n",
              "      <th>categoria_delito</th>\n",
              "      <th>colonia_hechos</th>\n",
              "      <th>alcaldia_hechos</th>\n",
              "      <th>longitud</th>\n",
              "      <th>latitud</th>\n",
              "      <th>hora_hechos</th>\n",
              "    </tr>\n",
              "  </thead>\n",
              "  <tbody>\n",
              "    <tr>\n",
              "      <th>1125123</th>\n",
              "      <td>2021</td>\n",
              "      <td>Junio</td>\n",
              "      <td>2021-06-29 17:00:00</td>\n",
              "      <td>2021</td>\n",
              "      <td>Junio</td>\n",
              "      <td>2021-06-30 23:32:31</td>\n",
              "      <td>LESIONES CULPOSAS POR TRANSITO VEHICULAR EN CO...</td>\n",
              "      <td>FISCALÍA DE INVESTIGACIÓN TERRITORIAL EN MILPA...</td>\n",
              "      <td>DELITO DE BAJO IMPACTO</td>\n",
              "      <td>SAN MARCOS (SANTA ANA TLACOTENCO)</td>\n",
              "      <td>MILPA ALTA</td>\n",
              "      <td>-98.992460</td>\n",
              "      <td>19.168371</td>\n",
              "      <td>17</td>\n",
              "    </tr>\n",
              "    <tr>\n",
              "      <th>1125124</th>\n",
              "      <td>2021</td>\n",
              "      <td>Junio</td>\n",
              "      <td>2021-06-04 19:00:00</td>\n",
              "      <td>2021</td>\n",
              "      <td>Junio</td>\n",
              "      <td>2021-06-30 23:36:45</td>\n",
              "      <td>ROBO DE ACCESORIOS DE AUTO</td>\n",
              "      <td>FISCALÍA DE INVESTIGACIÓN TERRITORIAL EN CUAUH...</td>\n",
              "      <td>DELITO DE BAJO IMPACTO</td>\n",
              "      <td>HIPÓDROMO</td>\n",
              "      <td>CUAUHTEMOC</td>\n",
              "      <td>-99.168311</td>\n",
              "      <td>19.412001</td>\n",
              "      <td>19</td>\n",
              "    </tr>\n",
              "    <tr>\n",
              "      <th>1125125</th>\n",
              "      <td>2021</td>\n",
              "      <td>Junio</td>\n",
              "      <td>2021-06-30 19:40:00</td>\n",
              "      <td>2021</td>\n",
              "      <td>Junio</td>\n",
              "      <td>2021-06-30 23:37:12</td>\n",
              "      <td>AMENAZAS</td>\n",
              "      <td>FISCALÍA DE INVESTIGACIÓN TERRITORIAL EN IZTAC...</td>\n",
              "      <td>DELITO DE BAJO IMPACTO</td>\n",
              "      <td>AGRÍCOLA PANTITLAN</td>\n",
              "      <td>IZTACALCO</td>\n",
              "      <td>-99.061716</td>\n",
              "      <td>19.419028</td>\n",
              "      <td>19</td>\n",
              "    </tr>\n",
              "    <tr>\n",
              "      <th>1125126</th>\n",
              "      <td>2021</td>\n",
              "      <td>Mayo</td>\n",
              "      <td>2021-05-16 21:08:00</td>\n",
              "      <td>2021</td>\n",
              "      <td>Junio</td>\n",
              "      <td>2021-06-30 23:45:57</td>\n",
              "      <td>DAÑO EN PROPIEDAD AJENA INTENCIONAL</td>\n",
              "      <td>FISCALÍA DE INVESTIGACIÓN TERRITORIAL EN CUAUH...</td>\n",
              "      <td>DELITO DE BAJO IMPACTO</td>\n",
              "      <td>ROMA NORTE</td>\n",
              "      <td>CUAUHTEMOC</td>\n",
              "      <td>-99.158994</td>\n",
              "      <td>19.418615</td>\n",
              "      <td>21</td>\n",
              "    </tr>\n",
              "    <tr>\n",
              "      <th>1125127</th>\n",
              "      <td>2021</td>\n",
              "      <td>Junio</td>\n",
              "      <td>2021-06-29 17:00:00</td>\n",
              "      <td>2021</td>\n",
              "      <td>Junio</td>\n",
              "      <td>2021-06-30 23:52:34</td>\n",
              "      <td>LESIONES INTENCIONALES POR ARMA BLANCA</td>\n",
              "      <td>FISCALÍA DE INVESTIGACIÓN TERRITORIAL EN IZTAP...</td>\n",
              "      <td>DELITO DE BAJO IMPACTO</td>\n",
              "      <td>LOMAS DE SAN LORENZO</td>\n",
              "      <td>IZTAPALAPA</td>\n",
              "      <td>-99.069557</td>\n",
              "      <td>19.321406</td>\n",
              "      <td>17</td>\n",
              "    </tr>\n",
              "  </tbody>\n",
              "</table>\n",
              "</div>"
            ],
            "text/plain": [
              "         ao_hechos mes_hechos  ...    latitud  hora_hechos\n",
              "1125123       2021      Junio  ...  19.168371           17\n",
              "1125124       2021      Junio  ...  19.412001           19\n",
              "1125125       2021      Junio  ...  19.419028           19\n",
              "1125126       2021       Mayo  ...  19.418615           21\n",
              "1125127       2021      Junio  ...  19.321406           17\n",
              "\n",
              "[5 rows x 14 columns]"
            ]
          },
          "metadata": {
            "tags": []
          },
          "execution_count": 59
        }
      ]
    },
    {
      "cell_type": "code",
      "metadata": {
        "colab": {
          "base_uri": "https://localhost:8080/"
        },
        "id": "bQVcA2nRUAq1",
        "outputId": "9bf6b50d-8195-481b-dc46-57404ddb1af2"
      },
      "source": [
        "# y hacemos un size para contar el número la frecuencia de delitos por hora (durante el perido 2016-2021). Al parecer, las 12 del día es la hora en la\n",
        "# que sueden más delitos. \n",
        "df_casting.groupby('hora_hechos').size().sort_values(ascending=False)"
      ],
      "execution_count": null,
      "outputs": [
        {
          "output_type": "execute_result",
          "data": {
            "text/plain": [
              "hora_hechos\n",
              "12    123303\n",
              "10     72026\n",
              "15     63833\n",
              "14     63676\n",
              "11     59643\n",
              "13     59446\n",
              "20     59390\n",
              "16     58850\n",
              "19     56646\n",
              "18     56499\n",
              "17     55404\n",
              "9      52312\n",
              "21     52130\n",
              "8      43027\n",
              "22     42961\n",
              "7      34819\n",
              "23     33029\n",
              "6      26245\n",
              "0      23779\n",
              "1      19789\n",
              "5      18428\n",
              "2      17975\n",
              "3      17127\n",
              "4      14791\n",
              "dtype: int64"
            ]
          },
          "metadata": {
            "tags": []
          },
          "execution_count": 60
        }
      ]
    },
    {
      "cell_type": "markdown",
      "metadata": {
        "id": "28wKEwldW2wf"
      },
      "source": [
        "## Descargamos un archivo csv con las columnas necesarias para mapear en el programa que desarrollamos con la API de Google Maps"
      ]
    },
    {
      "cell_type": "code",
      "metadata": {
        "id": "D95aM28tGvWF"
      },
      "source": [
        "#Borramos las columnas que no nos servían mucho para mapear y nos concentramos más en la longitud y latitud\n",
        "df5=df_casting.drop(['mes_hechos',\t'fecha_hechos',\t'ao_inicio',\t'mes_inicio',\t'fecha_inicio', 'fiscalia',\t'colonia_hechos',\t'alcaldia_hechos',\t'hora_hechos'], axis = 1)"
      ],
      "execution_count": null,
      "outputs": []
    },
    {
      "cell_type": "code",
      "metadata": {
        "id": "JLrxL8zmQRLP"
      },
      "source": [
        "#Filtramos los delitos del último año\n",
        "df6, df7 = [x for _, x in df5.groupby(df5['ao_hechos'] == 2021)]\n",
        "df7"
      ],
      "execution_count": null,
      "outputs": []
    },
    {
      "cell_type": "code",
      "metadata": {
        "id": "c3R1FFiUYvr9",
        "colab": {
          "base_uri": "https://localhost:8080/"
        },
        "outputId": "f7f8439e-fc7a-4b0f-f0da-6e6dc4a9e797"
      },
      "source": [
        "#Agrupamos por delito para obtener el número de delitos por delito del 2021\n",
        "df7.groupby(['categoria_delito']).size()"
      ],
      "execution_count": null,
      "outputs": [
        {
          "output_type": "execute_result",
          "data": {
            "text/plain": [
              "categoria_delito\n",
              "DELITO DE BAJO IMPACTO                                     81021\n",
              "HOMICIDIO DOLOSO                                             451\n",
              "LESIONES DOLOSAS POR DISPARO DE ARMA DE FUEGO                276\n",
              "ROBO A CASA HABITACIÓN CON VIOLENCIA                         256\n",
              "ROBO A CUENTAHABIENTE SALIENDO DEL CAJERO CON VIOLENCIA      173\n",
              "ROBO A NEGOCIO CON VIOLENCIA                                1355\n",
              "ROBO A PASAJERO A BORDO DE MICROBUS CON Y SIN VIOLENCIA      185\n",
              "ROBO A PASAJERO A BORDO DE TAXI CON VIOLENCIA                117\n",
              "ROBO A PASAJERO A BORDO DEL METRO CON Y SIN VIOLENCIA        363\n",
              "ROBO A REPARTIDOR CON Y SIN VIOLENCIA                       1086\n",
              "ROBO A TRANSEUNTE EN VÍA PÚBLICA CON Y SIN VIOLENCIA        5044\n",
              "ROBO A TRANSPORTISTA CON Y SIN VIOLENCIA                      43\n",
              "ROBO DE VEHÍCULO CON Y SIN VIOLENCIA                        3740\n",
              "SECUESTRO                                                      5\n",
              "VIOLACIÓN                                                    622\n",
              "dtype: int64"
            ]
          },
          "metadata": {
            "tags": []
          },
          "execution_count": 76
        }
      ]
    },
    {
      "cell_type": "code",
      "metadata": {
        "id": "jU7O_lrlY3RM"
      },
      "source": [
        "#Elegimos violación como ejemplo para mapear\n",
        "df8, df9 = [x for _, x in df7.groupby(df7['categoria_delito'] == 'VIOLACIÓN')]\n",
        "df9"
      ],
      "execution_count": null,
      "outputs": []
    },
    {
      "cell_type": "code",
      "metadata": {
        "id": "u9KWrP7_u0im"
      },
      "source": [
        "#Convertimos el DataFrame a un archivo .csv\n",
        "df9.to_csv('carpeta_de_invetigacion_FGJ_VIOLACION.csv')"
      ],
      "execution_count": null,
      "outputs": []
    },
    {
      "cell_type": "code",
      "metadata": {
        "id": "_R7pcqylAb2N",
        "colab": {
          "base_uri": "https://localhost:8080/",
          "height": 17
        },
        "outputId": "3d1c8785-d995-4c14-d6fe-6bb3a322bc4e"
      },
      "source": [
        "#Finalmente descargamos el archivo\n",
        "from google.colab import files\n",
        "files.download(\"carpeta_de_invetigacion_FGJ_VIOLACION.csv\")"
      ],
      "execution_count": null,
      "outputs": [
        {
          "output_type": "display_data",
          "data": {
            "application/javascript": [
              "\n",
              "    async function download(id, filename, size) {\n",
              "      if (!google.colab.kernel.accessAllowed) {\n",
              "        return;\n",
              "      }\n",
              "      const div = document.createElement('div');\n",
              "      const label = document.createElement('label');\n",
              "      label.textContent = `Downloading \"${filename}\": `;\n",
              "      div.appendChild(label);\n",
              "      const progress = document.createElement('progress');\n",
              "      progress.max = size;\n",
              "      div.appendChild(progress);\n",
              "      document.body.appendChild(div);\n",
              "\n",
              "      const buffers = [];\n",
              "      let downloaded = 0;\n",
              "\n",
              "      const channel = await google.colab.kernel.comms.open(id);\n",
              "      // Send a message to notify the kernel that we're ready.\n",
              "      channel.send({})\n",
              "\n",
              "      for await (const message of channel.messages) {\n",
              "        // Send a message to notify the kernel that we're ready.\n",
              "        channel.send({})\n",
              "        if (message.buffers) {\n",
              "          for (const buffer of message.buffers) {\n",
              "            buffers.push(buffer);\n",
              "            downloaded += buffer.byteLength;\n",
              "            progress.value = downloaded;\n",
              "          }\n",
              "        }\n",
              "      }\n",
              "      const blob = new Blob(buffers, {type: 'application/binary'});\n",
              "      const a = document.createElement('a');\n",
              "      a.href = window.URL.createObjectURL(blob);\n",
              "      a.download = filename;\n",
              "      div.appendChild(a);\n",
              "      a.click();\n",
              "      div.remove();\n",
              "    }\n",
              "  "
            ],
            "text/plain": [
              "<IPython.core.display.Javascript object>"
            ]
          },
          "metadata": {
            "tags": []
          }
        },
        {
          "output_type": "display_data",
          "data": {
            "application/javascript": [
              "download(\"download_055b4257-207d-4b5b-b515-2ad0918167e4\", \"carpeta_de_invetigacion_FGJ_VIOLACION.csv\", 46331)"
            ],
            "text/plain": [
              "<IPython.core.display.Javascript object>"
            ]
          },
          "metadata": {
            "tags": []
          }
        }
      ]
    },
    {
      "cell_type": "markdown",
      "metadata": {
        "id": "n-SCg5nrYv-3"
      },
      "source": [
        "# Mapas"
      ]
    },
    {
      "cell_type": "code",
      "metadata": {
        "id": "mLFsLvGEg1Rb",
        "colab": {
          "base_uri": "https://localhost:8080/"
        },
        "outputId": "df543351-2913-48ac-ca7c-1147f57b8d12"
      },
      "source": [
        "!pip install -q plotly==5.1.0"
      ],
      "execution_count": null,
      "outputs": [
        {
          "output_type": "stream",
          "text": [
            "\u001b[K     |████████████████████████████████| 20.6 MB 50.0 MB/s \n",
            "\u001b[?25h"
          ],
          "name": "stdout"
        }
      ]
    },
    {
      "cell_type": "code",
      "metadata": {
        "id": "IrZfYFCaY0jv",
        "colab": {
          "base_uri": "https://localhost:8080/",
          "height": 244
        },
        "outputId": "f7ba2b7f-3182-4311-d060-57eeebf37bd0"
      },
      "source": [
        "import plotly.graph_objects as go\n",
        "\n",
        "mapbox_access_token = 'pk.eyJ1IjoiYXZpbGFqdWxpb2MiLCJhIjoiY2tzNzBvYmswMDdndjJ1cGNoenltcHMwNiJ9.MJb7m3-Xqq6GEbEs6gz6UQ'\n",
        "\n",
        "fig = go.Figure(go.Scattermapbox(\n",
        "        lat=lat,\n",
        "        lon=lon,\n",
        "        mode='markers',\n",
        "        marker=go.scattermapbox.Marker(\n",
        "            size=9\n",
        "        ),\n",
        "        text=cat,\n",
        "))\n",
        "fig.update_layout(\n",
        "    autosize=True,\n",
        "    hovermode='closest',\n",
        "    mapbox=dict(\n",
        "        accesstoken=mapbox_access_token,\n",
        "        bearing=0,\n",
        "        center=dict(\n",
        "            lat=19.4303,\n",
        "            lon=99.1373\n",
        "        ),\n",
        "        pitch=0,\n",
        "        zoom=10\n",
        "    ),\n",
        ")\n",
        "\n",
        "fig.show(renderer='colab')"
      ],
      "execution_count": null,
      "outputs": [
        {
          "output_type": "error",
          "ename": "NameError",
          "evalue": "ignored",
          "traceback": [
            "\u001b[0;31m---------------------------------------------------------------------------\u001b[0m",
            "\u001b[0;31mNameError\u001b[0m                                 Traceback (most recent call last)",
            "\u001b[0;32m<ipython-input-82-2bedc93afcd6>\u001b[0m in \u001b[0;36m<module>\u001b[0;34m()\u001b[0m\n\u001b[1;32m      4\u001b[0m \u001b[0;34m\u001b[0m\u001b[0m\n\u001b[1;32m      5\u001b[0m fig = go.Figure(go.Scattermapbox(\n\u001b[0;32m----> 6\u001b[0;31m         \u001b[0mlat\u001b[0m\u001b[0;34m=\u001b[0m\u001b[0mlat\u001b[0m\u001b[0;34m,\u001b[0m\u001b[0;34m\u001b[0m\u001b[0;34m\u001b[0m\u001b[0m\n\u001b[0m\u001b[1;32m      7\u001b[0m         \u001b[0mlon\u001b[0m\u001b[0;34m=\u001b[0m\u001b[0mlon\u001b[0m\u001b[0;34m,\u001b[0m\u001b[0;34m\u001b[0m\u001b[0;34m\u001b[0m\u001b[0m\n\u001b[1;32m      8\u001b[0m         \u001b[0mmode\u001b[0m\u001b[0;34m=\u001b[0m\u001b[0;34m'markers'\u001b[0m\u001b[0;34m,\u001b[0m\u001b[0;34m\u001b[0m\u001b[0;34m\u001b[0m\u001b[0m\n",
            "\u001b[0;31mNameError\u001b[0m: name 'lat' is not defined"
          ]
        }
      ]
    },
    {
      "cell_type": "code",
      "metadata": {
        "id": "flewzuG2iX4b"
      },
      "source": [
        "df_map = df5.loc[df5[\"latitud\"].notna() & (df5[\"ao_hechos\"] == 2021)]"
      ],
      "execution_count": null,
      "outputs": []
    },
    {
      "cell_type": "code",
      "metadata": {
        "id": "siTR30MqmZ74"
      },
      "source": [
        "lat = [str(lat) for lat in df_map[\"latitud\"].to_list()]\n",
        "lon = [str(lon) for lon in df_map[\"longitud\"].to_list()]\n",
        "cat = [str(lon) for lon in df_map[\"categoria_delito\"].to_list()]"
      ],
      "execution_count": null,
      "outputs": []
    }
  ]
}